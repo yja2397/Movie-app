{
 "cells": [
  {
   "cell_type": "code",
   "execution_count": 28,
   "metadata": {},
   "outputs": [],
   "source": [
    "# https://blog.naver.com/imsam77/221260229647\n",
    "\n",
    "from konlpy.tag import Twitter\n",
    "from collections import Counter"
   ]
  },
  {
   "cell_type": "code",
   "execution_count": 29,
   "metadata": {},
   "outputs": [],
   "source": [
    "okt = Okt()"
   ]
  },
  {
   "cell_type": "code",
   "execution_count": 31,
   "metadata": {
    "collapsed": true
   },
   "outputs": [],
   "source": [
    "sentences = ['영화 추천해 줘', '공포 영화 중에 추천해줄 거 있어?', '2014년에 개봉된 영화 보여줘', '안녕', '더 볼래', '다른 거 찾아볼래']"
   ]
  },
  {
   "cell_type": "code",
   "execution_count": 32,
   "metadata": {
    "collapsed": true
   },
   "outputs": [],
   "source": [
    "sentences_tag = []"
   ]
  },
  {
   "cell_type": "code",
   "execution_count": 33,
   "metadata": {},
   "outputs": [
    {
     "name": "stdout",
     "output_type": "stream",
     "text": [
      "[('영화', 'Noun'), ('추천', 'Noun'), ('해', 'Verb'), ('줘', 'Verb')]\n",
      "------------------------------\n",
      "[('공포', 'Noun'), ('영화', 'Noun'), ('중', 'Noun'), ('에', 'Josa'), ('추천', 'Noun'), ('해줄', 'Verb'), ('거', 'Noun'), ('있어', 'Adjective'), ('?', 'Punctuation')]\n",
      "------------------------------\n",
      "[('2014년', 'Number'), ('에', 'Foreign'), ('개봉', 'Noun'), ('된', 'Verb'), ('영화', 'Noun'), ('보여줘', 'Verb')]\n",
      "------------------------------\n",
      "[('안녕', 'Noun')]\n",
      "------------------------------\n",
      "[('더', 'Noun'), ('볼', 'Noun'), ('래', 'Josa')]\n",
      "------------------------------\n",
      "[('다른', 'Noun'), ('거', 'Noun'), ('찾아볼래', 'Verb')]\n",
      "------------------------------\n"
     ]
    }
   ],
   "source": [
    "for sentence in sentences:\n",
    "    morph = okt.pos(sentence)\n",
    "    sentences_tag.append(morph)\n",
    "    print(morph)\n",
    "    print('-'*30)"
   ]
  },
  {
   "cell_type": "code",
   "execution_count": 18,
   "metadata": {},
   "outputs": [
    {
     "name": "stdout",
     "output_type": "stream",
     "text": [
      "[[('영화', 'Noun'), ('추천', 'Noun'), ('해', 'Verb'), ('줘', 'Verb')], [('요즘', 'Noun'), ('어떤', 'Adjective'), ('영화', 'Noun'), ('가', 'Josa'), ('있어', 'Adjective'), ('?', 'Punctuation')], [('2014년', 'Number'), ('에', 'Foreign'), ('개봉', 'Noun'), ('된', 'Verb'), ('영화', 'Noun'), ('보여줘', 'Verb')], [('안녕', 'Noun')], [('더', 'Noun'), ('볼', 'Noun'), ('래', 'Josa')], [('다른', 'Noun'), ('거', 'Noun'), ('찾아볼래', 'Verb')], [('영화', 'Noun'), ('추천', 'Noun'), ('해', 'Verb'), ('줘', 'Verb')], [('요즘', 'Noun'), ('어떤', 'Adjective'), ('영화', 'Noun'), ('가', 'Josa'), ('있어', 'Adjective'), ('?', 'Punctuation')], [('2014년', 'Number'), ('에', 'Foreign'), ('개봉', 'Noun'), ('된', 'Verb'), ('영화', 'Noun'), ('보여줘', 'Verb')], [('안녕', 'Noun')], [('더', 'Noun'), ('볼', 'Noun'), ('래', 'Josa')], [('다른', 'Noun'), ('거', 'Noun'), ('찾아볼래', 'Verb')]]\n"
     ]
    }
   ],
   "source": [
    "print(sentences_tag)"
   ]
  },
  {
   "cell_type": "code",
   "execution_count": 19,
   "metadata": {},
   "outputs": [
    {
     "name": "stdout",
     "output_type": "stream",
     "text": [
      "12\n"
     ]
    }
   ],
   "source": [
    "print(len(sentences_tag))"
   ]
  },
  {
   "cell_type": "code",
   "execution_count": 22,
   "metadata": {},
   "outputs": [],
   "source": [
    "noun_adj_list = []"
   ]
  },
  {
   "cell_type": "code",
   "execution_count": 24,
   "metadata": {},
   "outputs": [],
   "source": [
    "for sentence1 in sentences_tag:\n",
    "    for word, tag in sentence1:\n",
    "        if tag in ['Noun', 'Adjective']:\n",
    "            noun_adj_list.append(word)"
   ]
  },
  {
   "cell_type": "code",
   "execution_count": 27,
   "metadata": {},
   "outputs": [
    {
     "name": "stdout",
     "output_type": "stream",
     "text": [
      "[('영화', 6), ('추천', 2), ('요즘', 2), ('어떤', 2), ('있어', 2), ('개봉', 2), ('안녕', 2), ('더', 2), ('볼', 2), ('다른', 2)]\n"
     ]
    }
   ],
   "source": [
    "counts = Counter(noun_adj_list)\n",
    "print(counts.most_common(10))"
   ]
  },
  {
   "cell_type": "code",
   "execution_count": null,
   "metadata": {
    "collapsed": true
   },
   "outputs": [],
   "source": []
  }
 ],
 "metadata": {
  "kernelspec": {
   "display_name": "Python 3",
   "language": "python",
   "name": "python3"
  },
  "language_info": {
   "codemirror_mode": {
    "name": "ipython",
    "version": 3
   },
   "file_extension": ".py",
   "mimetype": "text/x-python",
   "name": "python",
   "nbconvert_exporter": "python",
   "pygments_lexer": "ipython3",
   "version": "3.6.3"
  }
 },
 "nbformat": 4,
 "nbformat_minor": 2
}

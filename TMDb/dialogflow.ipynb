{
 "cells": [
  {
   "cell_type": "code",
   "execution_count": 1,
   "metadata": {
    "collapsed": true
   },
   "outputs": [],
   "source": [
    "import dialogflow"
   ]
  },
  {
   "cell_type": "code",
   "execution_count": 2,
   "metadata": {
    "collapsed": true
   },
   "outputs": [],
   "source": [
    "def detect_intent_texts(project_id, session_id, texts, language_code):\n",
    "    \"\"\"Returns the result of detect intent with texts as inputs.\n",
    "\n",
    "    Using the same `session_id` between requests allows continuation\n",
    "    of the conversation.\"\"\"\n",
    "\n",
    "    import dialogflow_v2 as dialogflow\n",
    "    session_client = dialogflow.SessionsClient()\n",
    "\n",
    "    session = session_client.session_path(project_id, session_id)\n",
    "    print('Session path: {}\\n'.format(session))\n",
    "\n",
    "    for text in texts:\n",
    "        text_input = dialogflow.types.TextInput(\n",
    "            text=text, language_code=language_code)\n",
    "\n",
    "        query_input = dialogflow.types.QueryInput(text=text_input)\n",
    "\n",
    "        response = session_client.detect_intent(\n",
    "            session=session, query_input=query_input)\n",
    "\n",
    "        print('=' * 20)\n",
    "        print('Query text: {}'.format(response.query_result.query_text))\n",
    "        print('Detected intent: {} (confidence: {})\\n'.format(\n",
    "            response.query_result.intent.display_name,\n",
    "            response.query_result.intent_detection_confidence))\n",
    "        print('Fulfillment text: {}\\n'.format(\n",
    "            response.query_result.fulfillment_text))"
   ]
  },
  {
   "cell_type": "code",
   "execution_count": 3,
   "metadata": {
    "collapsed": true
   },
   "outputs": [],
   "source": [
    "def detect_intent_audio(project_id, session_id, audio_file_path,\n",
    "                        language_code):\n",
    "    \"\"\"Returns the result of detect intent with an audio file as input.\n",
    "\n",
    "    Using the same `session_id` between requests allows continuation\n",
    "    of the conversaion.\"\"\"\n",
    "    import dialogflow_v2 as dialogflow\n",
    "\n",
    "    session_client = dialogflow.SessionsClient()\n",
    "\n",
    "    # Note: hard coding audio_encoding and sample_rate_hertz for simplicity.\n",
    "    audio_encoding = dialogflow.enums.AudioEncoding.AUDIO_ENCODING_LINEAR_16\n",
    "    sample_rate_hertz = 16000\n",
    "\n",
    "    session = session_client.session_path(project_id, session_id)\n",
    "    print('Session path: {}\\n'.format(session))\n",
    "\n",
    "    with open(audio_file_path, 'rb') as audio_file:\n",
    "        input_audio = audio_file.read()\n",
    "\n",
    "    audio_config = dialogflow.types.InputAudioConfig(\n",
    "        audio_encoding=audio_encoding, language_code=language_code,\n",
    "        sample_rate_hertz=sample_rate_hertz)\n",
    "    query_input = dialogflow.types.QueryInput(audio_config=audio_config)\n",
    "\n",
    "    response = session_client.detect_intent(\n",
    "        session=session, query_input=query_input,\n",
    "        input_audio=input_audio)\n",
    "\n",
    "    print('=' * 20)\n",
    "    print('Query text: {}'.format(response.query_result.query_text))\n",
    "    print('Detected intent: {} (confidence: {})\\n'.format(\n",
    "        response.query_result.intent.display_name,\n",
    "        response.query_result.intent_detection_confidence))\n",
    "    print('Fulfillment text: {}\\n'.format(\n",
    "        response.query_result.fulfillment_text))"
   ]
  },
  {
   "cell_type": "code",
   "execution_count": 4,
   "metadata": {
    "collapsed": true
   },
   "outputs": [],
   "source": [
    "def detect_intent_stream(project_id, session_id, audio_file_path,\n",
    "                         language_code):\n",
    "    \"\"\"Returns the result of detect intent with streaming audio as input.\n",
    "\n",
    "    Using the same `session_id` between requests allows continuation\n",
    "    of the conversaion.\"\"\"\n",
    "    import dialogflow_v2 as dialogflow\n",
    "    session_client = dialogflow.SessionsClient()\n",
    "\n",
    "    # Note: hard coding audio_encoding and sample_rate_hertz for simplicity.\n",
    "    audio_encoding = dialogflow.enums.AudioEncoding.AUDIO_ENCODING_LINEAR_16\n",
    "    sample_rate_hertz = 16000\n",
    "\n",
    "    session_path = session_client.session_path(project_id, session_id)\n",
    "    print('Session path: {}\\n'.format(session_path))\n",
    "\n",
    "    def request_generator(audio_config, audio_file_path):\n",
    "        query_input = dialogflow.types.QueryInput(audio_config=audio_config)\n",
    "\n",
    "        # The first request contains the configuration.\n",
    "        yield dialogflow.types.StreamingDetectIntentRequest(\n",
    "            session=session_path, query_input=query_input)\n",
    "\n",
    "        # Here we are reading small chunks of audio data from a local\n",
    "        # audio file.  In practice these chunks should come from\n",
    "        # an audio input device.\n",
    "        with open(audio_file_path, 'rb') as audio_file:\n",
    "            while True:\n",
    "                chunk = audio_file.read(4096)\n",
    "                if not chunk:\n",
    "                    break\n",
    "                # The later requests contains audio data.\n",
    "                yield dialogflow.types.StreamingDetectIntentRequest(\n",
    "                    input_audio=chunk)\n",
    "\n",
    "    audio_config = dialogflow.types.InputAudioConfig(\n",
    "        audio_encoding=audio_encoding, language_code=language_code,\n",
    "        sample_rate_hertz=sample_rate_hertz)\n",
    "\n",
    "    requests = request_generator(audio_config, audio_file_path)\n",
    "    responses = session_client.streaming_detect_intent(requests)\n",
    "\n",
    "    print('=' * 20)\n",
    "    for response in responses:\n",
    "        print('Intermediate transcript: \"{}\".'.format(\n",
    "                response.recognition_result.transcript))\n",
    "\n",
    "    # Note: The result from the last response is the final transcript along\n",
    "    # with the detected content.\n",
    "    query_result = response.query_result\n",
    "\n",
    "    print('=' * 20)\n",
    "    print('Query text: {}'.format(query_result.query_text))\n",
    "    print('Detected intent: {} (confidence: {})\\n'.format(\n",
    "        query_result.intent.display_name,\n",
    "        query_result.intent_detection_confidence))\n",
    "    print('Fulfillment text: {}\\n'.format(\n",
    "        query_result.fulfillment_text))"
   ]
  },
  {
   "cell_type": "code",
   "execution_count": 5,
   "metadata": {
    "collapsed": true
   },
   "outputs": [],
   "source": [
    "def create_intent(project_id, display_name, training_phrases_parts,\n",
    "                  message_texts):\n",
    "    \"\"\"Create an intent of the given intent type.\"\"\"\n",
    "    import dialogflow_v2 as dialogflow\n",
    "    intents_client = dialogflow.IntentsClient()\n",
    "\n",
    "    parent = intents_client.project_agent_path(project_id)\n",
    "    training_phrases = []\n",
    "    for training_phrases_part in training_phrases_parts:\n",
    "        part = dialogflow.types.Intent.TrainingPhrase.Part(\n",
    "            text=training_phrases_part)\n",
    "        # Here we create a new training phrase for each provided part.\n",
    "        training_phrase = dialogflow.types.Intent.TrainingPhrase(parts=[part])\n",
    "        training_phrases.append(training_phrase)\n",
    "\n",
    "    text = dialogflow.types.Intent.Message.Text(text=message_texts)\n",
    "    message = dialogflow.types.Intent.Message(text=text)\n",
    "\n",
    "    intent = dialogflow.types.Intent(\n",
    "        display_name=display_name,\n",
    "        training_phrases=training_phrases,\n",
    "        messages=[message])\n",
    "\n",
    "    response = intents_client.create_intent(parent, intent)\n",
    "\n",
    "    print('Intent created: {}'.format(response))"
   ]
  },
  {
   "cell_type": "code",
   "execution_count": 6,
   "metadata": {
    "collapsed": true
   },
   "outputs": [],
   "source": [
    "def delete_intent(project_id, intent_id):\n",
    "    \"\"\"Delete intent with the given intent type and intent value.\"\"\"\n",
    "    import dialogflow_v2 as dialogflow\n",
    "    intents_client = dialogflow.IntentsClient()\n",
    "\n",
    "    intent_path = intents_client.intent_path(project_id, intent_id)\n",
    "\n",
    "    intents_client.delete_intent(intent_path)"
   ]
  },
  {
   "cell_type": "code",
   "execution_count": 7,
   "metadata": {
    "collapsed": true
   },
   "outputs": [],
   "source": [
    "def create_entity_type(project_id, display_name, kind):\n",
    "    \"\"\"Create an entity type with the given display name.\"\"\"\n",
    "    import dialogflow_v2 as dialogflow\n",
    "    entity_types_client = dialogflow.EntityTypesClient()\n",
    "\n",
    "    parent = entity_types_client.project_agent_path(project_id)\n",
    "    entity_type = dialogflow.types.EntityType(\n",
    "        display_name=display_name, kind=kind)\n",
    "\n",
    "    response = entity_types_client.create_entity_type(parent, entity_type)\n",
    "\n",
    "    print('Entity type created: \\n{}'.format(response))"
   ]
  },
  {
   "cell_type": "code",
   "execution_count": 8,
   "metadata": {
    "collapsed": true
   },
   "outputs": [],
   "source": [
    "def delete_entity_type(project_id, entity_type_id):\n",
    "    \"\"\"Delete entity type with the given entity type name.\"\"\"\n",
    "    import dialogflow_v2 as dialogflow\n",
    "    entity_types_client = dialogflow.EntityTypesClient()\n",
    "\n",
    "    entity_type_path = entity_types_client.entity_type_path(\n",
    "        project_id, entity_type_id)\n",
    "\n",
    "    entity_types_client.delete_entity_type(entity_type_path)"
   ]
  },
  {
   "cell_type": "code",
   "execution_count": 9,
   "metadata": {
    "collapsed": true
   },
   "outputs": [],
   "source": [
    "def create_entity(project_id, entity_type_id, entity_value, synonyms):\n",
    "    \"\"\"Create an entity of the given entity type.\"\"\"\n",
    "    import dialogflow_v2 as dialogflow\n",
    "    entity_types_client = dialogflow.EntityTypesClient()\n",
    "\n",
    "    # Note: synonyms must be exactly [entity_value] if the\n",
    "    # entity_type's kind is KIND_LIST\n",
    "    synonyms = synonyms or [entity_value]\n",
    "\n",
    "    entity_type_path = entity_types_client.entity_type_path(\n",
    "        project_id, entity_type_id)\n",
    "\n",
    "    entity = dialogflow.types.EntityType.Entity()\n",
    "    entity.value = entity_value\n",
    "    entity.synonyms.extend(synonyms)\n",
    "\n",
    "    response = entity_types_client.batch_create_entities(\n",
    "        entity_type_path, [entity])\n",
    "\n",
    "    print('Entity created: {}'.format(response))"
   ]
  },
  {
   "cell_type": "code",
   "execution_count": 10,
   "metadata": {
    "collapsed": true
   },
   "outputs": [],
   "source": [
    "def delete_entity(project_id, entity_type_id, entity_value):\n",
    "    \"\"\"Delete entity with the given entity type and entity value.\"\"\"\n",
    "    import dialogflow_v2 as dialogflow\n",
    "    entity_types_client = dialogflow.EntityTypesClient()\n",
    "\n",
    "    entity_type_path = entity_types_client.entity_type_path(\n",
    "        project_id, entity_type_id)\n",
    "\n",
    "    entity_types_client.batch_delete_entities(\n",
    "        entity_type_path, [entity_value])"
   ]
  },
  {
   "cell_type": "code",
   "execution_count": 11,
   "metadata": {
    "collapsed": true
   },
   "outputs": [],
   "source": [
    "def create_session_entity_type(project_id, session_id, entity_values,\n",
    "                               entity_type_display_name, entity_override_mode):\n",
    "    \"\"\"Create a session entity type with the given display name.\"\"\"\n",
    "    import dialogflow_v2 as dialogflow\n",
    "    session_entity_types_client = dialogflow.SessionEntityTypesClient()\n",
    "\n",
    "    session_path = session_entity_types_client.session_path(\n",
    "        project_id, session_id)\n",
    "    session_entity_type_name = (\n",
    "        session_entity_types_client.session_entity_type_path(\n",
    "            project_id, session_id, entity_type_display_name))\n",
    "\n",
    "    # Here we use the entity value as the only synonym.\n",
    "    entities = [\n",
    "        dialogflow.types.EntityType.Entity(value=value, synonyms=[value])\n",
    "        for value in entity_values]\n",
    "    session_entity_type = dialogflow.types.SessionEntityType(\n",
    "        name=session_entity_type_name,\n",
    "        entity_override_mode=entity_override_mode,\n",
    "        entities=entities)\n",
    "\n",
    "    response = session_entity_types_client.create_session_entity_type(\n",
    "        session_path, session_entity_type)\n",
    "\n",
    "    print('SessionEntityType created: \\n\\n{}'.format(response))"
   ]
  },
  {
   "cell_type": "code",
   "execution_count": 12,
   "metadata": {
    "collapsed": true
   },
   "outputs": [],
   "source": [
    "def delete_session_entity_type(project_id, session_id,\n",
    "                               entity_type_display_name):\n",
    "    \"\"\"Delete session entity type with the given entity type display name.\"\"\"\n",
    "    import dialogflow_v2 as dialogflow\n",
    "    session_entity_types_client = dialogflow.SessionEntityTypesClient()\n",
    "\n",
    "    session_entity_type_name = (\n",
    "        session_entity_types_client.session_entity_type_path(\n",
    "            project_id, session_id, entity_type_display_name))\n",
    "\n",
    "    session_entity_types_client.delete_session_entity_type(\n",
    "        session_entity_type_name)"
   ]
  },
  {
   "cell_type": "code",
   "execution_count": 14,
   "metadata": {},
   "outputs": [
    {
     "name": "stdout",
     "output_type": "stream",
     "text": [
      "Session path: projects/movie-240402/agent/sessions/session1\n",
      "\n"
     ]
    },
    {
     "ename": "NotFound",
     "evalue": "404 com.google.apps.framework.request.NotFoundException: No DesignTimeAgent found for project 'movie-240402'.",
     "output_type": "error",
     "traceback": [
      "\u001b[1;31m---------------------------------------------------------------------------\u001b[0m",
      "\u001b[1;31m_Rendezvous\u001b[0m                               Traceback (most recent call last)",
      "\u001b[1;32mC:\\Anaconda3\\lib\\site-packages\\google\\api_core\\grpc_helpers.py\u001b[0m in \u001b[0;36merror_remapped_callable\u001b[1;34m(*args, **kwargs)\u001b[0m\n\u001b[0;32m     56\u001b[0m         \u001b[1;32mtry\u001b[0m\u001b[1;33m:\u001b[0m\u001b[1;33m\u001b[0m\u001b[0m\n\u001b[1;32m---> 57\u001b[1;33m             \u001b[1;32mreturn\u001b[0m \u001b[0mcallable_\u001b[0m\u001b[1;33m(\u001b[0m\u001b[1;33m*\u001b[0m\u001b[0margs\u001b[0m\u001b[1;33m,\u001b[0m \u001b[1;33m**\u001b[0m\u001b[0mkwargs\u001b[0m\u001b[1;33m)\u001b[0m\u001b[1;33m\u001b[0m\u001b[0m\n\u001b[0m\u001b[0;32m     58\u001b[0m         \u001b[1;32mexcept\u001b[0m \u001b[0mgrpc\u001b[0m\u001b[1;33m.\u001b[0m\u001b[0mRpcError\u001b[0m \u001b[1;32mas\u001b[0m \u001b[0mexc\u001b[0m\u001b[1;33m:\u001b[0m\u001b[1;33m\u001b[0m\u001b[0m\n",
      "\u001b[1;32mC:\\Anaconda3\\lib\\site-packages\\grpc\\_channel.py\u001b[0m in \u001b[0;36m__call__\u001b[1;34m(self, request, timeout, metadata, credentials, wait_for_ready)\u001b[0m\n\u001b[0;32m    561\u001b[0m                                       wait_for_ready)\n\u001b[1;32m--> 562\u001b[1;33m         \u001b[1;32mreturn\u001b[0m \u001b[0m_end_unary_response_blocking\u001b[0m\u001b[1;33m(\u001b[0m\u001b[0mstate\u001b[0m\u001b[1;33m,\u001b[0m \u001b[0mcall\u001b[0m\u001b[1;33m,\u001b[0m \u001b[1;32mFalse\u001b[0m\u001b[1;33m,\u001b[0m \u001b[1;32mNone\u001b[0m\u001b[1;33m)\u001b[0m\u001b[1;33m\u001b[0m\u001b[0m\n\u001b[0m\u001b[0;32m    563\u001b[0m \u001b[1;33m\u001b[0m\u001b[0m\n",
      "\u001b[1;32mC:\\Anaconda3\\lib\\site-packages\\grpc\\_channel.py\u001b[0m in \u001b[0;36m_end_unary_response_blocking\u001b[1;34m(state, call, with_call, deadline)\u001b[0m\n\u001b[0;32m    465\u001b[0m     \u001b[1;32melse\u001b[0m\u001b[1;33m:\u001b[0m\u001b[1;33m\u001b[0m\u001b[0m\n\u001b[1;32m--> 466\u001b[1;33m         \u001b[1;32mraise\u001b[0m \u001b[0m_Rendezvous\u001b[0m\u001b[1;33m(\u001b[0m\u001b[0mstate\u001b[0m\u001b[1;33m,\u001b[0m \u001b[1;32mNone\u001b[0m\u001b[1;33m,\u001b[0m \u001b[1;32mNone\u001b[0m\u001b[1;33m,\u001b[0m \u001b[0mdeadline\u001b[0m\u001b[1;33m)\u001b[0m\u001b[1;33m\u001b[0m\u001b[0m\n\u001b[0m\u001b[0;32m    467\u001b[0m \u001b[1;33m\u001b[0m\u001b[0m\n",
      "\u001b[1;31m_Rendezvous\u001b[0m: <_Rendezvous of RPC that terminated with:\n\tstatus = StatusCode.NOT_FOUND\n\tdetails = \"com.google.apps.framework.request.NotFoundException: No DesignTimeAgent found for project 'movie-240402'.\"\n\tdebug_error_string = \"{\"created\":\"@1557644558.060000000\",\"description\":\"Error received from peer ipv4:172.217.25.202:443\",\"file\":\"src/core/lib/surface/call.cc\",\"file_line\":1041,\"grpc_message\":\"com.google.apps.framework.request.NotFoundException: No DesignTimeAgent found for project 'movie-240402'.\",\"grpc_status\":5}\"\n>",
      "\nThe above exception was the direct cause of the following exception:\n",
      "\u001b[1;31mNotFound\u001b[0m                                  Traceback (most recent call last)",
      "\u001b[1;32m<ipython-input-14-2281ce4ece14>\u001b[0m in \u001b[0;36m<module>\u001b[1;34m()\u001b[0m\n\u001b[1;32m----> 1\u001b[1;33m \u001b[0mdetect_intent_texts\u001b[0m\u001b[1;33m(\u001b[0m\u001b[1;34m\"movie-240402\"\u001b[0m\u001b[1;33m,\u001b[0m\u001b[1;34m\"session1\"\u001b[0m\u001b[1;33m,\u001b[0m \u001b[1;34m\"안녕하세요\"\u001b[0m\u001b[1;33m,\u001b[0m \u001b[1;34m\"ko-KR\"\u001b[0m \u001b[1;33m)\u001b[0m\u001b[1;33m\u001b[0m\u001b[0m\n\u001b[0m",
      "\u001b[1;32m<ipython-input-2-537e576c159d>\u001b[0m in \u001b[0;36mdetect_intent_texts\u001b[1;34m(project_id, session_id, texts, language_code)\u001b[0m\n\u001b[0;32m     18\u001b[0m \u001b[1;33m\u001b[0m\u001b[0m\n\u001b[0;32m     19\u001b[0m         response = session_client.detect_intent(\n\u001b[1;32m---> 20\u001b[1;33m             session=session, query_input=query_input)\n\u001b[0m\u001b[0;32m     21\u001b[0m \u001b[1;33m\u001b[0m\u001b[0m\n\u001b[0;32m     22\u001b[0m         \u001b[0mprint\u001b[0m\u001b[1;33m(\u001b[0m\u001b[1;34m'='\u001b[0m \u001b[1;33m*\u001b[0m \u001b[1;36m20\u001b[0m\u001b[1;33m)\u001b[0m\u001b[1;33m\u001b[0m\u001b[0m\n",
      "\u001b[1;32mC:\\Anaconda3\\lib\\site-packages\\dialogflow_v2\\gapic\\sessions_client.py\u001b[0m in \u001b[0;36mdetect_intent\u001b[1;34m(self, session, query_input, query_params, input_audio, retry, timeout, metadata)\u001b[0m\n\u001b[0;32m    269\u001b[0m         )\n\u001b[0;32m    270\u001b[0m         return self._inner_api_calls['detect_intent'](\n\u001b[1;32m--> 271\u001b[1;33m             request, retry=retry, timeout=timeout, metadata=metadata)\n\u001b[0m\u001b[0;32m    272\u001b[0m \u001b[1;33m\u001b[0m\u001b[0m\n\u001b[0;32m    273\u001b[0m     def streaming_detect_intent(\n",
      "\u001b[1;32mC:\\Anaconda3\\lib\\site-packages\\google\\api_core\\gapic_v1\\method.py\u001b[0m in \u001b[0;36m__call__\u001b[1;34m(self, *args, **kwargs)\u001b[0m\n\u001b[0;32m    141\u001b[0m             \u001b[0mkwargs\u001b[0m\u001b[1;33m[\u001b[0m\u001b[1;34m\"metadata\"\u001b[0m\u001b[1;33m]\u001b[0m \u001b[1;33m=\u001b[0m \u001b[0mmetadata\u001b[0m\u001b[1;33m\u001b[0m\u001b[0m\n\u001b[0;32m    142\u001b[0m \u001b[1;33m\u001b[0m\u001b[0m\n\u001b[1;32m--> 143\u001b[1;33m         \u001b[1;32mreturn\u001b[0m \u001b[0mwrapped_func\u001b[0m\u001b[1;33m(\u001b[0m\u001b[1;33m*\u001b[0m\u001b[0margs\u001b[0m\u001b[1;33m,\u001b[0m \u001b[1;33m**\u001b[0m\u001b[0mkwargs\u001b[0m\u001b[1;33m)\u001b[0m\u001b[1;33m\u001b[0m\u001b[0m\n\u001b[0m\u001b[0;32m    144\u001b[0m \u001b[1;33m\u001b[0m\u001b[0m\n\u001b[0;32m    145\u001b[0m \u001b[1;33m\u001b[0m\u001b[0m\n",
      "\u001b[1;32mC:\\Anaconda3\\lib\\site-packages\\google\\api_core\\retry.py\u001b[0m in \u001b[0;36mretry_wrapped_func\u001b[1;34m(*args, **kwargs)\u001b[0m\n\u001b[0;32m    268\u001b[0m                 \u001b[0msleep_generator\u001b[0m\u001b[1;33m,\u001b[0m\u001b[1;33m\u001b[0m\u001b[0m\n\u001b[0;32m    269\u001b[0m                 \u001b[0mself\u001b[0m\u001b[1;33m.\u001b[0m\u001b[0m_deadline\u001b[0m\u001b[1;33m,\u001b[0m\u001b[1;33m\u001b[0m\u001b[0m\n\u001b[1;32m--> 270\u001b[1;33m                 \u001b[0mon_error\u001b[0m\u001b[1;33m=\u001b[0m\u001b[0mon_error\u001b[0m\u001b[1;33m,\u001b[0m\u001b[1;33m\u001b[0m\u001b[0m\n\u001b[0m\u001b[0;32m    271\u001b[0m             )\n\u001b[0;32m    272\u001b[0m \u001b[1;33m\u001b[0m\u001b[0m\n",
      "\u001b[1;32mC:\\Anaconda3\\lib\\site-packages\\google\\api_core\\retry.py\u001b[0m in \u001b[0;36mretry_target\u001b[1;34m(target, predicate, sleep_generator, deadline, on_error)\u001b[0m\n\u001b[0;32m    177\u001b[0m     \u001b[1;32mfor\u001b[0m \u001b[0msleep\u001b[0m \u001b[1;32min\u001b[0m \u001b[0msleep_generator\u001b[0m\u001b[1;33m:\u001b[0m\u001b[1;33m\u001b[0m\u001b[0m\n\u001b[0;32m    178\u001b[0m         \u001b[1;32mtry\u001b[0m\u001b[1;33m:\u001b[0m\u001b[1;33m\u001b[0m\u001b[0m\n\u001b[1;32m--> 179\u001b[1;33m             \u001b[1;32mreturn\u001b[0m \u001b[0mtarget\u001b[0m\u001b[1;33m(\u001b[0m\u001b[1;33m)\u001b[0m\u001b[1;33m\u001b[0m\u001b[0m\n\u001b[0m\u001b[0;32m    180\u001b[0m \u001b[1;33m\u001b[0m\u001b[0m\n\u001b[0;32m    181\u001b[0m         \u001b[1;31m# pylint: disable=broad-except\u001b[0m\u001b[1;33m\u001b[0m\u001b[1;33m\u001b[0m\u001b[0m\n",
      "\u001b[1;32mC:\\Anaconda3\\lib\\site-packages\\google\\api_core\\timeout.py\u001b[0m in \u001b[0;36mfunc_with_timeout\u001b[1;34m(*args, **kwargs)\u001b[0m\n\u001b[0;32m    212\u001b[0m             \u001b[1;34m\"\"\"Wrapped function that adds timeout.\"\"\"\u001b[0m\u001b[1;33m\u001b[0m\u001b[0m\n\u001b[0;32m    213\u001b[0m             \u001b[0mkwargs\u001b[0m\u001b[1;33m[\u001b[0m\u001b[1;34m\"timeout\"\u001b[0m\u001b[1;33m]\u001b[0m \u001b[1;33m=\u001b[0m \u001b[0mnext\u001b[0m\u001b[1;33m(\u001b[0m\u001b[0mtimeouts\u001b[0m\u001b[1;33m)\u001b[0m\u001b[1;33m\u001b[0m\u001b[0m\n\u001b[1;32m--> 214\u001b[1;33m             \u001b[1;32mreturn\u001b[0m \u001b[0mfunc\u001b[0m\u001b[1;33m(\u001b[0m\u001b[1;33m*\u001b[0m\u001b[0margs\u001b[0m\u001b[1;33m,\u001b[0m \u001b[1;33m**\u001b[0m\u001b[0mkwargs\u001b[0m\u001b[1;33m)\u001b[0m\u001b[1;33m\u001b[0m\u001b[0m\n\u001b[0m\u001b[0;32m    215\u001b[0m \u001b[1;33m\u001b[0m\u001b[0m\n\u001b[0;32m    216\u001b[0m         \u001b[1;32mreturn\u001b[0m \u001b[0mfunc_with_timeout\u001b[0m\u001b[1;33m\u001b[0m\u001b[0m\n",
      "\u001b[1;32mC:\\Anaconda3\\lib\\site-packages\\google\\api_core\\grpc_helpers.py\u001b[0m in \u001b[0;36merror_remapped_callable\u001b[1;34m(*args, **kwargs)\u001b[0m\n\u001b[0;32m     57\u001b[0m             \u001b[1;32mreturn\u001b[0m \u001b[0mcallable_\u001b[0m\u001b[1;33m(\u001b[0m\u001b[1;33m*\u001b[0m\u001b[0margs\u001b[0m\u001b[1;33m,\u001b[0m \u001b[1;33m**\u001b[0m\u001b[0mkwargs\u001b[0m\u001b[1;33m)\u001b[0m\u001b[1;33m\u001b[0m\u001b[0m\n\u001b[0;32m     58\u001b[0m         \u001b[1;32mexcept\u001b[0m \u001b[0mgrpc\u001b[0m\u001b[1;33m.\u001b[0m\u001b[0mRpcError\u001b[0m \u001b[1;32mas\u001b[0m \u001b[0mexc\u001b[0m\u001b[1;33m:\u001b[0m\u001b[1;33m\u001b[0m\u001b[0m\n\u001b[1;32m---> 59\u001b[1;33m             \u001b[0msix\u001b[0m\u001b[1;33m.\u001b[0m\u001b[0mraise_from\u001b[0m\u001b[1;33m(\u001b[0m\u001b[0mexceptions\u001b[0m\u001b[1;33m.\u001b[0m\u001b[0mfrom_grpc_error\u001b[0m\u001b[1;33m(\u001b[0m\u001b[0mexc\u001b[0m\u001b[1;33m)\u001b[0m\u001b[1;33m,\u001b[0m \u001b[0mexc\u001b[0m\u001b[1;33m)\u001b[0m\u001b[1;33m\u001b[0m\u001b[0m\n\u001b[0m\u001b[0;32m     60\u001b[0m \u001b[1;33m\u001b[0m\u001b[0m\n\u001b[0;32m     61\u001b[0m     \u001b[1;32mreturn\u001b[0m \u001b[0merror_remapped_callable\u001b[0m\u001b[1;33m\u001b[0m\u001b[0m\n",
      "\u001b[1;32mC:\\Anaconda3\\lib\\site-packages\\six.py\u001b[0m in \u001b[0;36mraise_from\u001b[1;34m(value, from_value)\u001b[0m\n",
      "\u001b[1;31mNotFound\u001b[0m: 404 com.google.apps.framework.request.NotFoundException: No DesignTimeAgent found for project 'movie-240402'."
     ]
    }
   ],
   "source": [
    "detect_intent_texts(\"movie-240402\",\"session1\", \"안녕하세요\", \"ko-KR\" )"
   ]
  },
  {
   "cell_type": "code",
   "execution_count": null,
   "metadata": {
    "collapsed": true
   },
   "outputs": [],
   "source": []
  }
 ],
 "metadata": {
  "kernelspec": {
   "display_name": "Python 3",
   "language": "python",
   "name": "python3"
  },
  "language_info": {
   "codemirror_mode": {
    "name": "ipython",
    "version": 3
   },
   "file_extension": ".py",
   "mimetype": "text/x-python",
   "name": "python",
   "nbconvert_exporter": "python",
   "pygments_lexer": "ipython3",
   "version": "3.6.3"
  }
 },
 "nbformat": 4,
 "nbformat_minor": 2
}

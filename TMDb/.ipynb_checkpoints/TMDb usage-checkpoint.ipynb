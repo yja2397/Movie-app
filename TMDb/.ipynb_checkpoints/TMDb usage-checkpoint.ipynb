{
 "cells": [
  {
   "cell_type": "code",
   "execution_count": 2,
   "metadata": {
    "collapsed": true
   },
   "outputs": [],
   "source": [
    "# https://youagain.tistory.com/2\n",
    "# https://developers.themoviedb.org/3/getting-started/introduction\n",
    "\n",
    "import httplib2\n",
    "import json\n",
    "\n",
    "url = 'https://api.themoviedb.org/3/movie/'\n",
    "ip = '543103'\n",
    "city = '&language=kor'\n",
    "mykey = '?api_key=ff3bedd3d47493bf66e799c508aba82a'"
   ]
  },
  {
   "cell_type": "code",
   "execution_count": 3,
   "metadata": {},
   "outputs": [
    {
     "data": {
      "text/plain": [
       "{'adult': False,\n",
       " 'backdrop_path': '/uufTqD2CSn1NqL3cXEl4Vp3bCav.jpg',\n",
       " 'belongs_to_collection': None,\n",
       " 'budget': 0,\n",
       " 'genres': [{'id': 28, 'name': '액션'},\n",
       "  {'id': 12, 'name': '모험'},\n",
       "  {'id': 878, 'name': 'SF'}],\n",
       " 'homepage': 'http://www.movie-taisen.com/',\n",
       " 'id': 543103,\n",
       " 'imdb_id': 'tt9297624',\n",
       " 'original_language': 'ja',\n",
       " 'original_title': '仮面ライダー平成ジェネレーションズFOREVER',\n",
       " 'overview': '',\n",
       " 'popularity': 92.078,\n",
       " 'poster_path': '/6sOFQDlkY6El1B2P5gklzJfVdsT.jpg',\n",
       " 'production_companies': [{'id': 5822,\n",
       "   'logo_path': '/qyTbRgCyU9NLKvKaiQVbadtr7RY.png',\n",
       "   'name': 'Toei Company, Ltd.',\n",
       "   'origin_country': 'JP'},\n",
       "  {'id': 8670,\n",
       "   'logo_path': None,\n",
       "   'name': 'Ishinomori Productions',\n",
       "   'origin_country': ''}],\n",
       " 'production_countries': [{'iso_3166_1': 'JP', 'name': 'Japan'}],\n",
       " 'release_date': '2018-12-22',\n",
       " 'revenue': 0,\n",
       " 'runtime': 0,\n",
       " 'spoken_languages': [{'iso_639_1': 'ja', 'name': '日本語'}],\n",
       " 'status': 'Released',\n",
       " 'tagline': '',\n",
       " 'title': '가면라이더 헤이세이 제네레이션즈 FOREVER',\n",
       " 'video': False,\n",
       " 'vote_average': 4.8,\n",
       " 'vote_count': 8}"
      ]
     },
     "execution_count": 3,
     "metadata": {},
     "output_type": "execute_result"
    }
   ],
   "source": [
    "#movie's name, genres, overview\n",
    "\n",
    "h = httplib2.Http()\n",
    "myrequest = url +ip+ mykey + city\n",
    "response, content = h.request(myrequest, 'GET')\n",
    "result = json.loads(content.decode('utf-8'))\n",
    "poster = result['poster_path']\n",
    "# name = result['belongs_to_collection']['name']\n",
    "# genres = result['genres'][0]['name']\n",
    "# overview = result['overview']\n",
    "    \n",
    "result"
   ]
  },
  {
   "cell_type": "code",
   "execution_count": 11,
   "metadata": {},
   "outputs": [
    {
     "data": {
      "text/plain": [
       "'/jZowUf4okNYuSlgj5iURE7CDMho.jpg'"
      ]
     },
     "execution_count": 11,
     "metadata": {},
     "output_type": "execute_result"
    }
   ],
   "source": [
    "poster"
   ]
  },
  {
   "cell_type": "code",
   "execution_count": 12,
   "metadata": {},
   "outputs": [
    {
     "data": {
      "text/plain": [
       "{'adult': False,\n",
       " 'backdrop_path': '/phszHPFVhPHhMZgo0fWTKBDQsJA.jpg',\n",
       " 'belongs_to_collection': {'backdrop_path': '/zI0q2ENcQOLECbe0gAEGlncVh2j.jpg',\n",
       "  'id': 8945,\n",
       "  'name': '매드맥스 시리즈',\n",
       "  'poster_path': '/jZowUf4okNYuSlgj5iURE7CDMho.jpg'},\n",
       " 'budget': 150000000,\n",
       " 'genres': [{'id': 28, 'name': '액션'},\n",
       "  {'id': 12, 'name': '모험'},\n",
       "  {'id': 878, 'name': 'SF'}],\n",
       " 'homepage': 'http://www.madmaxmovie.com',\n",
       " 'id': 76341,\n",
       " 'imdb_id': 'tt1392190',\n",
       " 'original_language': 'en',\n",
       " 'original_title': 'Mad Max: Fury Road',\n",
       " 'overview': '핵전쟁으로 멸망한 22세기. 얼마 남지 않은 물과 기름을 차지한 독재자 임모탄 조(휴 키스 번)가 살아남은 인류를 지배한다. 한편 아내와 딸을 잃고 살아남기 위해 사막을 떠돌던 맥스(톰 하디)는 임모탄의 부하들에게 납치되어 노예로 끌려가고, 폭정에 반발한 외팔의 사령관 퓨리오사(샤를리즈 테론)는 인류 생존의 열쇠를 쥔 임모탄의 여인들을 탈취해 분노의 도로로 폭주한다. 이에 임모탄의 전사인 워보이들과 신인류 눅스(니콜라스 홀트)는 피주머니 신세로 전락한 맥스를 이끌고 퓨리오사의 뒤를 쫓는데...',\n",
       " 'popularity': 28.935,\n",
       " 'poster_path': '/65KuGeszIiHC6hDZUDHmlTuxMwX.jpg',\n",
       " 'production_companies': [{'id': 79,\n",
       "   'logo_path': '/tpFpsqbleCzEE2p5EgvUq6ozfCA.png',\n",
       "   'name': 'Village Roadshow Pictures',\n",
       "   'origin_country': 'US'},\n",
       "  {'id': 2537,\n",
       "   'logo_path': None,\n",
       "   'name': 'Kennedy Miller Productions',\n",
       "   'origin_country': 'AU'},\n",
       "  {'id': 174,\n",
       "   'logo_path': '/ky0xOc5OrhzkZ1N6KyUxacfQsCk.png',\n",
       "   'name': 'Warner Bros. Pictures',\n",
       "   'origin_country': 'US'}],\n",
       " 'production_countries': [{'iso_3166_1': 'AU', 'name': 'Australia'},\n",
       "  {'iso_3166_1': 'US', 'name': 'United States of America'}],\n",
       " 'release_date': '2015-05-13',\n",
       " 'revenue': 378858340,\n",
       " 'runtime': 120,\n",
       " 'spoken_languages': [{'iso_639_1': 'en', 'name': 'English'}],\n",
       " 'status': 'Released',\n",
       " 'tagline': '세상이 멸망하면서 누가 미친 건지 알 수 없어졌다.  나인지 이 세상인지',\n",
       " 'title': '매드 맥스: 분노의 도로',\n",
       " 'video': False,\n",
       " 'vote_average': 7.4,\n",
       " 'vote_count': 14008}"
      ]
     },
     "execution_count": 12,
     "metadata": {},
     "output_type": "execute_result"
    }
   ],
   "source": [
    "result"
   ]
  },
  {
   "cell_type": "code",
   "execution_count": null,
   "metadata": {},
   "outputs": [
    {
     "name": "stdout",
     "output_type": "stream",
     "text": [
      "{'adult': False, 'backdrop_path': '/z2QUexmccqrvw1kDMw3R8TxAh5E.jpg', 'belongs_to_collection': None, 'budget': 0, 'genres': [{'id': 18, 'name': 'Drama'}, {'id': 80, 'name': 'Crime'}, {'id': 35, 'name': 'Comedy'}], 'homepage': None, 'id': 2, 'imdb_id': 'tt0094675', 'original_language': 'fi', 'original_title': 'Ariel', 'overview': \"Taisto Kasurinen is a Finnish coal miner whose father has just committed suicide and who is framed for a crime he did not commit. In jail, he starts to dream about leaving the country and starting a new life. He escapes from prison but things don't go as planned...\", 'popularity': 3.794, 'poster_path': '/w0NzAc4Lv6euPtPAmsdEf0ZCF8C.jpg', 'production_companies': [{'id': 2303, 'logo_path': None, 'name': 'Villealfa Filmproductions', 'origin_country': 'FI'}], 'production_countries': [{'iso_3166_1': 'FI', 'name': 'Finland'}], 'release_date': '1988-10-21', 'revenue': 0, 'runtime': 73, 'spoken_languages': [{'iso_639_1': 'de', 'name': 'Deutsch'}, {'iso_639_1': 'fi', 'name': 'suomi'}], 'status': 'Released', 'tagline': '', 'title': 'Ariel', 'video': False, 'vote_average': 7.0, 'vote_count': 71}\n",
      "{'adult': False, 'backdrop_path': '/6YjUX87VtIEuDzanBE6obVxE9V3.jpg', 'belongs_to_collection': None, 'budget': 0, 'genres': [{'id': 18, 'name': 'Drama'}, {'id': 35, 'name': 'Comedy'}], 'homepage': None, 'id': 3, 'imdb_id': 'tt0092149', 'original_language': 'fi', 'original_title': 'Varjoja paratiisissa', 'overview': 'An episode in the life of Nikander, a garbage man, involving the death of a co-worker, an affair and much more.', 'popularity': 6.712, 'poster_path': '/7ad4iku8cYBuB08g9yAU7tHJik5.jpg', 'production_companies': [{'id': 2303, 'logo_path': None, 'name': 'Villealfa Filmproductions', 'origin_country': 'FI'}], 'production_countries': [{'iso_3166_1': 'FI', 'name': 'Finland'}], 'release_date': '1986-10-17', 'revenue': 0, 'runtime': 72, 'spoken_languages': [{'iso_639_1': 'en', 'name': 'English'}, {'iso_639_1': 'sv', 'name': 'svenska'}, {'iso_639_1': 'fi', 'name': 'suomi'}], 'status': 'Released', 'tagline': '', 'title': 'Shadows in Paradise', 'video': False, 'vote_average': 7.4, 'vote_count': 81}\n",
      "{'adult': False, 'backdrop_path': '/3EqYpbGCE9S5GddU2K4cYzP5UmI.jpg', 'belongs_to_collection': None, 'budget': 4000000, 'genres': [{'id': 80, 'name': 'Crime'}, {'id': 35, 'name': 'Comedy'}], 'homepage': None, 'id': 5, 'imdb_id': 'tt0113101', 'original_language': 'en', 'original_title': 'Four Rooms', 'overview': \"It's Ted the Bellhop's first night on the job...and the hotel's very unusual guests are about to place him in some outrageous predicaments. It seems that this evening's room service is serving up one unbelievable happening after another.\", 'popularity': 12.645, 'poster_path': '/eQs5hh9rxrk1m4xHsIz1w11Ngqb.jpg', 'production_companies': [{'id': 14, 'logo_path': '/m6AHu84oZQxvq7n1rsvMNJIAsMu.png', 'name': 'Miramax', 'origin_country': 'US'}, {'id': 59, 'logo_path': '/yH7OMeSxhfP0AVM6iT0rsF3F4ZC.png', 'name': 'A Band Apart', 'origin_country': 'US'}], 'production_countries': [{'iso_3166_1': 'US', 'name': 'United States of America'}], 'release_date': '1995-12-09', 'revenue': 4300000, 'runtime': 98, 'spoken_languages': [{'iso_639_1': 'en', 'name': 'English'}], 'status': 'Released', 'tagline': \"Twelve outrageous guests. Four scandalous requests. And one lone bellhop, in his first day on the job, who's in for the wildest New year's Eve of his life.\", 'title': 'Four Rooms', 'video': False, 'vote_average': 6.3, 'vote_count': 1120}\n",
      "{'adult': False, 'backdrop_path': '/eXKgVIjLCFNpQkjVg1VpA8yM2GA.jpg', 'belongs_to_collection': None, 'budget': 21, 'genres': [{'id': 28, 'name': 'Action'}, {'id': 53, 'name': 'Thriller'}, {'id': 80, 'name': 'Crime'}], 'homepage': None, 'id': 6, 'imdb_id': 'tt0107286', 'original_language': 'en', 'original_title': 'Judgment Night', 'overview': 'While racing to a boxing match, Frank, Mike, John and Rey get more than they bargained for. A wrong turn lands them directly in the path of Fallon, a vicious, wise-cracking drug lord. After accidentally witnessing Fallon murder a disloyal henchman, the four become his unwilling prey in a savage game of cat & mouse as they are mercilessly stalked through the urban jungle in this taut suspense drama', 'popularity': 8.353, 'poster_path': '/lNXmgUrP6h1nD53gkFh4WDzT6RZ.jpg', 'production_companies': [{'id': 33, 'logo_path': '/8lvHyhjr8oUKOOy2dKXoALWKdp0.png', 'name': 'Universal Pictures', 'origin_country': 'US'}, {'id': 1644, 'logo_path': None, 'name': 'Largo Entertainment', 'origin_country': 'US'}, {'id': 4248, 'logo_path': None, 'name': 'JVC Entertainment Networks', 'origin_country': ''}], 'production_countries': [{'iso_3166_1': 'JP', 'name': 'Japan'}, {'iso_3166_1': 'US', 'name': 'United States of America'}], 'release_date': '1993-10-15', 'revenue': 12, 'runtime': 110, 'spoken_languages': [{'iso_639_1': 'en', 'name': 'English'}], 'status': 'Released', 'tagline': \"Don't move. Don't whisper. Don't even breathe.\", 'title': 'Judgment Night', 'video': False, 'vote_average': 6.5, 'vote_count': 112}\n",
      "{'adult': False, 'backdrop_path': '/udvB86uyzJ6P9vmB83WfrCbnmnI.jpg', 'belongs_to_collection': None, 'budget': 42000, 'genres': [{'id': 99, 'name': 'Documentary'}], 'homepage': 'http://www.lifeinloops.com', 'id': 8, 'imdb_id': 'tt0825671', 'original_language': 'en', 'original_title': 'Life in Loops (A Megacities RMX)', 'overview': 'Timo Novotny labels his new project an experimental music documentary film, in a remix of the celebrated film Megacities (1997), a visually refined essay on the hidden faces of several world \"megacities\" by leading Austrian documentarist Michael Glawogger. Novotny complements 30 % of material taken straight from the film (and re-edited) with 70 % as yet unseen footage in which he blends original shots unused by Glawogger with his own sequences (shot by Megacities cameraman Wolfgang Thaler) from Tokyo. Alongside the Japanese metropolis, Life in Loops takes us right into the atmosphere of Mexico City, New York, Moscow and Bombay. This electrifying combination of fascinating film images and an equally compelling soundtrack from Sofa Surfers sets us off on a stunning audiovisual adventure across the continents. The film also makes an original contribution to the discussion on new trends in documentary filmmaking. Written by KARLOVY VARY IFF 2006', 'popularity': 0.614, 'poster_path': '/8YyIjOAxwzD3fZMdmJrfiApod4l.jpg', 'production_companies': [{'id': 19123, 'logo_path': None, 'name': 'inLoops', 'origin_country': ''}], 'production_countries': [{'iso_3166_1': 'AT', 'name': 'Austria'}], 'release_date': '2006-01-01', 'revenue': 0, 'runtime': 80, 'spoken_languages': [{'iso_639_1': 'en', 'name': 'English'}, {'iso_639_1': 'hi', 'name': 'हिन्दी'}, {'iso_639_1': 'ja', 'name': '日本語'}, {'iso_639_1': 'ru', 'name': 'Pусский'}, {'iso_639_1': 'es', 'name': 'Español'}], 'status': 'Released', 'tagline': 'A Megacities remix.', 'title': 'Life in Loops (A Megacities RMX)', 'video': False, 'vote_average': 7.3, 'vote_count': 6}\n",
      "{'adult': False, 'backdrop_path': None, 'belongs_to_collection': None, 'budget': 0, 'genres': [{'id': 18, 'name': 'Drama'}], 'homepage': None, 'id': 9, 'imdb_id': 'tt0425473', 'original_language': 'de', 'original_title': 'Sonntag im August', 'overview': '', 'popularity': 1.4, 'poster_path': None, 'production_companies': [], 'production_countries': [{'iso_3166_1': 'DE', 'name': 'Germany'}], 'release_date': '2004-09-02', 'revenue': 0, 'runtime': 15, 'spoken_languages': [{'iso_639_1': 'de', 'name': 'Deutsch'}], 'status': 'Released', 'tagline': '', 'title': 'Sunday in August', 'video': False, 'vote_average': 7.4, 'vote_count': 4}\n",
      "{'adult': False, 'backdrop_path': '/4iJfYYoQzZcONB9hNzg0J0wWyPH.jpg', 'belongs_to_collection': {'id': 10, 'name': 'Star Wars Collection', 'poster_path': '/iTQHKziZy9pAAY4hHEDCGPaOvFC.jpg', 'backdrop_path': '/d8duYyyC9J5T825Hg7grmaabfxQ.jpg'}, 'budget': 11000000, 'genres': [{'id': 12, 'name': 'Adventure'}, {'id': 28, 'name': 'Action'}, {'id': 878, 'name': 'Science Fiction'}], 'homepage': 'http://www.starwars.com/films/star-wars-episode-iv-a-new-hope', 'id': 11, 'imdb_id': 'tt0076759', 'original_language': 'en', 'original_title': 'Star Wars', 'overview': 'Princess Leia is captured and held hostage by the evil Imperial forces in their effort to take over the galactic Empire. Venturesome Luke Skywalker and dashing captain Han Solo team together with the loveable robot duo R2-D2 and C-3PO to rescue the beautiful princess and restore peace and justice in the Empire.', 'popularity': 36.321, 'poster_path': '/btTdmkgIvOi0FFip1sPuZI2oQG6.jpg', 'production_companies': [{'id': 1, 'logo_path': '/o86DbpburjxrqAzEDhXZcyE8pDb.png', 'name': 'Lucasfilm', 'origin_country': 'US'}, {'id': 25, 'logo_path': '/qZCc1lty5FzX30aOCVRBLzaVmcp.png', 'name': '20th Century Fox', 'origin_country': 'US'}], 'production_countries': [{'iso_3166_1': 'US', 'name': 'United States of America'}], 'release_date': '1977-05-25', 'revenue': 775398007, 'runtime': 121, 'spoken_languages': [{'iso_639_1': 'en', 'name': 'English'}], 'status': 'Released', 'tagline': 'A long time ago in a galaxy far, far away...', 'title': 'Star Wars', 'video': False, 'vote_average': 8.2, 'vote_count': 11064}\n"
     ]
    },
    {
     "name": "stdout",
     "output_type": "stream",
     "text": [
      "{'adult': False, 'backdrop_path': '/2Xh7cVe9beCn04ouN9IGfK8WTok.jpg', 'belongs_to_collection': {'id': 137697, 'name': 'Finding Nemo Collection', 'poster_path': '/wtie42vgM6OY1OGmrtT4kupQBBP.jpg', 'backdrop_path': '/2hC8HHRUvwRljYKIcQDMyMbLlxz.jpg'}, 'budget': 94000000, 'genres': [{'id': 16, 'name': 'Animation'}, {'id': 10751, 'name': 'Family'}], 'homepage': 'http://movies.disney.com/finding-nemo', 'id': 12, 'imdb_id': 'tt0266543', 'original_language': 'en', 'original_title': 'Finding Nemo', 'overview': \"Nemo, an adventurous young clownfish, is unexpectedly taken from his Great Barrier Reef home to a dentist's office aquarium. It's up to his worrisome father Marlin and a friendly but forgetful fish Dory to bring Nemo home -- meeting vegetarian sharks, surfer dude turtles, hypnotic jellyfish, hungry seagulls, and more along the way.\", 'popularity': 23.091, 'poster_path': '/syPWyeeqzTQIxjIUaIFI7d0TyEY.jpg', 'production_companies': [{'id': 3, 'logo_path': '/1TjvGVDMYsj6JBxOAkUHpPEwLf7.png', 'name': 'Pixar', 'origin_country': 'US'}], 'production_countries': [{'iso_3166_1': 'US', 'name': 'United States of America'}], 'release_date': '2003-05-30', 'revenue': 940335536, 'runtime': 100, 'spoken_languages': [{'iso_639_1': 'en', 'name': 'English'}], 'status': 'Released', 'tagline': \"There are 3.7 trillion fish in the ocean. They're looking for one.\", 'title': 'Finding Nemo', 'video': False, 'vote_average': 7.8, 'vote_count': 11133}\n",
      "{'adult': False, 'backdrop_path': '/wMgbnUVS9wbRGAdki8fqxKU1O0N.jpg', 'belongs_to_collection': None, 'budget': 55000000, 'genres': [{'id': 35, 'name': 'Comedy'}, {'id': 18, 'name': 'Drama'}, {'id': 10749, 'name': 'Romance'}], 'homepage': None, 'id': 13, 'imdb_id': 'tt0109830', 'original_language': 'en', 'original_title': 'Forrest Gump', 'overview': 'A man with a low IQ has accomplished great things in his life and been present during significant historic events—in each case, far exceeding what anyone imagined he could do. But despite all he has achieved, his one true love eludes him.', 'popularity': 30.075, 'poster_path': '/yE5d3BUhE8hCnkMUJOo1QDoOGNz.jpg', 'production_companies': [{'id': 4, 'logo_path': '/fycMZt242LVjagMByZOLUGbCvv3.png', 'name': 'Paramount', 'origin_country': 'US'}], 'production_countries': [{'iso_3166_1': 'US', 'name': 'United States of America'}], 'release_date': '1994-07-06', 'revenue': 677945399, 'runtime': 142, 'spoken_languages': [{'iso_639_1': 'en', 'name': 'English'}], 'status': 'Released', 'tagline': \"Life is like a box of chocolates...you never know what you're gonna get.\", 'title': 'Forrest Gump', 'video': False, 'vote_average': 8.4, 'vote_count': 14158}\n",
      "{'adult': False, 'backdrop_path': '/z5J18ByLeOZ68iORfMXmxeFuwyL.jpg', 'belongs_to_collection': None, 'budget': 15000000, 'genres': [{'id': 18, 'name': 'Drama'}], 'homepage': 'http://www.dreamworks.com/ab/', 'id': 14, 'imdb_id': 'tt0169547', 'original_language': 'en', 'original_title': 'American Beauty', 'overview': \"Lester Burnham, a depressed suburban father in a mid-life crisis, decides to turn his hectic life around after developing an infatuation with his daughter's attractive friend.\", 'popularity': 15.579, 'poster_path': '/or1MP8BZIAjqWYxPdPX724ydKar.jpg', 'production_companies': [{'id': 2721, 'logo_path': None, 'name': 'Jinks/Cohen Company', 'origin_country': ''}, {'id': 7, 'logo_path': '/9YHAhaqpFKDq66Alz7HrYd1iM6G.png', 'name': 'DreamWorks', 'origin_country': 'US'}], 'production_countries': [{'iso_3166_1': 'US', 'name': 'United States of America'}], 'release_date': '1999-09-15', 'revenue': 356296601, 'runtime': 122, 'spoken_languages': [{'iso_639_1': 'en', 'name': 'English'}], 'status': 'Released', 'tagline': 'Look closer.', 'title': 'American Beauty', 'video': False, 'vote_average': 8.0, 'vote_count': 6237}\n",
      "{'adult': False, 'backdrop_path': '/yN8t1qalUaM0nOpvuzmdbjJYSDE.jpg', 'belongs_to_collection': None, 'budget': 839727, 'genres': [{'id': 9648, 'name': 'Mystery'}, {'id': 18, 'name': 'Drama'}], 'homepage': None, 'id': 15, 'imdb_id': 'tt0033467', 'original_language': 'en', 'original_title': 'Citizen Kane', 'overview': 'Newspaper magnate, Charles Foster Kane is taken from his mother as a boy and made the ward of a rich industrialist. As a result, every well-meaning, tyrannical or self-destructive move he makes for the rest of his life appears in some way to be a reaction to that deeply wounding event.', 'popularity': 14.874, 'poster_path': '/sav0jxhqiH0bPr2vZFU0Kjt2nZL.jpg', 'production_companies': [{'id': 6, 'logo_path': '/n53F7K9scQWFXYbrCablqLKqJdp.png', 'name': 'RKO Radio Pictures', 'origin_country': 'US'}, {'id': 11447, 'logo_path': None, 'name': 'Mercury Productions', 'origin_country': ''}], 'production_countries': [{'iso_3166_1': 'US', 'name': 'United States of America'}], 'release_date': '1941-04-30', 'revenue': 23217674, 'runtime': 119, 'spoken_languages': [{'iso_639_1': 'en', 'name': 'English'}], 'status': 'Released', 'tagline': \"It's terrific!\", 'title': 'Citizen Kane', 'video': False, 'vote_average': 8.1, 'vote_count': 2290}\n",
      "{'adult': False, 'backdrop_path': '/5k89pUmFMZ82yPiL7bqxaFiDqaa.jpg', 'belongs_to_collection': None, 'budget': 12800000, 'genres': [{'id': 18, 'name': 'Drama'}, {'id': 80, 'name': 'Crime'}, {'id': 10402, 'name': 'Music'}], 'homepage': None, 'id': 16, 'imdb_id': 'tt0168629', 'original_language': 'en', 'original_title': 'Dancer in the Dark', 'overview': \"Selma, a Czech immigrant on the verge of blindness, struggles to make ends meet for herself and her son, who has inherited the same genetic disorder and will suffer the same fate without an expensive operation. When life gets too difficult, Selma learns to cope through her love of musicals, escaping life's troubles - even if just for a moment - by dreaming up little numbers to the rhythmic beats of her surroundings.\", 'popularity': 8.103, 'poster_path': '/7xizDTz4Yj4IYm2ud4f6EfEXe5H.jpg', 'production_companies': [{'id': 53671, 'logo_path': None, 'name': 'Lantia Cinema & Audiovisivi', 'origin_country': ''}, {'id': 8, 'logo_path': '/78ilmDNTpdCfsakrsLqmAUkFTrO.png', 'name': 'Fine Line Features', 'origin_country': ''}, {'id': 76, 'logo_path': None, 'name': 'Zentropa Entertainments', 'origin_country': 'DK'}, {'id': 119, 'logo_path': '/1di2gITGUZr730AMuMKiCrP90Vl.png', 'name': 'Danmarks Radio (DR)', 'origin_country': 'DK'}, {'id': 157, 'logo_path': None, 'name': 'SVT Drama', 'origin_country': ''}, {'id': 201, 'logo_path': '/6UIpEURdjnmcJPwgTDRzVRuwADr.png', 'name': 'ARTE', 'origin_country': 'FR'}, {'id': 321, 'logo_path': None, 'name': 'Memfis Film', 'origin_country': 'SE'}, {'id': 591, 'logo_path': '/q5I5RDwMEiqoNmfaJgd2LraEOJY.png', 'name': 'France 3 Cinéma', 'origin_country': 'FR'}, {'id': 2996, 'logo_path': None, 'name': 'Angel films', 'origin_country': ''}, {'id': 5755, 'logo_path': '/53JWq1rzbAXzbh1rnFo3XdqsAUh.png', 'name': 'Constantin Film Produktion', 'origin_country': ''}, {'id': 5975, 'logo_path': '/vvjgoKygWWYZvYyidT3RmOCq5If.png', 'name': 'YLE', 'origin_country': 'FI'}, {'id': 7330, 'logo_path': None, 'name': 'Blind Spot Pictures', 'origin_country': 'FI'}, {'id': 8659, 'logo_path': '/96hCWEsfmTZQsoUap0CcG21qaA.png', 'name': 'Vrijzinnig Protestantse Radio Omroep (VPRO)', 'origin_country': 'NL'}, {'id': 11239, 'logo_path': None, 'name': 'Liberator Productions', 'origin_country': ''}, {'id': 14937, 'logo_path': None, 'name': 'Icelandic Film', 'origin_country': ''}, {'id': 30268, 'logo_path': None, 'name': 'Pain Unlimited GmbH Filmproduktion', 'origin_country': ''}, {'id': 53667, 'logo_path': None, 'name': 'Trust Film Svenska', 'origin_country': ''}, {'id': 53668, 'logo_path': None, 'name': 'Cinematograph A/S', 'origin_country': ''}, {'id': 53669, 'logo_path': None, 'name': 'What Else? B.V', 'origin_country': ''}, {'id': 53670, 'logo_path': None, 'name': 'Filmek A/S', 'origin_country': ''}, {'id': 6705, 'logo_path': '/5uoaxZCSYuc6KEiJgEYSWzLIFAW.png', 'name': 'Film4 Productions', 'origin_country': 'GB'}, {'id': 104, 'logo_path': '/9aotxauvc9685tq9pTcRJszuT06.png', 'name': 'Canal+', 'origin_country': 'FR'}, {'id': 94, 'logo_path': '/huC7HqorvUThGIrENrbcHmQVUA0.png', 'name': 'ARTE France Cinéma', 'origin_country': 'FR'}, {'id': 2801, 'logo_path': '/bswb1PLLsKDUXMLgy42bZtCtIde.png', 'name': 'Film i Väst', 'origin_country': 'SE'}, {'id': 447, 'logo_path': None, 'name': 'TV 1000 Sverige', 'origin_country': 'SE'}, {'id': 46, 'logo_path': None, 'name': 'Westdeutscher Rundfunk (WDR)', 'origin_country': 'DE'}], 'production_countries': [{'iso_3166_1': 'AR', 'name': 'Argentina'}, {'iso_3166_1': 'DK', 'name': 'Denmark'}, {'iso_3166_1': 'FI', 'name': 'Finland'}, {'iso_3166_1': 'FR', 'name': 'France'}, {'iso_3166_1': 'DE', 'name': 'Germany'}, {'iso_3166_1': 'IS', 'name': 'Iceland'}, {'iso_3166_1': 'IT', 'name': 'Italy'}, {'iso_3166_1': 'NL', 'name': 'Netherlands'}, {'iso_3166_1': 'NO', 'name': 'Norway'}, {'iso_3166_1': 'SE', 'name': 'Sweden'}, {'iso_3166_1': 'GB', 'name': 'United Kingdom'}, {'iso_3166_1': 'US', 'name': 'United States of America'}], 'release_date': '2000-05-17', 'revenue': 40031879, 'runtime': 141, 'spoken_languages': [{'iso_639_1': 'en', 'name': 'English'}], 'status': 'Released', 'tagline': \"You don't need eyes to see.\", 'title': 'Dancer in the Dark', 'video': False, 'vote_average': 7.9, 'vote_count': 754}\n"
     ]
    },
    {
     "name": "stdout",
     "output_type": "stream",
     "text": [
      "{'adult': False, 'backdrop_path': '/pkCC3myn5QuoLzplTlvZLB0w2AU.jpg', 'belongs_to_collection': None, 'budget': 0, 'genres': [{'id': 27, 'name': 'Horror'}, {'id': 53, 'name': 'Thriller'}, {'id': 9648, 'name': 'Mystery'}], 'homepage': 'http://www.whatisannwyn.co.uk/', 'id': 17, 'imdb_id': 'tt0411267', 'original_language': 'en', 'original_title': 'The Dark', 'overview': 'Adèle and her daughter Sarah are traveling on the Welsh coastline to see her husband James when Sarah disappears. A different but similar looking girl appears who says she died in a past time. Adèle tries to discover what happened to her daughter as she is tormented by Celtic mythology from the past.', 'popularity': 4.9, 'poster_path': '/8fzjzQhLXl1afshhsE5Y3MGuco4.jpg', 'production_companies': [{'id': 47, 'logo_path': '/i7Z9ot2o3N5Sa3HrF09kniFs2y8.png', 'name': 'Constantin Film', 'origin_country': 'DE'}, {'id': 248, 'logo_path': None, 'name': 'Impact Pictures', 'origin_country': ''}, {'id': 2268, 'logo_path': '/wgDks2qYgwN6u1OkW1bBre0rf4F.png', 'name': 'Isle of Man Film', 'origin_country': 'GB'}, {'id': 2452, 'logo_path': '/6CLoZ59fLPG7UyxQtGTqRevjf58.png', 'name': 'UK Film Council', 'origin_country': 'GB'}], 'production_countries': [{'iso_3166_1': 'DE', 'name': 'Germany'}, {'iso_3166_1': 'GB', 'name': 'United Kingdom'}], 'release_date': '2005-09-28', 'revenue': 0, 'runtime': 87, 'spoken_languages': [{'iso_639_1': 'en', 'name': 'English'}, {'iso_639_1': 'cy', 'name': 'Cymraeg'}], 'status': 'Released', 'tagline': 'One of the living for one of the dead.', 'title': 'The Dark', 'video': False, 'vote_average': 6.0, 'vote_count': 144}\n",
      "{'adult': False, 'backdrop_path': '/qlGoGQSVMzIjGbpvXzZUOH1FjNu.jpg', 'belongs_to_collection': None, 'budget': 90000000, 'genres': [{'id': 12, 'name': 'Adventure'}, {'id': 14, 'name': 'Fantasy'}, {'id': 28, 'name': 'Action'}, {'id': 53, 'name': 'Thriller'}, {'id': 878, 'name': 'Science Fiction'}], 'homepage': None, 'id': 18, 'imdb_id': 'tt0119116', 'original_language': 'en', 'original_title': 'The Fifth Element', 'overview': 'In 2257, a taxi driver is unintentionally given the task of saving a young girl who is part of the key that will ensure the survival of humanity.', 'popularity': 21.504, 'poster_path': '/zaFa1NRZEnFgRTv5OVXkNIZO78O.jpg', 'production_companies': [{'id': 5, 'logo_path': '/71BqEFAF4V3qjjMPCpLuyJFB9A.png', 'name': 'Columbia Pictures', 'origin_country': 'US'}, {'id': 9, 'logo_path': '/nda3dTUYdDrJ6rZqBpYvY865aDv.png', 'name': 'Gaumont', 'origin_country': 'FR'}], 'production_countries': [{'iso_3166_1': 'FR', 'name': 'France'}], 'release_date': '1997-05-07', 'revenue': 263920180, 'runtime': 126, 'spoken_languages': [{'iso_639_1': 'en', 'name': 'English'}, {'iso_639_1': 'sv', 'name': 'svenska'}, {'iso_639_1': 'de', 'name': 'Deutsch'}], 'status': 'Released', 'tagline': 'There is no future without it', 'title': 'The Fifth Element', 'video': False, 'vote_average': 7.4, 'vote_count': 6024}\n",
      "{'adult': False, 'backdrop_path': '/gmH0N0bdlYGN1EUr8U2cMQYyg78.jpg', 'belongs_to_collection': None, 'budget': 92620000, 'genres': [{'id': 18, 'name': 'Drama'}, {'id': 878, 'name': 'Science Fiction'}], 'homepage': None, 'id': 19, 'imdb_id': 'tt0017136', 'original_language': 'de', 'original_title': 'Metropolis', 'overview': \"In a futuristic city sharply divided between the working class and the city planners, the son of the city's mastermind falls in love with a working class prophet who predicts the coming of a savior to mediate their differences.\", 'popularity': 10.573, 'poster_path': '/qriaeUUwdmlgethK3aSAx68mG05.jpg', 'production_companies': [{'id': 4, 'logo_path': '/fycMZt242LVjagMByZOLUGbCvv3.png', 'name': 'Paramount', 'origin_country': 'US'}, {'id': 12372, 'logo_path': None, 'name': 'Universum Film (UFA)', 'origin_country': ''}], 'production_countries': [{'iso_3166_1': 'DE', 'name': 'Germany'}], 'release_date': '1927-01-10', 'revenue': 650422, 'runtime': 153, 'spoken_languages': [{'iso_639_1': 'xx', 'name': 'No Language'}], 'status': 'Released', 'tagline': 'There can be no understanding between the hands and the brain unless the heart acts as mediator.', 'title': 'Metropolis', 'video': False, 'vote_average': 8.2, 'vote_count': 1121}\n",
      "{'adult': False, 'backdrop_path': '/caLMOD3ZJ3V7qjlxDXrzlJfBLgD.jpg', 'belongs_to_collection': None, 'budget': 0, 'genres': [{'id': 18, 'name': 'Drama'}, {'id': 10749, 'name': 'Romance'}], 'homepage': 'http://www.clubcultura.com/clubcine/clubcineastas/isabelcoixet/mividasinmi/index.htm', 'id': 20, 'imdb_id': 'tt0314412', 'original_language': 'ko', 'original_title': 'My Life Without Me', 'overview': 'A Pedro Almodovar production in which a fatally ill mother with only two months to live creates a list of things she wants to do before she dies with out telling her family of her illness.', 'popularity': 8.015, 'poster_path': '/vVj92VBFUBzjqzLvBiPVVlJDp78.jpg', 'production_companies': [{'id': 49, 'logo_path': None, 'name': 'El Deseo', 'origin_country': 'ES'}, {'id': 77, 'logo_path': None, 'name': 'Milestone Productions', 'origin_country': ''}], 'production_countries': [{'iso_3166_1': 'CA', 'name': 'Canada'}, {'iso_3166_1': 'ES', 'name': 'Spain'}], 'release_date': '2003-03-07', 'revenue': 9726954, 'runtime': 106, 'spoken_languages': [{'iso_639_1': 'en', 'name': 'English'}], 'status': 'Released', 'tagline': '', 'title': 'My Life Without Me', 'video': False, 'vote_average': 6.5, 'vote_count': 173}\n",
      "{'adult': False, 'backdrop_path': '/8vtPfPla4biTyLu28SOc88XXG1f.jpg', 'belongs_to_collection': {'id': 252313, 'name': 'The Endless Summer Collection', 'poster_path': '/zhG3P4ALlXxoFi0CGfcVsR3qmDL.jpg', 'backdrop_path': '/rbeqwDmy0yPMxBqA2ELvu08okcn.jpg'}, 'budget': 0, 'genres': [{'id': 99, 'name': 'Documentary'}], 'homepage': None, 'id': 21, 'imdb_id': 'tt0060371', 'original_language': 'en', 'original_title': 'The Endless Summer', 'overview': 'The Endless Summer, by Bruce Brown, is one of the first and most influential surf movies of all times. The film documents American surfers Mike Hynson and Robert August as they travel the world during California’s winter (which back in 1965 was off-season for surfing) in search of the perfect wave and an endless summer.', 'popularity': 2.779, 'poster_path': '/jqsZQPxeMjcvVN5aFGgAk7qQodr.jpg', 'production_companies': [{'id': 13723, 'logo_path': None, 'name': 'Bruce Brown Films', 'origin_country': ''}], 'production_countries': [{'iso_3166_1': 'US', 'name': 'United States of America'}], 'release_date': '1966-06-15', 'revenue': 0, 'runtime': 91, 'spoken_languages': [{'iso_639_1': 'en', 'name': 'English'}], 'status': 'Released', 'tagline': 'The Search for the Perfect Wave!', 'title': 'The Endless Summer', 'video': False, 'vote_average': 7.9, 'vote_count': 44}\n",
      "{'adult': False, 'backdrop_path': '/8AUQ7YlJJA9C8kWk8P4YNHIcFDE.jpg', 'belongs_to_collection': {'id': 295, 'name': 'Pirates of the Caribbean Collection', 'poster_path': '/zT5UKFhq9nk97VGlBbAxlAK8UFN.jpg', 'backdrop_path': '/zJd4E0ImT1U6O8k6aX3ssc9iUBS.jpg'}, 'budget': 140000000, 'genres': [{'id': 12, 'name': 'Adventure'}, {'id': 14, 'name': 'Fantasy'}, {'id': 28, 'name': 'Action'}], 'homepage': 'http://disney.go.com/disneyvideos/liveaction/pirates/main_site/main.html', 'id': 22, 'imdb_id': 'tt0325980', 'original_language': 'en', 'original_title': 'Pirates of the Caribbean: The Curse of the Black Pearl', 'overview': \"Jack Sparrow, a freewheeling 19th-century pirate, quarrels with a rival pirate bent on pillaging Port Royal. When the governor's daughter is kidnapped, Sparrow decides to help the girl's love save her.\", 'popularity': 46.573, 'poster_path': '/tkt9xR1kNX5R9rCebASKck44si2.jpg', 'production_companies': [{'id': 130, 'logo_path': '/c9dVHPOL3cqCr2593Ahk0nEKTEM.png', 'name': 'Jerry Bruckheimer Films', 'origin_country': 'US'}, {'id': 2, 'logo_path': '/4MbjW4f9bu6LvlDmyIvfyuT3boj.png', 'name': 'Walt Disney Pictures', 'origin_country': 'US'}], 'production_countries': [{'iso_3166_1': 'US', 'name': 'United States of America'}], 'release_date': '2003-07-09', 'revenue': 655011224, 'runtime': 143, 'spoken_languages': [{'iso_639_1': 'en', 'name': 'English'}], 'status': 'Released', 'tagline': 'Prepare to be blown out of the water.', 'title': 'Pirates of the Caribbean: The Curse of the Black Pearl', 'video': False, 'vote_average': 7.7, 'vote_count': 11895}\n"
     ]
    },
    {
     "name": "stdout",
     "output_type": "stream",
     "text": [
      "{'adult': False, 'backdrop_path': '/kkS8PKa8c134vXsj2fQkNqOaCXU.jpg', 'belongs_to_collection': {'id': 2883, 'name': 'Kill Bill Collection', 'poster_path': '/tf1nUtw3LJGUGv1EFFi23iz6ngr.jpg', 'backdrop_path': '/oCLKNACMNrEf4T1EP6BpMXDl5m1.jpg'}, 'budget': 30000000, 'genres': [{'id': 28, 'name': 'Action'}, {'id': 80, 'name': 'Crime'}], 'homepage': 'http://www.miramax.com/movie/kill-bill-volume-1/', 'id': 24, 'imdb_id': 'tt0266697', 'original_language': 'en', 'original_title': 'Kill Bill: Vol. 1', 'overview': 'An assassin is shot by her ruthless employer, Bill, and other members of their assassination circle – but she lives to plot her vengeance.', 'popularity': 34.364, 'poster_path': '/v7TaX8kXMXs5yFFGR41guUDNcnB.jpg', 'production_companies': [{'id': 14, 'logo_path': '/m6AHu84oZQxvq7n1rsvMNJIAsMu.png', 'name': 'Miramax', 'origin_country': 'US'}, {'id': 59, 'logo_path': '/yH7OMeSxhfP0AVM6iT0rsF3F4ZC.png', 'name': 'A Band Apart', 'origin_country': 'US'}, {'id': 39121, 'logo_path': None, 'name': 'Super Cool ManChu', 'origin_country': ''}], 'production_countries': [{'iso_3166_1': 'US', 'name': 'United States of America'}], 'release_date': '2003-10-10', 'revenue': 180949045, 'runtime': 111, 'spoken_languages': [{'iso_639_1': 'en', 'name': 'English'}, {'iso_639_1': 'ja', 'name': '日本語'}, {'iso_639_1': 'fr', 'name': 'Français'}], 'status': 'Released', 'tagline': 'Go for the kill.', 'title': 'Kill Bill: Vol. 1', 'video': False, 'vote_average': 7.9, 'vote_count': 8965}\n",
      "{'adult': False, 'backdrop_path': '/shg7ZGAGVxhM9ZfOtV6bp93QZwt.jpg', 'belongs_to_collection': {'id': 285564, 'name': 'Jarhead Collection', 'poster_path': '/aRFpBjCseFD6UmahAuLdqS7Or5q.jpg', 'backdrop_path': '/ifSnip5tvaHvxLPAyjkiihE6T2I.jpg'}, 'budget': 72000000, 'genres': [{'id': 18, 'name': 'Drama'}, {'id': 10752, 'name': 'War'}], 'homepage': None, 'id': 25, 'imdb_id': 'tt0418763', 'original_language': 'en', 'original_title': 'Jarhead', 'overview': 'Jarhead is a film about a US Marine Anthony Swofford’s experience in the Gulf War. After putting up with an arduous boot camp, Swofford and his unit are sent to the Persian Gulf where they are eager to fight, but are forced to stay back from the action. Swofford struggles with the possibility of his girlfriend cheating on him, and as his mental state deteriorates, his desire to kill increases.', 'popularity': 9.701, 'poster_path': '/iEYnXqUsfTaKwO1svSa39Ap07of.jpg', 'production_companies': [{'id': 33, 'logo_path': '/8lvHyhjr8oUKOOy2dKXoALWKdp0.png', 'name': 'Universal Pictures', 'origin_country': 'US'}, {'id': 14440, 'logo_path': None, 'name': 'Red Wagon Entertainment', 'origin_country': ''}, {'id': 1522, 'logo_path': None, 'name': 'Neal Street Productions', 'origin_country': 'GB'}, {'id': 19934, 'logo_path': None, 'name': 'Motion Picture KAPPA Produktionsgesellschaft', 'origin_country': ''}], 'production_countries': [{'iso_3166_1': 'DE', 'name': 'Germany'}, {'iso_3166_1': 'US', 'name': 'United States of America'}], 'release_date': '2005-11-04', 'revenue': 96889998, 'runtime': 123, 'spoken_languages': [{'iso_639_1': 'en', 'name': 'English'}, {'iso_639_1': 'es', 'name': 'Español'}, {'iso_639_1': 'ar', 'name': 'العربية'}, {'iso_639_1': 'la', 'name': 'Latin'}], 'status': 'Released', 'tagline': 'Welcome to the suck.', 'title': 'Jarhead', 'video': False, 'vote_average': 6.6, 'vote_count': 1240}\n",
      "{'adult': False, 'backdrop_path': '/osVUxR3HdccQG8yBKX3VWp8nVFv.jpg', 'belongs_to_collection': None, 'budget': 1400000, 'genres': [{'id': 18, 'name': 'Drama'}], 'homepage': 'http://www.walkonwatermovie.com', 'id': 26, 'imdb_id': 'tt0352994', 'original_language': 'he', 'original_title': 'LaLehet Al HaMayim', 'overview': \"Eyal, an Israeli Mossad agent, is given the mission to track down and kill the very old Alfred Himmelman, an ex-Nazi officer, who might still be alive. Pretending to be a tourist guide, he befriends his grandson Axel, in Israel to visit his sister Pia. The two men set out on a tour of the country during which, Axel challenges Eyal's values.\", 'popularity': 2.74, 'poster_path': '/5BH0k5pauAqywpr4NL9nKYcKC6O.jpg', 'production_companies': [{'id': 15, 'logo_path': None, 'name': 'Lama Films', 'origin_country': ''}, {'id': 16, 'logo_path': '/7690NQfOfnbvrY3vFgyMO2Pc8WS.png', 'name': 'United King Films', 'origin_country': 'IL'}], 'production_countries': [{'iso_3166_1': 'IL', 'name': 'Israel'}, {'iso_3166_1': 'SE', 'name': 'Sweden'}], 'release_date': '2004-02-05', 'revenue': 0, 'runtime': 103, 'spoken_languages': [{'iso_639_1': 'ar', 'name': 'العربية'}, {'iso_639_1': 'de', 'name': 'Deutsch'}, {'iso_639_1': 'en', 'name': 'English'}, {'iso_639_1': 'he', 'name': 'עִבְרִית'}, {'iso_639_1': 'it', 'name': 'Italiano'}, {'iso_639_1': 'tr', 'name': 'Türkçe'}], 'status': 'Released', 'tagline': 'He was trained to hate until he met the enemy.', 'title': 'Walk on Water', 'video': False, 'vote_average': 6.9, 'vote_count': 35}\n",
      "{'adult': False, 'backdrop_path': '/tie8vA3q3Q9BB5RlMlexRvv9xoh.jpg', 'belongs_to_collection': None, 'budget': 1000000, 'genres': [{'id': 18, 'name': 'Drama'}, {'id': 10402, 'name': 'Music'}, {'id': 10749, 'name': 'Romance'}], 'homepage': None, 'id': 27, 'imdb_id': 'tt0411705', 'original_language': 'en', 'original_title': '9 Songs', 'overview': \"Matt, a young glaciologist, soars across the vast, silent, icebound immensities of the South Pole as he recalls his love affair with Lisa. They meet at a mobbed rock concert in a vast music hall - London's Brixton Academy. They are in bed at night's end. Together, over a period of several months, they pursue a mutual sexual passion whose inevitable stages unfold in counterpoint to nine live-concert songs.\", 'popularity': 10.208, 'poster_path': '/91O7z0vo7MiNWd5xD2BoivwbQsb.jpg', 'production_companies': [{'id': 163, 'logo_path': None, 'name': 'Revolution Films', 'origin_country': ''}], 'production_countries': [{'iso_3166_1': 'GB', 'name': 'United Kingdom'}], 'release_date': '2004-07-16', 'revenue': 1574623, 'runtime': 66, 'spoken_languages': [{'iso_639_1': 'en', 'name': 'English'}], 'status': 'Released', 'tagline': '2 lovers, one summer, and the 9 songs that defined them.', 'title': '9 Songs', 'video': False, 'vote_average': 4.9, 'vote_count': 161}\n",
      "{'adult': False, 'backdrop_path': '/k91Dag8AZbhjIJqrtf7F1bQnGPg.jpg', 'belongs_to_collection': None, 'budget': 31500000, 'genres': [{'id': 18, 'name': 'Drama'}, {'id': 10752, 'name': 'War'}], 'homepage': 'http://www.apocalypsenow.com', 'id': 28, 'imdb_id': 'tt0078788', 'original_language': 'en', 'original_title': 'Apocalypse Now', 'overview': 'At the height of the Vietnam war, Captain Benjamin Willard is sent on a dangerous mission that, officially, \"does not exist, nor will it ever exist.\" His goal is to locate - and eliminate - a mysterious Green Beret Colonel named Walter Kurtz, who has been leading his personal army on illegal guerrilla missions into enemy territory.', 'popularity': 17.117, 'poster_path': '/jcvJ2xcVWU9Wh0hZAxcs103s8nN.jpg', 'production_companies': [{'id': 60, 'logo_path': '/oJXpAs4I3W46e4dkaOEzCa4yBko.png', 'name': 'United Artists', 'origin_country': 'US'}, {'id': 26663, 'logo_path': None, 'name': 'Zoetrope Studios', 'origin_country': ''}], 'production_countries': [{'iso_3166_1': 'US', 'name': 'United States of America'}], 'release_date': '1979-08-15', 'revenue': 89460381, 'runtime': 147, 'spoken_languages': [{'iso_639_1': 'km', 'name': ''}, {'iso_639_1': 'en', 'name': 'English'}, {'iso_639_1': 'fr', 'name': 'Français'}, {'iso_639_1': 'vi', 'name': 'Tiếng Việt'}], 'status': 'Released', 'tagline': 'This is the end...', 'title': 'Apocalypse Now', 'video': False, 'vote_average': 8.2, 'vote_count': 3734}\n",
      "{'adult': False, 'backdrop_path': '/8A11sHkxWPHtXM1H3jzuWZpAvg5.jpg', 'belongs_to_collection': None, 'budget': 0, 'genres': [{'id': 16, 'name': 'Animation'}, {'id': 878, 'name': 'Science Fiction'}], 'homepage': None, 'id': 30, 'imdb_id': 'tt1530535', 'original_language': 'ja', 'original_title': '彼女の想いで', 'overview': 'Koji Morimato’s animated science fiction short story about how the border between reality and illusion on a space station becomes blurry.', 'popularity': 2.513, 'poster_path': '/1A59xquD5rZeQRgjMfI4qu1ZvcQ.jpg', 'production_companies': [{'id': 11671, 'logo_path': '/iRdYQdn1eunwV3qAs6RK5Mqwn8Z.png', 'name': 'Studio 4°C', 'origin_country': 'JP'}], 'production_countries': [{'iso_3166_1': 'JP', 'name': 'Japan'}], 'release_date': '1995-12-23', 'revenue': 0, 'runtime': 44, 'spoken_languages': [{'iso_639_1': 'ja', 'name': '日本語'}], 'status': 'Released', 'tagline': '', 'title': 'Magnetic Rose', 'video': False, 'vote_average': 5.2, 'vote_count': 42}\n"
     ]
    },
    {
     "name": "stdout",
     "output_type": "stream",
     "text": [
      "{'adult': False, 'backdrop_path': '/limMzynPgBuDVKTSngwtNaWdVaZ.jpg', 'belongs_to_collection': None, 'budget': 0, 'genres': [{'id': 28, 'name': 'Action'}, {'id': 16, 'name': 'Animation'}, {'id': 35, 'name': 'Comedy'}], 'homepage': None, 'id': 31, 'imdb_id': 'tt6266826', 'original_language': 'ja', 'original_title': '最臭兵器', 'overview': 'Tensai Okamura’s animated action packed short story with lots of humorous elements in which a person transforms into a weapon of mass destruction without themselves being aware.', 'popularity': 0.988, 'poster_path': '/1xdmuE5txar8OuZbVkfcuiIl1Vu.jpg', 'production_companies': [{'id': 11671, 'logo_path': '/iRdYQdn1eunwV3qAs6RK5Mqwn8Z.png', 'name': 'Studio 4°C', 'origin_country': 'JP'}], 'production_countries': [{'iso_3166_1': 'JP', 'name': 'Japan'}], 'release_date': '1995-12-23', 'revenue': 0, 'runtime': 40, 'spoken_languages': [{'iso_639_1': 'ja', 'name': '日本語'}], 'status': 'Released', 'tagline': '', 'title': 'Stink Bomb', 'video': False, 'vote_average': 6.4, 'vote_count': 7}\n",
      "{'adult': False, 'backdrop_path': '/9FF31wgbyFM1zeBNsRzhjGHMMaS.jpg', 'belongs_to_collection': None, 'budget': 0, 'genres': [{'id': 16, 'name': 'Animation'}, {'id': 36, 'name': 'History'}], 'homepage': None, 'id': 32, 'imdb_id': 'tt6264824', 'original_language': 'ja', 'original_title': '大砲の街', 'overview': 'Otomo Katsuhiro’s short anime story', 'popularity': 1.947, 'poster_path': '/oJdlkTtDvvpgagO2JWBBxGq5mMN.jpg', 'production_companies': [{'id': 11671, 'logo_path': '/iRdYQdn1eunwV3qAs6RK5Mqwn8Z.png', 'name': 'Studio 4°C', 'origin_country': 'JP'}], 'production_countries': [{'iso_3166_1': 'JP', 'name': 'Japan'}], 'release_date': '1995-12-23', 'revenue': 0, 'runtime': 21, 'spoken_languages': [{'iso_639_1': 'ja', 'name': '日本語'}], 'status': 'Released', 'tagline': '', 'title': 'Cannon Fodder', 'video': False, 'vote_average': 6.6, 'vote_count': 9}\n",
      "{'adult': False, 'backdrop_path': '/nKYH8DaWjKE3RhEyaa0Ue01kPCp.jpg', 'belongs_to_collection': None, 'budget': 14000000, 'genres': [{'id': 37, 'name': 'Western'}], 'homepage': None, 'id': 33, 'imdb_id': 'tt0105695', 'original_language': 'en', 'original_title': 'Unforgiven', 'overview': 'William Munny is a retired, once-ruthless killer turned gentle widower and hog farmer. To help support his two motherless children, he accepts one last bounty-hunter mission to find the men who brutalized a prostitute. Joined by his former partner and a cocky greenhorn, he takes on a corrupt sheriff.', 'popularity': 14.637, 'poster_path': '/km6qw4qUkHQRN5y2U1juM1WkBFh.jpg', 'production_companies': [{'id': 171, 'logo_path': None, 'name': 'Malpaso Productions', 'origin_country': 'US'}, {'id': 174, 'logo_path': '/ky0xOc5OrhzkZ1N6KyUxacfQsCk.png', 'name': 'Warner Bros. Pictures', 'origin_country': 'US'}], 'production_countries': [{'iso_3166_1': 'US', 'name': 'United States of America'}], 'release_date': '1992-08-07', 'revenue': 159157447, 'runtime': 131, 'spoken_languages': [{'iso_639_1': 'en', 'name': 'English'}], 'status': 'Released', 'tagline': 'Some legends will never be forgotten. Some wrongs can never be forgiven.', 'title': 'Unforgiven', 'video': False, 'vote_average': 7.9, 'vote_count': 1862}\n",
      "{'adult': False, 'backdrop_path': '/tNpqx8PcFdgKgheUWmNqNF9RNGm.jpg', 'belongs_to_collection': None, 'budget': 75000000, 'genres': [{'id': 16, 'name': 'Animation'}, {'id': 35, 'name': 'Comedy'}, {'id': 10751, 'name': 'Family'}], 'homepage': 'http://www.simpsonsmovie.com/', 'id': 35, 'imdb_id': 'tt0462538', 'original_language': 'en', 'original_title': 'The Simpsons Movie', 'overview': \"After Homer accidentally pollutes the town's water supply, Springfield is encased in a gigantic dome by the EPA and the Simpsons are declared fugitives.\", 'popularity': 15.217, 'poster_path': '/vfLs6JDPcWqHNLvS0faLggMOm6w.jpg', 'production_companies': [{'id': 80853, 'logo_path': None, 'name': 'AKOM Production Company', 'origin_country': ''}, {'id': 18, 'logo_path': '/uqhagSwM7NAkQWVCQhKTyoqF8XH.png', 'name': 'Gracie Films', 'origin_country': 'US'}, {'id': 96084, 'logo_path': None, 'name': 'Rough Draft Feature Animation', 'origin_country': ''}, {'id': 19, 'logo_path': None, 'name': 'Film Roman', 'origin_country': ''}, {'id': 25, 'logo_path': '/qZCc1lty5FzX30aOCVRBLzaVmcp.png', 'name': '20th Century Fox', 'origin_country': 'US'}], 'production_countries': [{'iso_3166_1': 'US', 'name': 'United States of America'}], 'release_date': '2007-07-27', 'revenue': 527068851, 'runtime': 87, 'spoken_languages': [{'iso_639_1': 'en', 'name': 'English'}], 'status': 'Released', 'tagline': 'See our family. And feel better about yours.', 'title': 'The Simpsons Movie', 'video': False, 'vote_average': 6.9, 'vote_count': 4366}\n",
      "{'adult': False, 'backdrop_path': '/1dXTsaFxHoF9cas08UjAqE8NqOW.jpg', 'belongs_to_collection': None, 'budget': 20000000, 'genres': [{'id': 878, 'name': 'Science Fiction'}, {'id': 18, 'name': 'Drama'}, {'id': 10749, 'name': 'Romance'}], 'homepage': 'http://www.eternalsunshine.com', 'id': 38, 'imdb_id': 'tt0338013', 'original_language': 'en', 'original_title': 'Eternal Sunshine of the Spotless Mind', 'overview': 'Joel Barish, heartbroken that his girlfriend underwent a procedure to erase him from her memory, decides to do the same. However, as he watches his memories of her fade away, he realises that he still loves her, and may be too late to correct his mistake.', 'popularity': 18.172, 'poster_path': '/7y3eYvTsGjxPYDtSnumCLIMDkrV.jpg', 'production_companies': [{'id': 10146, 'logo_path': '/xnFIOeq5cKw09kCWqV7foWDe4AA.png', 'name': 'Focus Features', 'origin_country': 'US'}, {'id': 10039, 'logo_path': '/b8w4LldQolMKiLZw4FQJBcXSDGI.png', 'name': 'Anonymous Content', 'origin_country': 'US'}, {'id': 10059, 'logo_path': None, 'name': 'This Is That Productions', 'origin_country': ''}], 'production_countries': [{'iso_3166_1': 'US', 'name': 'United States of America'}], 'release_date': '2004-03-19', 'revenue': 72258126, 'runtime': 108, 'spoken_languages': [{'iso_639_1': 'en', 'name': 'English'}], 'status': 'Released', 'tagline': 'You can erase someone from your mind. Getting them out of your heart is another story.', 'title': 'Eternal Sunshine of the Spotless Mind', 'video': False, 'vote_average': 8.1, 'vote_count': 7104}\n",
      "{'adult': False, 'backdrop_path': '/AuXC0SsPZaAfddtSMnxSnbEeEjR.jpg', 'belongs_to_collection': None, 'budget': 2000000, 'genres': [{'id': 18, 'name': 'Drama'}, {'id': 53, 'name': 'Thriller'}], 'homepage': None, 'id': 55, 'imdb_id': 'tt0245712', 'original_language': 'es', 'original_title': 'Amores perros', 'overview': \"Three different people in Mexico City are catapulted into dramatic and unforeseen circumstances in the wake of a terrible car crash: a young punk stumbles into the sinister underground world of dog fighting; an injured supermodel's designer pooch disappears into the apartment's floorboards; and an ex-radical turned hit man rescues a gunshot Rotweiler.\", 'popularity': 7.239, 'poster_path': '/8gEXmIzw1tDnBfOaCFPimkNIkmm.jpg', 'production_companies': [{'id': 5084, 'logo_path': None, 'name': 'Altavista Films', 'origin_country': ''}, {'id': 110056, 'logo_path': None, 'name': 'Zeta Film (MX)', 'origin_country': ''}], 'production_countries': [{'iso_3166_1': 'MX', 'name': 'Mexico'}], 'release_date': '2000-06-16', 'revenue': 20908467, 'runtime': 154, 'spoken_languages': [{'iso_639_1': 'es', 'name': 'Español'}], 'status': 'Released', 'tagline': 'Love. Betrayal. Death.', 'title': 'Amores Perros', 'video': False, 'vote_average': 7.7, 'vote_count': 959}\n",
      "{'adult': False, 'backdrop_path': '/yD3gXOtGmXnbJBPLgqluZU2QF5c.jpg', 'belongs_to_collection': {'id': 295, 'name': 'Pirates of the Caribbean Collection', 'poster_path': '/zT5UKFhq9nk97VGlBbAxlAK8UFN.jpg', 'backdrop_path': '/zJd4E0ImT1U6O8k6aX3ssc9iUBS.jpg'}, 'budget': 200000000, 'genres': [{'id': 12, 'name': 'Adventure'}, {'id': 14, 'name': 'Fantasy'}, {'id': 28, 'name': 'Action'}], 'homepage': 'http://disney.go.com/disneypictures/pirates/', 'id': 58, 'imdb_id': 'tt0383574', 'original_language': 'en', 'original_title': \"Pirates of the Caribbean: Dead Man's Chest\", 'overview': 'Captain Jack Sparrow works his way out of a blood debt with the ghostly Davey Jones, he also attempts to avoid eternal damnation.', 'popularity': 26.02, 'poster_path': '/waFr5RVKaQ9dzOt3nQuIVB1FiPu.jpg', 'production_companies': [{'id': 2, 'logo_path': '/4MbjW4f9bu6LvlDmyIvfyuT3boj.png', 'name': 'Walt Disney Pictures', 'origin_country': 'US'}, {'id': 130, 'logo_path': '/c9dVHPOL3cqCr2593Ahk0nEKTEM.png', 'name': 'Jerry Bruckheimer Films', 'origin_country': 'US'}, {'id': 19936, 'logo_path': None, 'name': 'Second Mate Productions', 'origin_country': 'US'}], 'production_countries': [{'iso_3166_1': 'US', 'name': 'United States of America'}], 'release_date': '2006-06-20', 'revenue': 1065659812, 'runtime': 151, 'spoken_languages': [{'iso_639_1': 'en', 'name': 'English'}, {'iso_639_1': 'tr', 'name': 'Türkçe'}, {'iso_639_1': 'el', 'name': 'ελληνικά'}, {'iso_639_1': 'zh', 'name': '普通话'}], 'status': 'Released', 'tagline': 'Jack is back!', 'title': \"Pirates of the Caribbean: Dead Man's Chest\", 'video': False, 'vote_average': 7.2, 'vote_count': 9042}\n"
     ]
    },
    {
     "name": "stdout",
     "output_type": "stream",
     "text": [
      "{'adult': False, 'backdrop_path': '/8rbvmhGmUqEjLmo2mDycTazEaAc.jpg', 'belongs_to_collection': None, 'budget': 32000000, 'genres': [{'id': 18, 'name': 'Drama'}, {'id': 53, 'name': 'Thriller'}, {'id': 80, 'name': 'Crime'}], 'homepage': None, 'id': 59, 'imdb_id': 'tt0399146', 'original_language': 'en', 'original_title': 'A History of Violence', 'overview': 'An average family is thrust into the spotlight after the father commits a seemingly self-defense murder at his diner.', 'popularity': 11.707, 'poster_path': '/mz1qCHXxTUJm2AqOdW3IIpwYdo3.jpg', 'production_companies': [{'id': 12, 'logo_path': '/iaYpEp3LQmb8AfAtmTvpqd4149c.png', 'name': 'New Line Cinema', 'origin_country': 'US'}, {'id': 429, 'logo_path': '/2Tc1P3Ac8M479naPp1kYT3izLS5.png', 'name': 'DC Comics', 'origin_country': 'US'}, {'id': 6363, 'logo_path': None, 'name': 'BenderSpink', 'origin_country': ''}], 'production_countries': [{'iso_3166_1': 'US', 'name': 'United States of America'}, {'iso_3166_1': 'CA', 'name': 'Canada'}, {'iso_3166_1': 'DE', 'name': 'Germany'}], 'release_date': '2005-09-23', 'revenue': 60740827, 'runtime': 96, 'spoken_languages': [{'iso_639_1': 'en', 'name': 'English'}], 'status': 'Released', 'tagline': 'Tom Stall had the perfect life... until he became a hero.', 'title': 'A History of Violence', 'video': False, 'vote_average': 7.1, 'vote_count': 1436}\n",
      "{'adult': False, 'backdrop_path': '/6gyZF4SeifiUUYDELkCS8nOqsu2.jpg', 'belongs_to_collection': {'id': 4438, 'name': 'The Space Odyssey Series', 'poster_path': '/i1WdRtc6aObiwGz5NU8WWPW3r1N.jpg', 'backdrop_path': '/mGeBxBuhU7yx2Ga4U2ST4reEDeb.jpg'}, 'budget': 10500000, 'genres': [{'id': 878, 'name': 'Science Fiction'}, {'id': 9648, 'name': 'Mystery'}, {'id': 12, 'name': 'Adventure'}], 'homepage': 'http://2001spaceodysseymovie.com', 'id': 62, 'imdb_id': 'tt0062622', 'original_language': 'en', 'original_title': '2001: A Space Odyssey', 'overview': \"Humanity finds a mysterious object buried beneath the lunar surface and sets off to find its origins with the help of HAL 9000, the world's most advanced super computer.\", 'popularity': 17.992, 'poster_path': '/90T7b2LIrL07ndYQBmSm09yqVEH.jpg', 'production_companies': [{'id': 385, 'logo_path': None, 'name': 'Stanley Kubrick Productions', 'origin_country': ''}, {'id': 21, 'logo_path': '/mjofSXiHpG5t6KYmU4l4FrUhT7m.png', 'name': 'Metro-Goldwyn-Mayer', 'origin_country': 'US'}], 'production_countries': [{'iso_3166_1': 'GB', 'name': 'United Kingdom'}, {'iso_3166_1': 'US', 'name': 'United States of America'}], 'release_date': '1968-04-09', 'revenue': 68700000, 'runtime': 149, 'spoken_languages': [{'iso_639_1': 'en', 'name': 'English'}, {'iso_639_1': 'ru', 'name': 'Pусский'}], 'status': 'Released', 'tagline': 'The ultimate trip', 'title': '2001: A Space Odyssey', 'video': False, 'vote_average': 8.0, 'vote_count': 5596}\n",
      "{'adult': False, 'backdrop_path': '/6KXbhaxkgExC5EdDqAzRinhmoZ8.jpg', 'belongs_to_collection': None, 'budget': 29500000, 'genres': [{'id': 878, 'name': 'Science Fiction'}, {'id': 53, 'name': 'Thriller'}, {'id': 9648, 'name': 'Mystery'}], 'homepage': None, 'id': 63, 'imdb_id': 'tt0114746', 'original_language': 'en', 'original_title': 'Twelve Monkeys', 'overview': \"In the year 2035, convict James Cole reluctantly volunteers to be sent back in time to discover the origin of a deadly virus that wiped out nearly all of the earth's population and forced the survivors into underground communities. But when Cole is mistakenly sent to 1990 instead of 1996, he's arrested and locked up in a mental hospital. There he meets psychiatrist Dr. Kathryn Railly, and patient Jeffrey Goines, the son of a famous virus expert, who may hold the key to the mysterious rogue group, the Army of the 12 Monkeys, thought to be responsible for unleashing the killer disease.\", 'popularity': 15.913, 'poster_path': '/6Sj9wDu3YugthXsU0Vry5XFAZGg.jpg', 'production_companies': [{'id': 33, 'logo_path': '/8lvHyhjr8oUKOOy2dKXoALWKdp0.png', 'name': 'Universal Pictures', 'origin_country': 'US'}, {'id': 507, 'logo_path': '/z7H707qUWigbjHnJDMfj6QITEpb.png', 'name': 'Atlas Entertainment', 'origin_country': 'US'}, {'id': 17031, 'logo_path': None, 'name': 'Classico', 'origin_country': ''}], 'production_countries': [{'iso_3166_1': 'US', 'name': 'United States of America'}], 'release_date': '1995-12-29', 'revenue': 168840000, 'runtime': 129, 'spoken_languages': [{'iso_639_1': 'en', 'name': 'English'}, {'iso_639_1': 'fr', 'name': 'Français'}], 'status': 'Released', 'tagline': 'The future is history.', 'title': 'Twelve Monkeys', 'video': False, 'vote_average': 7.5, 'vote_count': 4177}\n",
      "{'adult': False, 'backdrop_path': '/3QFJkOSvFOYs8kUhXfJ8nE4UBU6.jpg', 'belongs_to_collection': None, 'budget': 0, 'genres': [{'id': 18, 'name': 'Drama'}, {'id': 10749, 'name': 'Romance'}], 'homepage': None, 'id': 64, 'imdb_id': 'tt0287467', 'original_language': 'es', 'original_title': 'Hable con ella', 'overview': 'Two men share an odd friendship while they care for two women who are both in deep comas.', 'popularity': 7.868, 'poster_path': '/klsBB1YEGRyC7YjiLYCKIqkU6pY.jpg', 'production_companies': [{'id': 357, 'logo_path': None, 'name': 'Vía Digital', 'origin_country': 'ES'}, {'id': 10565, 'logo_path': None, 'name': 'Good Machine', 'origin_country': 'US'}, {'id': 11737, 'logo_path': None, 'name': 'Antena 3 Televisión', 'origin_country': ''}, {'id': 49, 'logo_path': None, 'name': 'El Deseo', 'origin_country': 'ES'}], 'production_countries': [{'iso_3166_1': 'ES', 'name': 'Spain'}], 'release_date': '2002-03-14', 'revenue': 51001550, 'runtime': 112, 'spoken_languages': [{'iso_639_1': 'es', 'name': 'Español'}], 'status': 'Released', 'tagline': '', 'title': 'Talk to Her', 'video': False, 'vote_average': 7.6, 'vote_count': 468}\n",
      "{'adult': False, 'backdrop_path': '/jq4dyVYsCGQRTXKDLoqZwg4tbIr.jpg', 'belongs_to_collection': None, 'budget': 41000000, 'genres': [{'id': 18, 'name': 'Drama'}, {'id': 10402, 'name': 'Music'}], 'homepage': None, 'id': 65, 'imdb_id': 'tt0298203', 'original_language': 'en', 'original_title': '8 Mile', 'overview': 'The setting is Detroit in 1995. The city is divided by 8 Mile, a road that splits the town in half along racial lines. A young white rapper, Jimmy \"B-Rabbit\" Smith Jr. summons strength within himself to cross over these arbitrary boundaries to fulfill his dream of success in hip hop. With his pal Future and the three one third in place, all he has to do is not choke.', 'popularity': 15.764, 'poster_path': '/dXzTrKwpbLpCqn8O70FUUhNbYQT.jpg', 'production_companies': [{'id': 24, 'logo_path': None, 'name': 'Mikona Productions GmbH & Co. KG', 'origin_country': ''}, {'id': 23, 'logo_path': '/mkxNjThahj5pvntvYKVpMbWXm3D.png', 'name': 'Imagine Entertainment', 'origin_country': 'US'}], 'production_countries': [{'iso_3166_1': 'US', 'name': 'United States of America'}], 'release_date': '2002-11-08', 'revenue': 242875078, 'runtime': 110, 'spoken_languages': [{'iso_639_1': 'en', 'name': 'English'}], 'status': 'Released', 'tagline': 'Every moment is another chance.', 'title': '8 Mile', 'video': False, 'vote_average': 7.0, 'vote_count': 3243}\n",
      "{'adult': False, 'backdrop_path': '/zDSAJ8xpbq1jekZOT2DL9yasMEv.jpg', 'belongs_to_collection': None, 'budget': 50000000, 'genres': [{'id': 80, 'name': 'Crime'}, {'id': 18, 'name': 'Drama'}, {'id': 53, 'name': 'Thriller'}, {'id': 9648, 'name': 'Mystery'}], 'homepage': None, 'id': 66, 'imdb_id': 'tt0118548', 'original_language': 'en', 'original_title': 'Absolute Power', 'overview': 'A master thief coincidentally is robbing a house where a murder in which the President of The United States is involved occurs in front of his eyes. He is forced to run yet may hold evidence that could convict the President.', 'popularity': 9.812, 'poster_path': '/oJQdp09Oc51DkArsMDvgDLdWiDu.jpg', 'production_companies': [{'id': 5, 'logo_path': '/71BqEFAF4V3qjjMPCpLuyJFB9A.png', 'name': 'Columbia Pictures', 'origin_country': 'US'}, {'id': 97, 'logo_path': '/7znWcbDd4PcJzJUlJxYqAlPPykp.png', 'name': 'Castle Rock Entertainment', 'origin_country': 'US'}, {'id': 171, 'logo_path': None, 'name': 'Malpaso Productions', 'origin_country': 'US'}], 'production_countries': [{'iso_3166_1': 'US', 'name': 'United States of America'}], 'release_date': '1997-02-14', 'revenue': 50068310, 'runtime': 121, 'spoken_languages': [{'iso_639_1': 'en', 'name': 'English'}, {'iso_639_1': 'es', 'name': 'Español'}], 'status': 'Released', 'tagline': 'Corrupts Absolutely.', 'title': 'Absolute Power', 'video': False, 'vote_average': 6.6, 'vote_count': 376}\n"
     ]
    },
    {
     "name": "stdout",
     "output_type": "stream",
     "text": [
      "{'adult': False, 'backdrop_path': '/lz1iJlKRBMtE6uHauUneX7THa0c.jpg', 'belongs_to_collection': None, 'budget': 0, 'genres': [{'id': 53, 'name': 'Thriller'}, {'id': 80, 'name': 'Crime'}, {'id': 18, 'name': 'Drama'}], 'homepage': 'http://wip.warnerbros.com/paradisenow/', 'id': 67, 'imdb_id': 'tt0445620', 'original_language': 'en', 'original_title': 'Paradise Now', 'overview': 'From the perspective of two Palestinian men who are preparing to perform a suicide attack in Israel, this is the first film to deal with the subject of suicide bombers.', 'popularity': 7.811, 'poster_path': '/qWZkYa8VdcDZk8uzRB2PfhpM9IL.jpg', 'production_companies': [{'id': 850, 'logo_path': '/aF7qajGJGtMpdrtvssM9g90YanX.png', 'name': 'Eurimages', 'origin_country': 'FR'}, {'id': 15, 'logo_path': None, 'name': 'Lama Films', 'origin_country': ''}, {'id': 89, 'logo_path': None, 'name': 'Augustus Film', 'origin_country': ''}, {'id': 91, 'logo_path': None, 'name': 'Lama Productions', 'origin_country': ''}, {'id': 93, 'logo_path': None, 'name': 'Lumer Films', 'origin_country': ''}, {'id': 95, 'logo_path': None, 'name': 'Hazazah Film', 'origin_country': ''}, {'id': 315, 'logo_path': '/hdu0sVxgtCuQud0xF8ZBiN7hEhY.png', 'name': 'Filmstiftung Nordrhein-Westfalen', 'origin_country': 'DE'}, {'id': 703, 'logo_path': None, 'name': 'Razor Film Produktion GmbH', 'origin_country': ''}, {'id': 4508, 'logo_path': '/sUq2S2ndKxp1B2NjbMJbSNlPI8V.png', 'name': 'Nederlands Fonds voor de Film', 'origin_country': 'NL'}, {'id': 7307, 'logo_path': None, 'name': 'Medienboard Berlin-Brandenburg', 'origin_country': ''}, {'id': 94, 'logo_path': '/huC7HqorvUThGIrENrbcHmQVUA0.png', 'name': 'ARTE France Cinéma', 'origin_country': 'FR'}], 'production_countries': [{'iso_3166_1': 'PS', 'name': 'Palestinian Territory'}, {'iso_3166_1': 'FR', 'name': 'France'}, {'iso_3166_1': 'DE', 'name': 'Germany'}, {'iso_3166_1': 'IL', 'name': 'Israel'}, {'iso_3166_1': 'NL', 'name': 'Netherlands'}], 'release_date': '2005-02-14', 'revenue': 3357075, 'runtime': 90, 'spoken_languages': [{'iso_639_1': 'ar', 'name': 'العربية'}, {'iso_639_1': 'en', 'name': 'English'}], 'status': 'Released', 'tagline': 'From the most unexpected place, come a  new call for peace', 'title': 'Paradise Now', 'video': False, 'vote_average': 6.9, 'vote_count': 107}\n",
      "{'adult': False, 'backdrop_path': '/zb5aFldTPWcvAR70vXWTQWkuDnQ.jpg', 'belongs_to_collection': None, 'budget': 15000000, 'genres': [{'id': 35, 'name': 'Comedy'}, {'id': 878, 'name': 'Science Fiction'}], 'homepage': None, 'id': 68, 'imdb_id': 'tt0088846', 'original_language': 'en', 'original_title': 'Brazil', 'overview': 'Low-level bureaucrat Sam Lowry escapes the monotony of his day-to-day life through a recurring daydream of himself as a virtuous hero saving a beautiful damsel. Investigating a case that led to the wrongful arrest and eventual death of an innocent man instead of wanted terrorist Harry Tuttle, he meets the woman from his daydream, and in trying to help her gets caught in a web of mistaken identities, mindless bureaucracy and lies.', 'popularity': 10.427, 'poster_path': '/55Vfc1beLn3pJF4Lw83TRKHenK6.jpg', 'production_companies': [{'id': 10214, 'logo_path': None, 'name': 'Embassy International Pictures', 'origin_country': 'US'}], 'production_countries': [{'iso_3166_1': 'GB', 'name': 'United Kingdom'}], 'release_date': '1985-02-20', 'revenue': 0, 'runtime': 132, 'spoken_languages': [{'iso_639_1': 'en', 'name': 'English'}], 'status': 'Released', 'tagline': \"It's only a state of mind.\", 'title': 'Brazil', 'video': False, 'vote_average': 7.7, 'vote_count': 1531}\n",
      "{'adult': False, 'backdrop_path': '/iL484fDDFtszNVmYKBFmPP57wEA.jpg', 'belongs_to_collection': None, 'budget': 28000000, 'genres': [{'id': 18, 'name': 'Drama'}, {'id': 10402, 'name': 'Music'}, {'id': 10749, 'name': 'Romance'}], 'homepage': None, 'id': 69, 'imdb_id': 'tt0358273', 'original_language': 'en', 'original_title': 'Walk the Line', 'overview': \"A chronicle of country music legend Johnny Cash's life, from his early days on an Arkansas cotton farm to his rise to fame with Sun Records in Memphis, where he recorded alongside Elvis Presley, Jerry Lee Lewis and Carl Perkins.\", 'popularity': 8.404, 'poster_path': '/wdxL3Zyh3O5MIbmsSiZEevJAjtQ.jpg', 'production_companies': [{'id': 6402, 'logo_path': None, 'name': 'Mars Media Beteiligungs', 'origin_country': ''}, {'id': 84, 'logo_path': None, 'name': 'Tree Line Films', 'origin_country': ''}, {'id': 85, 'logo_path': None, 'name': 'Konrad Pictures', 'origin_country': ''}, {'id': 86, 'logo_path': None, 'name': 'Catfish Productions', 'origin_country': ''}, {'id': 711, 'logo_path': '/tEiIH5QesdheJmDAqQwvtN60727.png', 'name': 'Fox 2000 Pictures', 'origin_country': 'US'}], 'production_countries': [{'iso_3166_1': 'DE', 'name': 'Germany'}, {'iso_3166_1': 'US', 'name': 'United States of America'}], 'release_date': '2005-09-13', 'revenue': 186438883, 'runtime': 136, 'spoken_languages': [{'iso_639_1': 'en', 'name': 'English'}, {'iso_639_1': 'ru', 'name': 'Pусский'}], 'status': 'Released', 'tagline': 'Love is a burning thing.', 'title': 'Walk the Line', 'video': False, 'vote_average': 7.4, 'vote_count': 1269}\n",
      "{'adult': False, 'backdrop_path': '/7nGW4MhYQ7sJfp482XkrgqPYQ2S.jpg', 'belongs_to_collection': None, 'budget': 30000000, 'genres': [{'id': 18, 'name': 'Drama'}], 'homepage': 'http://www.milliondollarbaby-derfilm.de/', 'id': 70, 'imdb_id': 'tt0405159', 'original_language': 'en', 'original_title': 'Million Dollar Baby', 'overview': \"Despondent over a painful estrangement from his daughter, trainer Frankie Dunn isn't prepared for boxer Maggie Fitzgerald to enter his life. But Maggie's determined to go pro and to convince Dunn and his cohort to help her.\", 'popularity': 13.444, 'poster_path': '/h4VZKi2Jt4VoBYJmtC4c3bO8KqM.jpg', 'production_companies': [{'id': 126, 'logo_path': '/kADPanRDkKTxncPXXVahvHPUvCj.png', 'name': 'Lakeshore Entertainment', 'origin_country': 'US'}, {'id': 171, 'logo_path': None, 'name': 'Malpaso Productions', 'origin_country': 'US'}, {'id': 1171, 'logo_path': None, 'name': 'Epsilon Motion Pictures', 'origin_country': 'CH'}, {'id': 16311, 'logo_path': None, 'name': 'Albert S. Ruddy Productions', 'origin_country': ''}, {'id': 174, 'logo_path': '/ky0xOc5OrhzkZ1N6KyUxacfQsCk.png', 'name': 'Warner Bros. Pictures', 'origin_country': 'US'}], 'production_countries': [{'iso_3166_1': 'US', 'name': 'United States of America'}], 'release_date': '2004-12-15', 'revenue': 216763646, 'runtime': 132, 'spoken_languages': [{'iso_639_1': 'en', 'name': 'English'}, {'iso_639_1': 'ga', 'name': 'Gaeilge'}], 'status': 'Released', 'tagline': 'Beyond his silence, there is a past. Beyond her dreams, there is a feeling. Beyond hope, there is a memory. Beyond their journey, there is a love.', 'title': 'Million Dollar Baby', 'video': False, 'vote_average': 7.9, 'vote_count': 4644}\n",
      "{'adult': False, 'backdrop_path': '/vlnhKUvu335ZM8wSD27MaFHpNu2.jpg', 'belongs_to_collection': None, 'budget': 5000000, 'genres': [{'id': 18, 'name': 'Drama'}, {'id': 35, 'name': 'Comedy'}, {'id': 10402, 'name': 'Music'}], 'homepage': None, 'id': 71, 'imdb_id': 'tt0249462', 'original_language': 'en', 'original_title': 'Billy Elliot', 'overview': \"Set against the background of the 1984 Miner's Strike, 11-year-old Billy Elliot stumbles out of the boxing ring and onto the ballet floor. He faces many trials and triumphs as he strives to conquer his family's set ways, inner conflict, and standing on his toes.\", 'popularity': 8.916, 'poster_path': '/6VaP1H3MOW5jdkWqS5Q1NapCOS6.jpg', 'production_companies': [{'id': 694, 'logo_path': '/5LEHONGkZBIoWvp1ygHOF8iyi1M.png', 'name': 'StudioCanal', 'origin_country': 'FR'}, {'id': 288, 'logo_path': '/wdmwQuV4R1MIr8A78izZkC184uC.png', 'name': 'BBC Films', 'origin_country': 'GB'}, {'id': 686, 'logo_path': '/qMVjV8YFbxXrGVF4wD6hRjllVbr.png', 'name': 'Tiger Aspect Productions', 'origin_country': 'GB'}, {'id': 718, 'logo_path': None, 'name': 'Arts Council of England', 'origin_country': ''}, {'id': 10163, 'logo_path': '/cifwIG2aVR1dRis6yoiilq4qeIh.png', 'name': 'Working Title Films', 'origin_country': 'GB'}, {'id': 10462, 'logo_path': None, 'name': 'WT2 Productions', 'origin_country': ''}], 'production_countries': [{'iso_3166_1': 'FR', 'name': 'France'}, {'iso_3166_1': 'GB', 'name': 'United Kingdom'}], 'release_date': '2000-05-18', 'revenue': 109280263, 'runtime': 110, 'spoken_languages': [{'iso_639_1': 'en', 'name': 'English'}], 'status': 'Released', 'tagline': 'Inside every one of us is a special talent waiting to come out. The trick is finding it.', 'title': 'Billy Elliot', 'video': False, 'vote_average': 7.6, 'vote_count': 1803}\n"
     ]
    },
    {
     "name": "stdout",
     "output_type": "stream",
     "text": [
      "{'adult': False, 'backdrop_path': '/i9A0UMFg1hI2kLyCCwnmSbpT2cd.jpg', 'belongs_to_collection': None, 'budget': 20000000, 'genres': [{'id': 18, 'name': 'Drama'}], 'homepage': 'http://www.historyx.com/', 'id': 73, 'imdb_id': 'tt0120586', 'original_language': 'en', 'original_title': 'American History X', 'overview': \"Derek Vineyard is paroled after serving 3 years in prison for killing two thugs who tried to break into/steal his truck. Through his brother, Danny Vineyard's narration, we learn that before going to prison, Derek was a skinhead and the leader of a violent white supremacist gang that committed acts of racial crime throughout L.A. and his actions greatly influenced Danny. Reformed and fresh out of prison, Derek severs contact with the gang and becomes determined to keep Danny from going down the same violent path as he did.\", 'popularity': 19.771, 'poster_path': '/fXepRAYOx1qC3wju7XdDGx60775.jpg', 'production_companies': [{'id': 12, 'logo_path': '/iaYpEp3LQmb8AfAtmTvpqd4149c.png', 'name': 'New Line Cinema', 'origin_country': 'US'}, {'id': 11308, 'logo_path': None, 'name': 'Savoy Pictures', 'origin_country': ''}, {'id': 924, 'logo_path': None, 'name': 'The Turman-Morrissey Company', 'origin_country': ''}], 'production_countries': [{'iso_3166_1': 'US', 'name': 'United States of America'}], 'release_date': '1998-10-30', 'revenue': 23875127, 'runtime': 119, 'spoken_languages': [{'iso_639_1': 'en', 'name': 'English'}], 'status': 'Released', 'tagline': 'Some Legacies Must End.', 'title': 'American History X', 'video': False, 'vote_average': 8.3, 'vote_count': 5585}\n",
      "{'adult': False, 'backdrop_path': '/bwTb66gicrB7HbkogwNs9V37Ddb.jpg', 'belongs_to_collection': None, 'budget': 132000000, 'genres': [{'id': 12, 'name': 'Adventure'}, {'id': 53, 'name': 'Thriller'}, {'id': 878, 'name': 'Science Fiction'}], 'homepage': None, 'id': 74, 'imdb_id': 'tt0407304', 'original_language': 'en', 'original_title': 'War of the Worlds', 'overview': 'Ray Ferrier is a divorced dockworker and less-than-perfect father. Soon after his ex-wife and her new husband drop of his teenage son and young daughter for a rare weekend visit, a strange and powerful lightning storm touches down.', 'popularity': 15.097, 'poster_path': '/xXMM9KY2eq1SDOQif9zO91YOBA8.jpg', 'production_companies': [{'id': 4, 'logo_path': '/fycMZt242LVjagMByZOLUGbCvv3.png', 'name': 'Paramount', 'origin_country': 'US'}, {'id': 56, 'logo_path': '/cEaxANEisCqeEoRvODv2dO1I0iI.png', 'name': 'Amblin Entertainment', 'origin_country': 'US'}, {'id': 44, 'logo_path': None, 'name': 'Cruise/Wagner Productions', 'origin_country': ''}, {'id': 7, 'logo_path': '/9YHAhaqpFKDq66Alz7HrYd1iM6G.png', 'name': 'DreamWorks', 'origin_country': 'US'}], 'production_countries': [{'iso_3166_1': 'US', 'name': 'United States of America'}], 'release_date': '2005-06-28', 'revenue': 591739379, 'runtime': 116, 'spoken_languages': [{'iso_639_1': 'en', 'name': 'English'}], 'status': 'Released', 'tagline': \"They're already here.\", 'title': 'War of the Worlds', 'video': False, 'vote_average': 6.3, 'vote_count': 4224}\n",
      "{'status_code': 25, 'status_message': 'Your request count (41) is over the allowed limit of 40.'}\n",
      "{'status_code': 25, 'status_message': 'Your request count (42) is over the allowed limit of 40.'}\n",
      "{'status_code': 25, 'status_message': 'Your request count (43) is over the allowed limit of 40.'}\n",
      "{'adult': False, 'backdrop_path': '/eIi3klFf7mp3oL5EEF4mLIDs26r.jpg', 'belongs_to_collection': {'id': 422837, 'name': 'Blade Runner Collection', 'poster_path': '/cWESb1o9lW2i2Z3Xllv9u40aNIk.jpg', 'backdrop_path': '/bSHZIvLoPBWyGLeiAudN1mXdvQX.jpg'}, 'budget': 28000000, 'genres': [{'id': 878, 'name': 'Science Fiction'}, {'id': 18, 'name': 'Drama'}, {'id': 53, 'name': 'Thriller'}], 'homepage': 'http://www.warnerbros.com/blade-runner', 'id': 78, 'imdb_id': 'tt0083658', 'original_language': 'en', 'original_title': 'Blade Runner', 'overview': 'In the smog-choked dystopian Los Angeles of 2019, blade runner Rick Deckard is called out of retirement to terminate a quartet of replicants who have escaped to Earth seeking their creator for a way to extend their short life spans.', 'popularity': 27.204, 'poster_path': '/vfzE3pjE5G7G7kcZWrA3fnbZo7V.jpg', 'production_companies': [{'id': 5798, 'logo_path': '/tmuI9BGXgpWLmokhlxpnG3IGNQB.png', 'name': 'Shaw Brothers', 'origin_country': ''}, {'id': 7965, 'logo_path': None, 'name': 'The Ladd Company', 'origin_country': 'US'}, {'id': 174, 'logo_path': '/ky0xOc5OrhzkZ1N6KyUxacfQsCk.png', 'name': 'Warner Bros. Pictures', 'origin_country': 'US'}], 'production_countries': [{'iso_3166_1': 'US', 'name': 'United States of America'}, {'iso_3166_1': 'HK', 'name': 'Hong Kong'}, {'iso_3166_1': 'GB', 'name': 'United Kingdom'}], 'release_date': '1982-06-25', 'revenue': 32868943, 'runtime': 117, 'spoken_languages': [{'iso_639_1': 'en', 'name': 'English'}, {'iso_639_1': 'de', 'name': 'Deutsch'}, {'iso_639_1': 'cn', 'name': '广州话 / 廣州話'}, {'iso_639_1': 'ja', 'name': '日本語'}, {'iso_639_1': 'hu', 'name': 'Magyar'}], 'status': 'Released', 'tagline': \"Man has made his match... now it's his problem.\", 'title': 'Blade Runner', 'video': False, 'vote_average': 7.9, 'vote_count': 7222}\n",
      "{'adult': False, 'backdrop_path': '/xC9DRxpKgqJKDYLa9mkNa74eX4q.jpg', 'belongs_to_collection': None, 'budget': 31000000, 'genres': [{'id': 18, 'name': 'Drama'}, {'id': 12, 'name': 'Adventure'}, {'id': 28, 'name': 'Action'}, {'id': 36, 'name': 'History'}], 'homepage': None, 'id': 79, 'imdb_id': 'tt0299977', 'original_language': 'zh', 'original_title': '英雄', 'overview': 'One man defeated three assassins who sought to murder the most powerful warlord in pre-unified China.', 'popularity': 12.202, 'poster_path': '/xkJnow23eDxwQXB0iIWAWkBF47y.jpg', 'production_companies': [{'id': 724, 'logo_path': None, 'name': 'Beijing New Picture Film Co. Ltd.', 'origin_country': ''}, {'id': 2269, 'logo_path': None, 'name': 'China Film Co-Production Corporation', 'origin_country': ''}], 'production_countries': [{'iso_3166_1': 'CN', 'name': 'China'}], 'release_date': '2002-07-22', 'revenue': 177394432, 'runtime': 99, 'spoken_languages': [{'iso_639_1': 'zh', 'name': '普通话'}], 'status': 'Released', 'tagline': \"One man's strength will unite an empire.\", 'title': 'Hero', 'video': False, 'vote_average': 7.5, 'vote_count': 1044}\n",
      "{'adult': False, 'backdrop_path': '/8LreGAwWHDrIBv92Ec987F6d24p.jpg', 'belongs_to_collection': {'id': 123800, 'name': 'Before... Collection', 'poster_path': '/bBS1CfspKXq5RBok85hYvtW9ZwE.jpg', 'backdrop_path': '/to3l6Gwzd7FGWa9Spc708IP1K7l.jpg'}, 'budget': 2700000, 'genres': [{'id': 18, 'name': 'Drama'}, {'id': 10749, 'name': 'Romance'}], 'homepage': 'http://www.warnerbros.com/?site=beforesunset#/page=movies&pid=f-57b53b9e/BEFORE_SUNSET&asset=059437/Before_Sunset_-_Trailer_1A&type=video/', 'id': 80, 'imdb_id': 'tt0381681', 'original_language': 'en', 'original_title': 'Before Sunset', 'overview': 'Nine years ago two strangers met by chance and spent a night in Vienna that ended before sunrise. They are about to meet for the first time since. Now they have one afternoon to find out if they belong together.', 'popularity': 12.48, 'poster_path': '/gycdE1ARByGQcK4fYR2mgpU6OO.jpg', 'production_companies': [{'id': 11509, 'logo_path': None, 'name': 'Warner Independent Pictures (WIP)', 'origin_country': ''}, {'id': 97, 'logo_path': '/7znWcbDd4PcJzJUlJxYqAlPPykp.png', 'name': 'Castle Rock Entertainment', 'origin_country': 'US'}, {'id': 98, 'logo_path': None, 'name': 'Detour Film Production', 'origin_country': ''}], 'production_countries': [{'iso_3166_1': 'US', 'name': 'United States of America'}], 'release_date': '2004-02-10', 'revenue': 15992615, 'runtime': 80, 'spoken_languages': [{'iso_639_1': 'en', 'name': 'English'}, {'iso_639_1': 'fr', 'name': 'Français'}], 'status': 'Released', 'tagline': 'What if you had a second chance with the one that got away?', 'title': 'Before Sunset', 'video': False, 'vote_average': 7.7, 'vote_count': 1333}\n",
      "{'adult': False, 'backdrop_path': '/qKIldRZ3jy3uGWdrNIt3P7QA5J3.jpg', 'belongs_to_collection': None, 'budget': 1000000, 'genres': [{'id': 12, 'name': 'Adventure'}, {'id': 16, 'name': 'Animation'}, {'id': 14, 'name': 'Fantasy'}], 'homepage': 'http://movies.disney.com/nausicaa-of-the-valley-of-the-wind', 'id': 81, 'imdb_id': 'tt0087544', 'original_language': 'ja', 'original_title': '風の谷のナウシカ', 'overview': 'After a global war, the seaside kingdom known as the Valley of the Wind remains one of the last strongholds on Earth untouched by a poisonous jungle and the powerful insects that guard it. Led by the courageous Princess Nausicaä, the people of the Valley engage in an epic struggle to restore the bond between humanity and Earth.', 'popularity': 15.5, 'poster_path': '/kOyNIkKPUpHn0pmHaCOOilSCQeZ.jpg', 'production_companies': [{'id': 29, 'logo_path': None, 'name': 'Topcraft', 'origin_country': ''}], 'production_countries': [{'iso_3166_1': 'JP', 'name': 'Japan'}], 'release_date': '1984-03-11', 'revenue': 3301446, 'runtime': 117, 'spoken_languages': [{'iso_639_1': 'ja', 'name': '日本語'}], 'status': 'Released', 'tagline': \"A young girl's love called forth miracles…\", 'title': 'Nausicaä of the Valley of the Wind', 'video': False, 'vote_average': 7.9, 'vote_count': 1378}\n"
     ]
    },
    {
     "name": "stdout",
     "output_type": "stream",
     "text": [
      "{'adult': False, 'backdrop_path': '/bJjuO0dwL1SYTrjc1VAJYlX5qY2.jpg', 'belongs_to_collection': None, 'budget': 135000000, 'genres': [{'id': 28, 'name': 'Action'}, {'id': 12, 'name': 'Adventure'}, {'id': 80, 'name': 'Crime'}, {'id': 53, 'name': 'Thriller'}], 'homepage': None, 'id': 82, 'imdb_id': 'tt0430357', 'original_language': 'en', 'original_title': 'Miami Vice', 'overview': 'Miami Vice is a feature film based on the 1980s action drama TV series. The film tells the story of vice detectives Crockett and Tubbs and how their personal and professional lives are dangerously getting mixed.', 'popularity': 12.471, 'poster_path': '/3BsNsigWcET4tKLZZhJegw7eOjF.jpg', 'production_companies': [{'id': 52846, 'logo_path': '/w2nzPUUGenayZtb3stEdfpOdz2s.png', 'name': 'Metropolis Films', 'origin_country': 'UY'}, {'id': 33, 'logo_path': '/8lvHyhjr8oUKOOy2dKXoALWKdp0.png', 'name': 'Universal Pictures', 'origin_country': 'US'}, {'id': 675, 'logo_path': None, 'name': 'Forward Pass', 'origin_country': 'US'}, {'id': 52844, 'logo_path': None, 'name': 'Motion Picture ETA Produktionsgesellschaft', 'origin_country': ''}, {'id': 52845, 'logo_path': '/56uEMEnS7pTNu5LuUYd4KNzgu5.png', 'name': 'Foqus Arte Digital', 'origin_country': 'PY'}], 'production_countries': [{'iso_3166_1': 'UY', 'name': 'Uruguay'}, {'iso_3166_1': 'US', 'name': 'United States of America'}, {'iso_3166_1': 'DE', 'name': 'Germany'}, {'iso_3166_1': 'PY', 'name': 'Paraguay'}], 'release_date': '2006-07-27', 'revenue': 163794509, 'runtime': 132, 'spoken_languages': [{'iso_639_1': 'en', 'name': 'English'}, {'iso_639_1': 'es', 'name': 'Español'}], 'status': 'Released', 'tagline': 'No Law. No Rules. No Order.', 'title': 'Miami Vice', 'video': False, 'vote_average': 5.9, 'vote_count': 804}\n",
      "{'adult': False, 'backdrop_path': '/50ZS8RwRDwioZtu2KAS6KfzEbDO.jpg', 'belongs_to_collection': {'id': 86113, 'name': 'Open Water Collection', 'poster_path': '/85FaIaxEgpHolq41GSBYF4c14nj.jpg', 'backdrop_path': '/2vc1MmKa9vMPQerdwLa3fZVhBOS.jpg'}, 'budget': 130000, 'genres': [{'id': 18, 'name': 'Drama'}, {'id': 53, 'name': 'Thriller'}, {'id': 27, 'name': 'Horror'}], 'homepage': None, 'id': 83, 'imdb_id': 'tt0374102', 'original_language': 'en', 'original_title': 'Open Water', 'overview': 'Two divers are left out at sea without a boat. There’s nothing but water for miles, unless they look at what’s underneath them...', 'popularity': 5.754, 'poster_path': '/hua2eluUhiLvKqwHFPV2aTiY8pp.jpg', 'production_companies': [{'id': 22376, 'logo_path': None, 'name': 'Plunge Pictures LLC', 'origin_country': ''}], 'production_countries': [{'iso_3166_1': 'US', 'name': 'United States of America'}], 'release_date': '2003-12-29', 'revenue': 54667954, 'runtime': 79, 'spoken_languages': [{'iso_639_1': 'en', 'name': 'English'}], 'status': 'Released', 'tagline': 'Scream all you want.', 'title': 'Open Water', 'video': False, 'vote_average': 5.4, 'vote_count': 557}\n",
      "{'adult': False, 'backdrop_path': '/1TxaXNobCO3fhcgYUfLHj6CkEFP.jpg', 'belongs_to_collection': {'id': 84, 'name': 'Indiana Jones Collection', 'poster_path': '/lpxDrACKJhbbGOlwVMNz5YCj6SI.jpg', 'backdrop_path': '/9f8kjuytZPJEPf1bhJgkekaoanr.jpg'}, 'budget': 18000000, 'genres': [{'id': 12, 'name': 'Adventure'}, {'id': 28, 'name': 'Action'}], 'homepage': 'http://www.indianajones.com', 'id': 85, 'imdb_id': 'tt0082971', 'original_language': 'en', 'original_title': 'Raiders of the Lost Ark', 'overview': 'When Dr. Indiana Jones – the tweed-suited professor who just happens to be a celebrated archaeologist – is hired by the government to locate the legendary Ark of the Covenant, he finds himself up against the entire Nazi regime.', 'popularity': 23.854, 'poster_path': '/44sKJOGP3fTm4QXBcIuqu0RkdP7.jpg', 'production_companies': [{'id': 1, 'logo_path': '/o86DbpburjxrqAzEDhXZcyE8pDb.png', 'name': 'Lucasfilm', 'origin_country': 'US'}, {'id': 4, 'logo_path': '/fycMZt242LVjagMByZOLUGbCvv3.png', 'name': 'Paramount', 'origin_country': 'US'}], 'production_countries': [{'iso_3166_1': 'US', 'name': 'United States of America'}], 'release_date': '1981-06-12', 'revenue': 389925971, 'runtime': 115, 'spoken_languages': [{'iso_639_1': 'en', 'name': 'English'}, {'iso_639_1': 'es', 'name': 'Español'}, {'iso_639_1': 'de', 'name': 'Deutsch'}, {'iso_639_1': 'he', 'name': 'עִבְרִית'}, {'iso_639_1': 'ar', 'name': 'العربية'}, {'iso_639_1': 'ne', 'name': ''}], 'status': 'Released', 'tagline': 'Indiana Jones - the new hero from the creators of JAWS and STAR WARS.', 'title': 'Raiders of the Lost Ark', 'video': False, 'vote_average': 7.9, 'vote_count': 6359}\n",
      "{'adult': False, 'backdrop_path': '/fCk9jkrvLyRSlnW6Wyn8F1z9mFu.jpg', 'belongs_to_collection': None, 'budget': 6000000, 'genres': [{'id': 18, 'name': 'Drama'}, {'id': 10749, 'name': 'Romance'}], 'homepage': 'http://www.elementarteilchen.film.de/', 'id': 86, 'imdb_id': 'tt0430051', 'original_language': 'de', 'original_title': 'Elementarteilchen', 'overview': \"Based on Michel Houellebecq's controversial novel, Atomised (aka The Elementary Particles) focuses on Michael and Bruno, two very different half-brothers and their disturbed sexuality.  After a chaotic childhood with a hippie mother only caring for her affairs, Michael, a molecular biologist, is more interested in genes than women, while Bruno is obsessed with his sexual desires, but mostly finds his satisfaction with prostitutes.  But Bruno's life changes when he gets to know the experienced Christiane.  In the meantime, Michael meets Annabelle, the love of his youth, again.\", 'popularity': 5.972, 'poster_path': '/lDmFUWI0xtA9updU0WWfzE0LmA0.jpg', 'production_companies': [{'id': 74, 'logo_path': None, 'name': 'MOOVIE - the art of entertainment GmbH', 'origin_country': ''}, {'id': 75, 'logo_path': None, 'name': 'Medienfonds German Film Productions GmbH & Co. KG', 'origin_country': ''}], 'production_countries': [{'iso_3166_1': 'DE', 'name': 'Germany'}, {'iso_3166_1': 'IE', 'name': 'Ireland'}], 'release_date': '2006-02-10', 'revenue': 0, 'runtime': 105, 'spoken_languages': [{'iso_639_1': 'en', 'name': 'English'}, {'iso_639_1': 'de', 'name': 'Deutsch'}], 'status': 'Released', 'tagline': '', 'title': 'The Elementary Particles', 'video': False, 'vote_average': 6.4, 'vote_count': 59}\n",
      "{'adult': False, 'backdrop_path': '/mWuFDpOxXJpPxLM3p8f3w02pBb2.jpg', 'belongs_to_collection': {'id': 84, 'name': 'Indiana Jones Collection', 'poster_path': '/lpxDrACKJhbbGOlwVMNz5YCj6SI.jpg', 'backdrop_path': '/9f8kjuytZPJEPf1bhJgkekaoanr.jpg'}, 'budget': 28000000, 'genres': [{'id': 12, 'name': 'Adventure'}, {'id': 28, 'name': 'Action'}], 'homepage': 'http://www.indianajones.com', 'id': 87, 'imdb_id': 'tt0087469', 'original_language': 'en', 'original_title': 'Indiana Jones and the Temple of Doom', 'overview': 'After arriving in India, Indiana Jones is asked by a desperate village to find a mystical stone. He agrees – and stumbles upon a secret cult plotting a terrible plan in the catacombs of an ancient palace.', 'popularity': 18.755, 'poster_path': '/f2nTRKk2zGdUTE7tLJ5EGGSuKA6.jpg', 'production_companies': [{'id': 1, 'logo_path': '/o86DbpburjxrqAzEDhXZcyE8pDb.png', 'name': 'Lucasfilm', 'origin_country': 'US'}, {'id': 4, 'logo_path': '/fycMZt242LVjagMByZOLUGbCvv3.png', 'name': 'Paramount', 'origin_country': 'US'}], 'production_countries': [{'iso_3166_1': 'US', 'name': 'United States of America'}], 'release_date': '1984-05-23', 'revenue': 333000000, 'runtime': 118, 'spoken_languages': [{'iso_639_1': 'en', 'name': 'English'}, {'iso_639_1': 'si', 'name': 'සිංහල'}], 'status': 'Released', 'tagline': 'If adventure has a name... it must be Indiana Jones.', 'title': 'Indiana Jones and the Temple of Doom', 'video': False, 'vote_average': 7.2, 'vote_count': 4670}\n",
      "{'adult': False, 'backdrop_path': '/ngDmpFRzNGr9XMtKchhBZjt4DLH.jpg', 'belongs_to_collection': {'id': 86058, 'name': 'Dirty Dancing Collection', 'poster_path': '/gkrOvdbCFuGlxVwCYmczw7aw6Ku.jpg', 'backdrop_path': '/qR6POAKwCL8VwuK8ZjSAdRRFNj9.jpg'}, 'budget': 6000000, 'genres': [{'id': 18, 'name': 'Drama'}, {'id': 10402, 'name': 'Music'}, {'id': 10749, 'name': 'Romance'}], 'homepage': 'http://lionsgateathome.com/dirty-dancing', 'id': 88, 'imdb_id': 'tt0092890', 'original_language': 'en', 'original_title': 'Dirty Dancing', 'overview': \"Expecting the usual tedium that accompanies a summer in the Catskills with her family, 17-year-old Frances 'Baby' Houseman is surprised to find herself stepping into the shoes of a professional hoofer – and unexpectedly falling in love.\", 'popularity': 14.021, 'poster_path': '/jFoktPxTtabZfh9JeDy3F78g9w7.jpg', 'production_companies': [{'id': 137, 'logo_path': None, 'name': 'Great American Films Limited Partnership', 'origin_country': ''}, {'id': 12360, 'logo_path': None, 'name': 'Vestron Pictures', 'origin_country': ''}], 'production_countries': [{'iso_3166_1': 'US', 'name': 'United States of America'}], 'release_date': '1987-08-21', 'revenue': 213893795, 'runtime': 100, 'spoken_languages': [{'iso_639_1': 'en', 'name': 'English'}], 'status': 'Released', 'tagline': 'Have the time of your life.', 'title': 'Dirty Dancing', 'video': False, 'vote_average': 7.3, 'vote_count': 2822}\n"
     ]
    },
    {
     "name": "stdout",
     "output_type": "stream",
     "text": [
      "{'adult': False, 'backdrop_path': '/vfvVuu1JdnEGcyZUj7VHrhhbeMj.jpg', 'belongs_to_collection': {'id': 84, 'name': 'Indiana Jones Collection', 'poster_path': '/lpxDrACKJhbbGOlwVMNz5YCj6SI.jpg', 'backdrop_path': '/9f8kjuytZPJEPf1bhJgkekaoanr.jpg'}, 'budget': 48000000, 'genres': [{'id': 12, 'name': 'Adventure'}, {'id': 28, 'name': 'Action'}], 'homepage': 'http://www.indianajones.com/crusade', 'id': 89, 'imdb_id': 'tt0097576', 'original_language': 'en', 'original_title': 'Indiana Jones and the Last Crusade', 'overview': \"When Dr. Henry Jones Sr. suddenly goes missing while pursuing the Holy Grail, eminent archaeologist Indiana must team up with Marcus Brody, Sallah and Elsa Schneider to follow in his father's footsteps and stop the Nazis from recovering the power of eternal life.\", 'popularity': 22.77, 'poster_path': '/4p1N2Qrt8j0H8xMHMHvtRxv9weZ.jpg', 'production_companies': [{'id': 1, 'logo_path': '/o86DbpburjxrqAzEDhXZcyE8pDb.png', 'name': 'Lucasfilm', 'origin_country': 'US'}, {'id': 4, 'logo_path': '/fycMZt242LVjagMByZOLUGbCvv3.png', 'name': 'Paramount', 'origin_country': 'US'}], 'production_countries': [{'iso_3166_1': 'US', 'name': 'United States of America'}], 'release_date': '1989-05-24', 'revenue': 474171806, 'runtime': 127, 'spoken_languages': [{'iso_639_1': 'de', 'name': 'Deutsch'}, {'iso_639_1': 'el', 'name': 'ελληνικά'}, {'iso_639_1': 'en', 'name': 'English'}], 'status': 'Released', 'tagline': \"The man with the hat is back. And this time, he's bringing his Dad.\", 'title': 'Indiana Jones and the Last Crusade', 'video': False, 'vote_average': 7.8, 'vote_count': 5166}\n",
      "{'adult': False, 'backdrop_path': '/gmV4lsRAAtgdTysO3FwTxN8wevb.jpg', 'belongs_to_collection': {'id': 85861, 'name': 'Beverly Hills Cop Collection', 'poster_path': '/jBvTMq8s7aQn1oe1eTEn6fg91Po.jpg', 'backdrop_path': '/lhZQuT76B9YcxZIudXZMhhWCKcl.jpg'}, 'budget': 15000000, 'genres': [{'id': 28, 'name': 'Action'}, {'id': 35, 'name': 'Comedy'}, {'id': 80, 'name': 'Crime'}], 'homepage': None, 'id': 90, 'imdb_id': 'tt0086960', 'original_language': 'en', 'original_title': 'Beverly Hills Cop', 'overview': \"Tough-talking Detroit cop Axel Foley heads to the rarified world of Beverly Hills in his beat-up Chevy Nova to investigate a friend's murder, but soon realizes he's stumbled onto something much more complicated. Bungling rookie detective, Billy Rosewood joins the fish-out-of-water Axel and shows him the West Los Angeles ropes.\", 'popularity': 11.911, 'poster_path': '/eEm00B2qO4j4gGH9PDg8dHvyApD.jpg', 'production_companies': [{'id': 4, 'logo_path': '/fycMZt242LVjagMByZOLUGbCvv3.png', 'name': 'Paramount', 'origin_country': 'US'}, {'id': 30, 'logo_path': None, 'name': 'Eddie Murphy Productions', 'origin_country': ''}], 'production_countries': [{'iso_3166_1': 'US', 'name': 'United States of America'}], 'release_date': '1984-11-29', 'revenue': 316360478, 'runtime': 105, 'spoken_languages': [{'iso_639_1': 'en', 'name': 'English'}], 'status': 'Released', 'tagline': 'The Heat Is On!', 'title': 'Beverly Hills Cop', 'video': False, 'vote_average': 7.0, 'vote_count': 1748}\n",
      "{'adult': False, 'backdrop_path': '/aaRbO3m3L3yVg2L73QLYvgP23hj.jpg', 'belongs_to_collection': None, 'budget': 20000, 'genres': [{'id': 99, 'name': 'Documentary'}], 'homepage': None, 'id': 91, 'imdb_id': 'tt0023037', 'original_language': 'es', 'original_title': 'Las Hurdes', 'overview': 'Las Hurdes – Tierra Sin Pan / Land Without Bread / Unpromised Land is a surrealist documentary filmed in Spain in 1932. It is the result of a two month trip through the Las Hurdes region. The film shows the contrasts between the village and the towns in the north of Extremadura, Salamanca and along the border of Portugal.', 'popularity': 3.007, 'poster_path': '/iQM715v277SIw66Y1bJ1KiK5WNx.jpg', 'production_companies': [{'id': 85869, 'logo_path': None, 'name': 'Ramón Acín', 'origin_country': ''}], 'production_countries': [{'iso_3166_1': 'ES', 'name': 'Spain'}], 'release_date': '1933-12-01', 'revenue': 0, 'runtime': 29, 'spoken_languages': [{'iso_639_1': 'es', 'name': 'Español'}], 'status': 'Released', 'tagline': '', 'title': 'Land Without Bread', 'video': False, 'vote_average': 7.0, 'vote_count': 45}\n",
      "{'adult': False, 'backdrop_path': '/ea11MBZCPr7mVWjUWAJRU6IVPCP.jpg', 'belongs_to_collection': None, 'budget': 0, 'genres': [{'id': 99, 'name': 'Documentary'}], 'homepage': None, 'id': 92, 'imdb_id': 'tt0169024', 'original_language': 'en', 'original_title': 'Megacities', 'overview': 'Megacities is a documentary about the slums of five different metropolitan cities.', 'popularity': 0.766, 'poster_path': '/svOFuJ0W3UTLqof10DVejjq94sw.jpg', 'production_companies': [], 'production_countries': [{'iso_3166_1': 'AT', 'name': 'Austria'}], 'release_date': '1998-08-12', 'revenue': 0, 'runtime': 94, 'spoken_languages': [{'iso_639_1': 'ru', 'name': 'Pусский'}, {'iso_639_1': 'es', 'name': 'Español'}, {'iso_639_1': 'hi', 'name': 'हिन्दी'}, {'iso_639_1': 'en', 'name': 'English'}], 'status': 'Released', 'tagline': '', 'title': 'Megacities', 'video': False, 'vote_average': 7.7, 'vote_count': 6}\n",
      "{'adult': False, 'backdrop_path': '/aFfbSVwzXH5tCi5MQN0idkoFbk0.jpg', 'belongs_to_collection': None, 'budget': 0, 'genres': [{'id': 80, 'name': 'Crime'}, {'id': 18, 'name': 'Drama'}, {'id': 9648, 'name': 'Mystery'}, {'id': 53, 'name': 'Thriller'}], 'homepage': None, 'id': 93, 'imdb_id': 'tt0052561', 'original_language': 'en', 'original_title': 'Anatomy of a Murder', 'overview': 'The film pits a humble small-town lawyer against a hard-headed big city prosecutor. Emotions flare as a jealous army lieutenant pleads innocent to murdering the rapist of his seductive, beautiful wife.', 'popularity': 8.794, 'poster_path': '/kDFnM2zlHZirR2ItTo56lyrxuAS.jpg', 'production_companies': [{'id': 5, 'logo_path': '/71BqEFAF4V3qjjMPCpLuyJFB9A.png', 'name': 'Columbia Pictures', 'origin_country': 'US'}], 'production_countries': [{'iso_3166_1': 'US', 'name': 'United States of America'}], 'release_date': '1959-07-01', 'revenue': 0, 'runtime': 160, 'spoken_languages': [{'iso_639_1': 'en', 'name': 'English'}], 'status': 'Released', 'tagline': 'No search of human emotions has ever probed so deeply, so truthfully as ... Anatomy of a Murder.', 'title': 'Anatomy of a Murder', 'video': False, 'vote_average': 7.9, 'vote_count': 341}\n",
      "{'adult': False, 'backdrop_path': None, 'belongs_to_collection': None, 'budget': 0, 'genres': [{'id': 35, 'name': 'Comedy'}], 'homepage': None, 'id': 94, 'imdb_id': 'tt0436488', 'original_language': 'en', 'original_title': 'Kunstgriff', 'overview': 'Kunstgriff is a brilliantly filmed black and white short film. Andre F. Nebe gives proof of his storytelling abilities in this 6 minute film.', 'popularity': 0.6, 'poster_path': None, 'production_companies': [{'id': 31, 'logo_path': None, 'name': 'Hamburger Filmschule', 'origin_country': ''}], 'production_countries': [{'iso_3166_1': 'DE', 'name': 'Germany'}], 'release_date': '2002-01-01', 'revenue': 0, 'runtime': 6, 'spoken_languages': [{'iso_639_1': 'de', 'name': 'Deutsch'}], 'status': 'Released', 'tagline': '', 'title': 'Kunstgriff', 'video': False, 'vote_average': 10.0, 'vote_count': 1}\n",
      "{'adult': False, 'backdrop_path': '/lI3qV4kiSg0BvE6gelzV0tPAoFK.jpg', 'belongs_to_collection': None, 'budget': 140000000, 'genres': [{'id': 28, 'name': 'Action'}, {'id': 53, 'name': 'Thriller'}, {'id': 878, 'name': 'Science Fiction'}, {'id': 12, 'name': 'Adventure'}], 'homepage': None, 'id': 95, 'imdb_id': 'tt0120591', 'original_language': 'en', 'original_title': 'Armageddon', 'overview': \"When an asteroid threatens to collide with Earth, NASA honcho Dan Truman determines the only way to stop it is to drill into its surface and detonate a nuclear bomb. This leads him to renowned driller Harry Stamper, who agrees to helm the dangerous space mission provided he can bring along his own hotshot crew. Among them is the cocksure A.J. who Harry thinks isn't good enough for his daughter, until the mission proves otherwise.\", 'popularity': 14.288, 'poster_path': '/coINnuCzcw5FMHBty8hcudMOBnO.jpg', 'production_companies': [{'id': 9195, 'logo_path': '/ou5BUbtulr6tIt699q6xJiEQTR9.png', 'name': 'Touchstone Pictures', 'origin_country': 'US'}, {'id': 130, 'logo_path': '/c9dVHPOL3cqCr2593Ahk0nEKTEM.png', 'name': 'Jerry Bruckheimer Films', 'origin_country': 'US'}, {'id': 11533, 'logo_path': '/tWM9pmzVYxok4GbQIttxdcml1yT.png', 'name': 'Valhalla Motion Pictures', 'origin_country': 'US'}], 'production_countries': [{'iso_3166_1': 'US', 'name': 'United States of America'}], 'release_date': '1998-07-01', 'revenue': 553799566, 'runtime': 151, 'spoken_languages': [{'iso_639_1': 'en', 'name': 'English'}, {'iso_639_1': 'ru', 'name': 'Pусский'}], 'status': 'Released', 'tagline': \"The Earth's Darkest Day Will Be Man's Finest Hour\", 'title': 'Armageddon', 'video': False, 'vote_average': 6.6, 'vote_count': 4121}\n"
     ]
    },
    {
     "name": "stdout",
     "output_type": "stream",
     "text": [
      "{'adult': False, 'backdrop_path': '/mXenFohxCO4jQ0e1bJf4e9gebxL.jpg', 'belongs_to_collection': {'id': 85861, 'name': 'Beverly Hills Cop Collection', 'poster_path': '/jBvTMq8s7aQn1oe1eTEn6fg91Po.jpg', 'backdrop_path': '/lhZQuT76B9YcxZIudXZMhhWCKcl.jpg'}, 'budget': 20000000, 'genres': [{'id': 28, 'name': 'Action'}, {'id': 35, 'name': 'Comedy'}, {'id': 80, 'name': 'Crime'}], 'homepage': None, 'id': 96, 'imdb_id': 'tt0092644', 'original_language': 'en', 'original_title': 'Beverly Hills Cop II', 'overview': \"Axel heads for the land of sunshine and palm trees to find out who shot police Captain Andrew Bogomil. Thanks to a couple of old friends, Axel's investigation uncovers a series of robberies masterminded by a heartless weapons kingpin—and the chase is on.\", 'popularity': 9.892, 'poster_path': '/2y1z1baxKT0coTTRlnkI6McnR9f.jpg', 'production_companies': [{'id': 30, 'logo_path': None, 'name': 'Eddie Murphy Productions', 'origin_country': ''}, {'id': 4, 'logo_path': '/fycMZt242LVjagMByZOLUGbCvv3.png', 'name': 'Paramount', 'origin_country': 'US'}, {'id': 10288, 'logo_path': None, 'name': 'Don Simpson/Jerry Bruckheimer Films', 'origin_country': ''}], 'production_countries': [{'iso_3166_1': 'US', 'name': 'United States of America'}], 'release_date': '1987-05-18', 'revenue': 299965036, 'runtime': 100, 'spoken_languages': [{'iso_639_1': 'en', 'name': 'English'}], 'status': 'Released', 'tagline': '', 'title': 'Beverly Hills Cop II', 'video': False, 'vote_average': 6.3, 'vote_count': 1046}\n",
      "{'adult': False, 'backdrop_path': '/owAF2FmDO0UnniCbMpCjN8VcFgA.jpg', 'belongs_to_collection': {'id': 63043, 'name': 'TRON Collection', 'poster_path': '/cvFlDIfOwhYe4ouAAfdyq9E5zlZ.jpg', 'backdrop_path': '/o8NBfffQPE9tHTR9l7FuWbdVPHu.jpg'}, 'budget': 17000000, 'genres': [{'id': 878, 'name': 'Science Fiction'}, {'id': 28, 'name': 'Action'}, {'id': 12, 'name': 'Adventure'}], 'homepage': None, 'id': 97, 'imdb_id': 'tt0084827', 'original_language': 'en', 'original_title': 'Tron', 'overview': 'As Kevin Flynn searches for proof that he invented a hit video game, he is \"digitalized\" by a laser and finds himself inside The Grid, where programs suffer under the tyrannical rule of the Master Control Program. With the help of TRON, a security program, Flynn seeks to free The Grid from the MCP.', 'popularity': 8.045, 'poster_path': '/cTF8lpXvAwT1SLH9kVFZZl0AO0D.jpg', 'production_companies': [{'id': 2, 'logo_path': '/4MbjW4f9bu6LvlDmyIvfyuT3boj.png', 'name': 'Walt Disney Pictures', 'origin_country': 'US'}, {'id': 558, 'logo_path': None, 'name': 'Lisberger/Kushner', 'origin_country': ''}], 'production_countries': [{'iso_3166_1': 'US', 'name': 'United States of America'}], 'release_date': '1982-07-09', 'revenue': 33000000, 'runtime': 96, 'spoken_languages': [{'iso_639_1': 'en', 'name': 'English'}], 'status': 'Released', 'tagline': 'A world inside the computer where man has never been.  Until now.', 'title': 'Tron', 'video': False, 'vote_average': 6.7, 'vote_count': 1071}\n",
      "{'adult': False, 'backdrop_path': '/5vZw7ltCKI0JiOYTtRxaIC3DX0e.jpg', 'belongs_to_collection': None, 'budget': 103000000, 'genres': [{'id': 28, 'name': 'Action'}, {'id': 18, 'name': 'Drama'}, {'id': 12, 'name': 'Adventure'}], 'homepage': None, 'id': 98, 'imdb_id': 'tt0172495', 'original_language': 'en', 'original_title': 'Gladiator', 'overview': \"In the year 180, the death of emperor Marcus Aurelius throws the Roman Empire into chaos.  Maximus is one of the Roman army's most capable and trusted generals and a key advisor to the emperor.  As Marcus' devious son Commodus ascends to the throne, Maximus is set to be executed.  He escapes, but is captured by slave traders.  Renamed Spaniard and forced to become a gladiator, Maximus must battle to the death with other men for the amusement of paying audiences.\", 'popularity': 18.598, 'poster_path': '/6WBIzCgmDCYrqh64yDREGeDk9d3.jpg', 'production_companies': [{'id': 33, 'logo_path': '/8lvHyhjr8oUKOOy2dKXoALWKdp0.png', 'name': 'Universal Pictures', 'origin_country': 'US'}, {'id': 1645, 'logo_path': '/6Ry6uNBaa0IbbSs1XYIgX5DkA9r.png', 'name': 'Scott Free Productions', 'origin_country': ''}, {'id': 14440, 'logo_path': None, 'name': 'Red Wagon Entertainment', 'origin_country': ''}, {'id': 21904, 'logo_path': None, 'name': 'Mill Film', 'origin_country': ''}, {'id': 21905, 'logo_path': None, 'name': 'C & L', 'origin_country': ''}, {'id': 21906, 'logo_path': None, 'name': 'Dawliz', 'origin_country': ''}, {'id': 7, 'logo_path': '/9YHAhaqpFKDq66Alz7HrYd1iM6G.png', 'name': 'DreamWorks', 'origin_country': 'US'}], 'production_countries': [{'iso_3166_1': 'GB', 'name': 'United Kingdom'}, {'iso_3166_1': 'US', 'name': 'United States of America'}], 'release_date': '2000-05-01', 'revenue': 457640427, 'runtime': 155, 'spoken_languages': [{'iso_639_1': 'en', 'name': 'English'}], 'status': 'Released', 'tagline': 'A Hero Will Rise.', 'title': 'Gladiator', 'video': False, 'vote_average': 8.1, 'vote_count': 9308}\n",
      "{'adult': False, 'backdrop_path': '/u2CvJwAWDNk9w63gbOifmqd4W9r.jpg', 'belongs_to_collection': None, 'budget': 8272296, 'genres': [{'id': 35, 'name': 'Comedy'}, {'id': 18, 'name': 'Drama'}], 'homepage': None, 'id': 99, 'imdb_id': 'tt0185125', 'original_language': 'es', 'original_title': 'Todo sobre mi madre', 'overview': \"A single mother in Madrid sees her only son die on his birthday as he runs to seek an actress' autograph. Beside herself with grief, she returns to Barcelona to tell the boy's father about the death of the son he never knew he had.\", 'popularity': 8.025, 'poster_path': '/sQdalmBSUiaU0QCgZKBfy0l2vUR.jpg', 'production_companies': [{'id': 82, 'logo_path': None, 'name': 'Renn Productions', 'origin_country': ''}, {'id': 83, 'logo_path': '/9OQ0rm55xtlgX7KcAKMUePJSrQc.png', 'name': 'France 2 Cinéma', 'origin_country': 'FR'}], 'production_countries': [{'iso_3166_1': 'ES', 'name': 'Spain'}, {'iso_3166_1': 'FR', 'name': 'France'}], 'release_date': '1999-04-19', 'revenue': 67872296, 'runtime': 101, 'spoken_languages': [{'iso_639_1': 'es', 'name': 'Español'}], 'status': 'Released', 'tagline': 'Part of every woman is a mother/actress/saint/sinner. And part of every man is a woman.', 'title': 'All About My Mother', 'video': False, 'vote_average': 7.7, 'vote_count': 673}\n",
      "{'adult': False, 'backdrop_path': '/kzeR7BA0htJ7BeI6QEUX3PVp39s.jpg', 'belongs_to_collection': None, 'budget': 1350000, 'genres': [{'id': 35, 'name': 'Comedy'}, {'id': 80, 'name': 'Crime'}], 'homepage': 'http://www.universalstudiosentertainment.com/lock-stock-and-two-smoking-barrels/', 'id': 100, 'imdb_id': 'tt0120735', 'original_language': 'en', 'original_title': 'Lock, Stock and Two Smoking Barrels', 'overview': 'A card shark and his unwillingly-enlisted friends need to make a lot of cash quick after losing a sketchy poker match. To do this they decide to pull a heist on a small-time gang who happen to be operating out of the flat next door.', 'popularity': 6.681, 'poster_path': '/qV7QaSf7f7yC2lc985zfyOJIAIN.jpg', 'production_companies': [{'id': 491, 'logo_path': '/rUp0lLKa1pr4UsPm8fgzmnNGxtq.png', 'name': 'Summit Entertainment', 'origin_country': 'US'}, {'id': 21920, 'logo_path': None, 'name': 'The Steve Tisch Company', 'origin_country': ''}, {'id': 13419, 'logo_path': None, 'name': 'SKA Films', 'origin_country': ''}, {'id': 1382, 'logo_path': '/sOg7LGESPH5vCTOIdbMhLuypoLL.png', 'name': 'PolyGram Filmed Entertainment', 'origin_country': 'US'}, {'id': 20076, 'logo_path': None, 'name': 'HandMade Films', 'origin_country': ''}], 'production_countries': [{'iso_3166_1': 'GB', 'name': 'United Kingdom'}], 'release_date': '1998-03-05', 'revenue': 28356188, 'runtime': 105, 'spoken_languages': [{'iso_639_1': 'en', 'name': 'English'}], 'status': 'Released', 'tagline': 'A Disgrace to Criminals Everywhere.', 'title': 'Lock, Stock and Two Smoking Barrels', 'video': False, 'vote_average': 8.0, 'vote_count': 2887}\n",
      "{'adult': False, 'backdrop_path': '/dXQ7HILRK1Tg33RT64JwbQI7Osh.jpg', 'belongs_to_collection': None, 'budget': 16000000, 'genres': [{'id': 53, 'name': 'Thriller'}, {'id': 80, 'name': 'Crime'}, {'id': 18, 'name': 'Drama'}], 'homepage': None, 'id': 101, 'imdb_id': 'tt0110413', 'original_language': 'fr', 'original_title': 'Léon', 'overview': 'Léon, the top hit man in New York, has earned a rep as an effective \"cleaner\". But when his next-door neighbors are wiped out by a loose-cannon DEA agent, he becomes the unwilling custodian of 12-year-old Mathilda. Before long, Mathilda\\'s thoughts turn to revenge, and she considers following in Léon\\'s footsteps.', 'popularity': 26.682, 'poster_path': '/gE8S02QUOhVnAmYu4tcrBlMTujz.jpg', 'production_companies': [{'id': 9, 'logo_path': '/nda3dTUYdDrJ6rZqBpYvY865aDv.png', 'name': 'Gaumont', 'origin_country': 'FR'}, {'id': 66743, 'logo_path': None, 'name': 'Les Films du Dauphin', 'origin_country': 'FR'}], 'production_countries': [{'iso_3166_1': 'FR', 'name': 'France'}, {'iso_3166_1': 'US', 'name': 'United States of America'}], 'release_date': '1994-09-14', 'revenue': 45284974, 'runtime': 111, 'spoken_languages': [{'iso_639_1': 'en', 'name': 'English'}, {'iso_639_1': 'fr', 'name': 'Français'}, {'iso_639_1': 'it', 'name': 'Italiano'}], 'status': 'Released', 'tagline': 'If you want a job done well, hire a professional.', 'title': 'Léon: The Professional', 'video': False, 'vote_average': 8.3, 'vote_count': 7323}\n"
     ]
    },
    {
     "name": "stdout",
     "output_type": "stream",
     "text": [
      "{'adult': False, 'backdrop_path': '/eACEgECmmQjMKsReNRWTHvzpYlu.jpg', 'belongs_to_collection': None, 'budget': 0, 'genres': [{'id': 18, 'name': 'Drama'}, {'id': 10749, 'name': 'Romance'}], 'homepage': None, 'id': 102, 'imdb_id': 'tt0315543', 'original_language': 'da', 'original_title': 'Elsker dig for evigt', 'overview': 'Cecilie and Joachim are about to get married when a freak car accident leaves Joachim disabled, throwing their lives into a spin. The driver of the other car, Marie, and her family don’t get off lightly, either. Her husband Niels works in the hospital where he meets Cecilie and falls madly in love with her.', 'popularity': 4.071, 'poster_path': '/hOrV2fCw2kmSiS4ZMGFPfXqr3lt.jpg', 'production_companies': [{'id': 76, 'logo_path': None, 'name': 'Zentropa Entertainments', 'origin_country': 'DK'}], 'production_countries': [{'iso_3166_1': 'DK', 'name': 'Denmark'}], 'release_date': '2002-09-06', 'revenue': 0, 'runtime': 113, 'spoken_languages': [{'iso_639_1': 'da', 'name': 'Dansk'}], 'status': 'Released', 'tagline': '', 'title': 'Open Hearts', 'video': False, 'vote_average': 7.6, 'vote_count': 39}\n",
      "{'adult': False, 'backdrop_path': '/hjmJKAVoZ3n2KWbKgasbfdugwhu.jpg', 'belongs_to_collection': None, 'budget': 1300000, 'genres': [{'id': 80, 'name': 'Crime'}, {'id': 18, 'name': 'Drama'}], 'homepage': None, 'id': 103, 'imdb_id': 'tt0075314', 'original_language': 'en', 'original_title': 'Taxi Driver', 'overview': 'A mentally unstable Vietnam War veteran works as a night-time taxi driver in New York City where the perceived decadence and sleaze feeds his urge for violent action, attempting to save a preadolescent prostitute in the process.', 'popularity': 19.221, 'poster_path': '/ekstpH614fwDX8DUln1a2Opz0N8.jpg', 'production_companies': [{'id': 46059, 'logo_path': None, 'name': 'Italo/Judeo Productions', 'origin_country': ''}, {'id': 46060, 'logo_path': None, 'name': 'Bill/Phillips', 'origin_country': ''}, {'id': 5, 'logo_path': '/71BqEFAF4V3qjjMPCpLuyJFB9A.png', 'name': 'Columbia Pictures', 'origin_country': 'US'}], 'production_countries': [{'iso_3166_1': 'US', 'name': 'United States of America'}], 'release_date': '1976-02-07', 'revenue': 28262574, 'runtime': 114, 'spoken_languages': [{'iso_639_1': 'en', 'name': 'English'}, {'iso_639_1': 'es', 'name': 'Español'}], 'status': 'Released', 'tagline': \"On every street in every city, there's a nobody who dreams of being a somebody.\", 'title': 'Taxi Driver', 'video': False, 'vote_average': 8.1, 'vote_count': 4954}\n",
      "{'adult': False, 'backdrop_path': '/on7RwevEYFO9Q3U1augjdIRU1ur.jpg', 'belongs_to_collection': None, 'budget': 1530000, 'genres': [{'id': 28, 'name': 'Action'}, {'id': 18, 'name': 'Drama'}, {'id': 53, 'name': 'Thriller'}], 'homepage': None, 'id': 104, 'imdb_id': 'tt0130827', 'original_language': 'de', 'original_title': 'Lola rennt', 'overview': \"Lola receives a phone call from her boyfriend Manni. He lost 100,000 DM in a subway train that belongs to a very bad guy. She has 20 minutes to raise this amount and meet Manni. Otherwise, he will rob a store to get the money. Three different alternatives may happen depending on some minor event along Lola's run.\", 'popularity': 12.258, 'poster_path': '/3L8QhF5IkZOnEnBFdpj6GVkkp7d.jpg', 'production_companies': [{'id': 96, 'logo_path': '/xablpF6QaYvso36PkHBm3Plo9gY.png', 'name': 'X-Filme Creative Pool', 'origin_country': 'DE'}, {'id': 46, 'logo_path': None, 'name': 'Westdeutscher Rundfunk (WDR)', 'origin_country': 'DE'}], 'production_countries': [{'iso_3166_1': 'DE', 'name': 'Germany'}], 'release_date': '1998-08-20', 'revenue': 7267585, 'runtime': 81, 'spoken_languages': [{'iso_639_1': 'de', 'name': 'Deutsch'}, {'iso_639_1': 'en', 'name': 'English'}, {'iso_639_1': 'ja', 'name': '日本語'}], 'status': 'Released', 'tagline': \"Every second of every day you're faced with a decision that can change your life.\", 'title': 'Run Lola Run', 'video': False, 'vote_average': 7.3, 'vote_count': 1036}\n",
      "{'adult': False, 'backdrop_path': '/x4N74cycZvKu5k3KDERJay4ajR3.jpg', 'belongs_to_collection': {'id': 264, 'name': 'Back to the Future Collection', 'poster_path': '/oRa6N7uB6Z6X3j06yygjhQqzGfx.jpg', 'backdrop_path': '/c9C9Pg2QctyjZHRmS0P8rZg1OTA.jpg'}, 'budget': 19000000, 'genres': [{'id': 12, 'name': 'Adventure'}, {'id': 35, 'name': 'Comedy'}, {'id': 878, 'name': 'Science Fiction'}, {'id': 10751, 'name': 'Family'}], 'homepage': 'http://www.backtothefuture.com/movies/backtothefuture1', 'id': 105, 'imdb_id': 'tt0088763', 'original_language': 'en', 'original_title': 'Back to the Future', 'overview': \"Eighties teenager Marty McFly is accidentally sent back in time to 1955, inadvertently disrupting his parents' first meeting and attracting his mother's romantic interest. Marty must repair the damage to history by rekindling his parents' romance and - with the help of his eccentric inventor friend Doc Brown - return to 1985.\", 'popularity': 22.896, 'poster_path': '/pTpxQB1N0waaSc3OSn0e9oc8kx9.jpg', 'production_companies': [{'id': 20448, 'logo_path': None, 'name': 'U-Drive Productions', 'origin_country': ''}, {'id': 33, 'logo_path': '/8lvHyhjr8oUKOOy2dKXoALWKdp0.png', 'name': 'Universal Pictures', 'origin_country': 'US'}, {'id': 56, 'logo_path': '/cEaxANEisCqeEoRvODv2dO1I0iI.png', 'name': 'Amblin Entertainment', 'origin_country': 'US'}], 'production_countries': [{'iso_3166_1': 'US', 'name': 'United States of America'}], 'release_date': '1985-07-03', 'revenue': 381109762, 'runtime': 116, 'spoken_languages': [{'iso_639_1': 'en', 'name': 'English'}], 'status': 'Released', 'tagline': \"He's the only kid ever to get into trouble before he was born.\", 'title': 'Back to the Future', 'video': False, 'vote_average': 8.2, 'vote_count': 10502}\n"
     ]
    }
   ],
   "source": [
    "#find genre code\n",
    "h = httplib2.Http()\n",
    "for number in range(1, 300):\n",
    "    myrequest = url + str(number) +  mykey\n",
    "    response, content = h.request(myrequest, 'GET')\n",
    "    result = json.loads(content.decode('utf-8'))\n",
    "    result = str(result)\n",
    "    error = \"{'status_code': 34, 'status_message': 'The resource you requested could not be found.'}\"\n",
    "    if result != error:\n",
    "        print(result)"
   ]
  },
  {
   "cell_type": "code",
   "execution_count": null,
   "metadata": {
    "collapsed": true
   },
   "outputs": [],
   "source": [
    "# release\n",
    "url = 'https://api.themoviedb.org/3/discover/movie'\n",
    "mykey = '?api_key=ff3bedd3d47493bf66e799c508aba82a'\n",
    "language = '&language=en-US'\n",
    "sort = '&sort_by=popularity.desc'\n",
    "include='&include_adult=true&include_video=false'\n",
    "myrequest = url + mykey + language + sort + include\n",
    "response, content = h.request(myrequest, 'GET')\n",
    "result = json.loads(content.decode('utf-8'))\n",
    "result"
   ]
  },
  {
   "cell_type": "code",
   "execution_count": null,
   "metadata": {
    "collapsed": true
   },
   "outputs": [],
   "source": [
    "{\n",
    "  \"genres\": [\n",
    "    {\n",
    "      \"id\": 28,\n",
    "      \"name\": \"Action\"\n",
    "    },\n",
    "    {\n",
    "      \"id\": 12,\n",
    "      \"name\": \"Adventure\"\n",
    "    },\n",
    "    {\n",
    "      \"id\": 16,\n",
    "      \"name\": \"Animation\"\n",
    "    },\n",
    "    {\n",
    "      \"id\": 35,\n",
    "      \"name\": \"Comedy\"\n",
    "    },\n",
    "    {\n",
    "      \"id\": 80,\n",
    "      \"name\": \"Crime\"\n",
    "    },\n",
    "    {\n",
    "      \"id\": 99,\n",
    "      \"name\": \"Documentary\"\n",
    "    },\n",
    "    {\n",
    "      \"id\": 18,\n",
    "      \"name\": \"Drama\"\n",
    "    },\n",
    "    {\n",
    "      \"id\": 10751,\n",
    "      \"name\": \"Family\"\n",
    "    },\n",
    "    {\n",
    "      \"id\": 14,\n",
    "      \"name\": \"Fantasy\"\n",
    "    },\n",
    "    {\n",
    "      \"id\": 36,\n",
    "      \"name\": \"History\"\n",
    "    },\n",
    "    {\n",
    "      \"id\": 27,\n",
    "      \"name\": \"Horror\"\n",
    "    },\n",
    "    {\n",
    "      \"id\": 10402,\n",
    "      \"name\": \"Music\"\n",
    "    },\n",
    "    {\n",
    "      \"id\": 9648,\n",
    "      \"name\": \"Mystery\"\n",
    "    },\n",
    "    {\n",
    "      \"id\": 10749,\n",
    "      \"name\": \"Romance\"\n",
    "    },\n",
    "    {\n",
    "      \"id\": 878,\n",
    "      \"name\": \"Science Fiction\"\n",
    "    },\n",
    "    {\n",
    "      \"id\": 10770,\n",
    "      \"name\": \"TV Movie\"\n",
    "    },\n",
    "    {\n",
    "      \"id\": 53,\n",
    "      \"name\": \"Thriller\"\n",
    "    },\n",
    "    {\n",
    "      \"id\": 10752,\n",
    "      \"name\": \"War\"\n",
    "    },\n",
    "    {\n",
    "      \"id\": 37,\n",
    "      \"name\": \"Western\"\n",
    "    }\n",
    "  ]\n",
    "}"
   ]
  },
  {
   "cell_type": "code",
   "execution_count": 80,
   "metadata": {},
   "outputs": [
    {
     "data": {
      "text/plain": [
       "{'page': 1,\n",
       " 'results': [{'id': 8648, 'logo_path': None, 'name': 'Melody Pictures'},\n",
       "  {'id': 46348, 'logo_path': None, 'name': 'Melody Movies'},\n",
       "  {'id': 74812, 'logo_path': None, 'name': 'Melody Comedies'},\n",
       "  {'id': 97785, 'logo_path': None, 'name': 'Sheen Melody'},\n",
       "  {'id': 105399, 'logo_path': None, 'name': 'M.R.C & Melody Theaters'},\n",
       "  {'id': 20549, 'logo_path': None, 'name': 'Melody Films Entertainment'},\n",
       "  {'id': 75909, 'logo_path': None, 'name': 'Your Dreams Melody'},\n",
       "  {'id': 70022, 'logo_path': None, 'name': 'Melody Nife Films'},\n",
       "  {'id': 72697,\n",
       "   'logo_path': None,\n",
       "   'name': 'Melody Maker Productions & MMP Audio'}],\n",
       " 'total_pages': 1,\n",
       " 'total_results': 9}"
      ]
     },
     "execution_count": 80,
     "metadata": {},
     "output_type": "execute_result"
    }
   ],
   "source": [
    "# search\n",
    "url = 'https://api.themoviedb.org/3/search/company'\n",
    "myapi = '?api_key=ff3bedd3d47493bf66e799c508aba82a'\n",
    "query = '&query=melody'\n",
    "page = '&page=1'\n",
    "sort = '&sort_by=popularity.desc'\n",
    "myrequest = url + mykey+ sort + query\n",
    "response, content = h.request(myrequest, 'GET')\n",
    "result = json.loads(content.decode('utf-8'))\n",
    "result"
   ]
  },
  {
   "cell_type": "code",
   "execution_count": 81,
   "metadata": {},
   "outputs": [
    {
     "data": {
      "text/plain": [
       "9"
      ]
     },
     "execution_count": 81,
     "metadata": {},
     "output_type": "execute_result"
    }
   ],
   "source": [
    "result['total_results']"
   ]
  },
  {
   "cell_type": "code",
   "execution_count": null,
   "metadata": {
    "collapsed": true
   },
   "outputs": [],
   "source": [
    "def information(result):\n",
    "    name = resulta['original_title']\n",
    "    genres = resulta['genres'][0]['name']\n",
    "    overview = resulta['overview']\n",
    "    \n",
    "    print('Movie :',name)\n",
    "    print('Genres :',genres)\n",
    "    print('Overview :',overview)\n",
    "    print()"
   ]
  },
  {
   "cell_type": "code",
   "execution_count": 85,
   "metadata": {},
   "outputs": [
    {
     "name": "stdout",
     "output_type": "stream",
     "text": [
      "Movie : Les Liens du sang\n",
      "Genres : Action\n",
      "Overview : The story of two rival brothers, one a pimp and the other a cop, and how the former manages to be the family favourite.\n",
      "\n",
      "Movie : I ladri\n",
      "Genres : Comedy\n",
      "Overview : An Italo-American mobster is sent back to Naples from the States. He moves to Italy with all his illegal proceeds...\n",
      "\n",
      "Movie : Zubekô banchô: yume wa yoru hiraku\n",
      "Genres : Crime\n",
      "Overview : Rika is released from girls detention school and then winds up at a lounge bar where she finds her other classmates working. This lounge bar is run by Junko Miyazono.\n",
      "\n",
      "Movie : Tere Mere Phere\n",
      "Genres : Comedy\n",
      "Overview : An irate groom-to-be abducts a recently married bickering couple and asks them to take him to his wedding: Tere Mere Phere is a story about a newly married couple, Pooja and Rahul, who have a perfect love affair and a perfect marriage and set out on a perfect dream honeymoon in a motor home, driving through the breath taking Himalayas … but then can life ever be perfect?! If “distance makes the heart grow fonder” then too much proximity should have the reverse effect! And it does ... As Pooja and Rahul get too close for comfort, the gilt of romance begins to rub off, a series of absurd fights follow and soon they get embroiled with a local Himachali small town guy ( Vinay Pathak) and his girl Muskaan, the “Pahadi Mirch” (Riya Sen).\n",
      "\n",
      "Movie : Tromper le silence\n",
      "Genres : Drama\n",
      "Overview : Depuis une sérieuse dispute avec son frère Fred, qui lui servait de modèle, Viviane, photographe professionnelle, a mis en veilleuse ses ambitions artistiques. Or, le hasard lui fait rencontrer Guillaume, un jeune mécanicien dont la photogénie naturelle l'inspire. Réticent, ce dernier se laisse convaincre de poser pour Viviane qui, retrouvant son énergie créatrice, fait de lui le sujet d'un projet d'exposition. Bientôt, l'artiste constate que le jeune homme, qui vit toujours chez ses parents, porte les stigmates d'un douloureuse expérience familiale, qui le rend asocial et autodestructeur. Tout en cherchant à percer le mystère de Guillaume, Viviane tente un rapprochement avec son frère.\n",
      "\n",
      "Movie : Rangers\n",
      "Genres : Action\n",
      "Overview : A black ops unit goes to middle east after a terrorist. They are betrayed and their operative is caught. Later, unit leader starts an investigation. Meanwile the enemy offers the operative a chance for revenge against his superiors.\n",
      "\n"
     ]
    },
    {
     "ename": "IndexError",
     "evalue": "list index out of range",
     "output_type": "error",
     "traceback": [
      "\u001b[1;31m---------------------------------------------------------------------------\u001b[0m",
      "\u001b[1;31mIndexError\u001b[0m                                Traceback (most recent call last)",
      "\u001b[1;32m<ipython-input-85-9f2df350bf81>\u001b[0m in \u001b[0;36m<module>\u001b[1;34m()\u001b[0m\n\u001b[0;32m      1\u001b[0m \u001b[1;32mfor\u001b[0m \u001b[0mnum\u001b[0m \u001b[1;32min\u001b[0m \u001b[0mrange\u001b[0m\u001b[1;33m(\u001b[0m\u001b[1;36m0\u001b[0m\u001b[1;33m,\u001b[0m \u001b[1;36m10\u001b[0m\u001b[1;33m)\u001b[0m\u001b[1;33m:\u001b[0m\u001b[1;33m\u001b[0m\u001b[0m\n\u001b[0;32m      2\u001b[0m     \u001b[0murl\u001b[0m \u001b[1;33m=\u001b[0m \u001b[1;34m'https://api.themoviedb.org/3/movie/'\u001b[0m\u001b[1;33m\u001b[0m\u001b[0m\n\u001b[1;32m----> 3\u001b[1;33m     \u001b[0mip\u001b[0m \u001b[1;33m=\u001b[0m \u001b[0mresult\u001b[0m\u001b[1;33m[\u001b[0m\u001b[1;34m'results'\u001b[0m\u001b[1;33m]\u001b[0m\u001b[1;33m[\u001b[0m\u001b[0mnum\u001b[0m\u001b[1;33m]\u001b[0m\u001b[1;33m[\u001b[0m\u001b[1;34m'id'\u001b[0m\u001b[1;33m]\u001b[0m\u001b[1;33m\u001b[0m\u001b[0m\n\u001b[0m\u001b[0;32m      4\u001b[0m     \u001b[0mmykey\u001b[0m \u001b[1;33m=\u001b[0m \u001b[1;34m'?api_key=ff3bedd3d47493bf66e799c508aba82a'\u001b[0m\u001b[1;33m\u001b[0m\u001b[0m\n\u001b[0;32m      5\u001b[0m     \u001b[0mmyrequest\u001b[0m \u001b[1;33m=\u001b[0m \u001b[0murl\u001b[0m \u001b[1;33m+\u001b[0m \u001b[0mstr\u001b[0m\u001b[1;33m(\u001b[0m\u001b[0mip\u001b[0m\u001b[1;33m)\u001b[0m \u001b[1;33m+\u001b[0m \u001b[0mmykey\u001b[0m\u001b[1;33m\u001b[0m\u001b[0m\n",
      "\u001b[1;31mIndexError\u001b[0m: list index out of range"
     ]
    }
   ],
   "source": [
    "for num in range(0, 10):\n",
    "    url = 'https://api.themoviedb.org/3/movie/'\n",
    "    ip = result['results'][num]['id']\n",
    "    mykey = '?api_key=ff3bedd3d47493bf66e799c508aba82a'\n",
    "    myrequest = url + str(ip) + mykey\n",
    "    response, content = h.request(myrequest, 'GET')\n",
    "    resulta = json.loads(content.decode('utf-8'))\n",
    "    \n",
    "    if len(resulta) != 2:\n",
    "        name = resulta['original_title']\n",
    "        genres = resulta['genres'][0]['name']\n",
    "        overview = resulta['overview']\n",
    "    \n",
    "        print('Movie :',name)\n",
    "        print('Genres :',genres)\n",
    "        print('Overview :',overview)\n",
    "        print()"
   ]
  },
  {
   "cell_type": "code",
   "execution_count": 100,
   "metadata": {},
   "outputs": [
    {
     "ename": "RelativeURIError",
     "evalue": "Only absolute URIs are allowed. uri = /discover/movie?certification_country=US&certification.lte=G&sort_by=popularity.desc?api_key=ff3bedd3d47493bf66e799c508aba82a",
     "output_type": "error",
     "traceback": [
      "\u001b[1;31m---------------------------------------------------------------------------\u001b[0m",
      "\u001b[1;31mRelativeURIError\u001b[0m                          Traceback (most recent call last)",
      "\u001b[1;32m<ipython-input-100-d006e0e408be>\u001b[0m in \u001b[0;36m<module>\u001b[1;34m()\u001b[0m\n\u001b[0;32m      2\u001b[0m \u001b[0mmykey\u001b[0m \u001b[1;33m=\u001b[0m \u001b[1;34m'?api_key=ff3bedd3d47493bf66e799c508aba82a'\u001b[0m\u001b[1;33m\u001b[0m\u001b[0m\n\u001b[0;32m      3\u001b[0m \u001b[0mmyrequest\u001b[0m \u001b[1;33m=\u001b[0m \u001b[0murl\u001b[0m \u001b[1;33m+\u001b[0m \u001b[0mmykey\u001b[0m\u001b[1;33m\u001b[0m\u001b[0m\n\u001b[1;32m----> 4\u001b[1;33m \u001b[0mresponse\u001b[0m\u001b[1;33m,\u001b[0m \u001b[0mcontent\u001b[0m \u001b[1;33m=\u001b[0m \u001b[0mh\u001b[0m\u001b[1;33m.\u001b[0m\u001b[0mrequest\u001b[0m\u001b[1;33m(\u001b[0m\u001b[0mmyrequest\u001b[0m\u001b[1;33m,\u001b[0m \u001b[1;34m'GET'\u001b[0m\u001b[1;33m)\u001b[0m\u001b[1;33m\u001b[0m\u001b[0m\n\u001b[0m\u001b[0;32m      5\u001b[0m \u001b[0mresulta\u001b[0m \u001b[1;33m=\u001b[0m \u001b[0mjson\u001b[0m\u001b[1;33m.\u001b[0m\u001b[0mloads\u001b[0m\u001b[1;33m(\u001b[0m\u001b[0mcontent\u001b[0m\u001b[1;33m.\u001b[0m\u001b[0mdecode\u001b[0m\u001b[1;33m(\u001b[0m\u001b[1;34m'utf-8'\u001b[0m\u001b[1;33m)\u001b[0m\u001b[1;33m)\u001b[0m\u001b[1;33m\u001b[0m\u001b[0m\n\u001b[0;32m      6\u001b[0m \u001b[0mresulta\u001b[0m\u001b[1;33m\u001b[0m\u001b[0m\n",
      "\u001b[1;32mC:\\Anaconda3\\lib\\site-packages\\httplib2\\__init__.py\u001b[0m in \u001b[0;36mrequest\u001b[1;34m(self, uri, method, body, headers, redirections, connection_type)\u001b[0m\n\u001b[0;32m   1736\u001b[0m             \u001b[0muri\u001b[0m \u001b[1;33m=\u001b[0m \u001b[0miri2uri\u001b[0m\u001b[1;33m(\u001b[0m\u001b[0muri\u001b[0m\u001b[1;33m)\u001b[0m\u001b[1;33m\u001b[0m\u001b[0m\n\u001b[0;32m   1737\u001b[0m \u001b[1;33m\u001b[0m\u001b[0m\n\u001b[1;32m-> 1738\u001b[1;33m             \u001b[1;33m(\u001b[0m\u001b[0mscheme\u001b[0m\u001b[1;33m,\u001b[0m \u001b[0mauthority\u001b[0m\u001b[1;33m,\u001b[0m \u001b[0mrequest_uri\u001b[0m\u001b[1;33m,\u001b[0m \u001b[0mdefrag_uri\u001b[0m\u001b[1;33m)\u001b[0m \u001b[1;33m=\u001b[0m \u001b[0murlnorm\u001b[0m\u001b[1;33m(\u001b[0m\u001b[0muri\u001b[0m\u001b[1;33m)\u001b[0m\u001b[1;33m\u001b[0m\u001b[0m\n\u001b[0m\u001b[0;32m   1739\u001b[0m \u001b[1;33m\u001b[0m\u001b[0m\n\u001b[0;32m   1740\u001b[0m             \u001b[0mconn_key\u001b[0m \u001b[1;33m=\u001b[0m \u001b[0mscheme\u001b[0m \u001b[1;33m+\u001b[0m \u001b[1;34m\":\"\u001b[0m \u001b[1;33m+\u001b[0m \u001b[0mauthority\u001b[0m\u001b[1;33m\u001b[0m\u001b[0m\n",
      "\u001b[1;32mC:\\Anaconda3\\lib\\site-packages\\httplib2\\__init__.py\u001b[0m in \u001b[0;36murlnorm\u001b[1;34m(uri)\u001b[0m\n\u001b[0;32m    221\u001b[0m     \u001b[1;33m(\u001b[0m\u001b[0mscheme\u001b[0m\u001b[1;33m,\u001b[0m \u001b[0mauthority\u001b[0m\u001b[1;33m,\u001b[0m \u001b[0mpath\u001b[0m\u001b[1;33m,\u001b[0m \u001b[0mquery\u001b[0m\u001b[1;33m,\u001b[0m \u001b[0mfragment\u001b[0m\u001b[1;33m)\u001b[0m \u001b[1;33m=\u001b[0m \u001b[0mparse_uri\u001b[0m\u001b[1;33m(\u001b[0m\u001b[0muri\u001b[0m\u001b[1;33m)\u001b[0m\u001b[1;33m\u001b[0m\u001b[0m\n\u001b[0;32m    222\u001b[0m     \u001b[1;32mif\u001b[0m \u001b[1;32mnot\u001b[0m \u001b[0mscheme\u001b[0m \u001b[1;32mor\u001b[0m \u001b[1;32mnot\u001b[0m \u001b[0mauthority\u001b[0m\u001b[1;33m:\u001b[0m\u001b[1;33m\u001b[0m\u001b[0m\n\u001b[1;32m--> 223\u001b[1;33m         \u001b[1;32mraise\u001b[0m \u001b[0mRelativeURIError\u001b[0m\u001b[1;33m(\u001b[0m\u001b[1;34m\"Only absolute URIs are allowed. uri = %s\"\u001b[0m \u001b[1;33m%\u001b[0m \u001b[0muri\u001b[0m\u001b[1;33m)\u001b[0m\u001b[1;33m\u001b[0m\u001b[0m\n\u001b[0m\u001b[0;32m    224\u001b[0m     \u001b[0mauthority\u001b[0m \u001b[1;33m=\u001b[0m \u001b[0mauthority\u001b[0m\u001b[1;33m.\u001b[0m\u001b[0mlower\u001b[0m\u001b[1;33m(\u001b[0m\u001b[1;33m)\u001b[0m\u001b[1;33m\u001b[0m\u001b[0m\n\u001b[0;32m    225\u001b[0m     \u001b[0mscheme\u001b[0m \u001b[1;33m=\u001b[0m \u001b[0mscheme\u001b[0m\u001b[1;33m.\u001b[0m\u001b[0mlower\u001b[0m\u001b[1;33m(\u001b[0m\u001b[1;33m)\u001b[0m\u001b[1;33m\u001b[0m\u001b[0m\n",
      "\u001b[1;31mRelativeURIError\u001b[0m: Only absolute URIs are allowed. uri = /discover/movie?certification_country=US&certification.lte=G&sort_by=popularity.desc?api_key=ff3bedd3d47493bf66e799c508aba82a"
     ]
    }
   ],
   "source": [
    "url = '/discover/movie?certification_country=US&certification.lte=G&sort_by=popularity.desc'\n",
    "mykey = '?api_key=ff3bedd3d47493bf66e799c508aba82a'\n",
    "myrequest = url + mykey\n",
    "response, content = h.request(myrequest, 'GET')\n",
    "resulta = json.loads(content.decode('utf-8'))\n",
    "resulta"
   ]
  },
  {
   "cell_type": "code",
   "execution_count": 104,
   "metadata": {},
   "outputs": [
    {
     "data": {
      "text/plain": [
       "{'page': 1,\n",
       " 'results': [{'adult': False,\n",
       "   'backdrop_path': '/h3KN24PrOheHVYs9ypuOIdFBEpX.jpg',\n",
       "   'genre_ids': [16, 10751, 12],\n",
       "   'id': 166428,\n",
       "   'original_language': 'en',\n",
       "   'original_title': 'How to Train Your Dragon: The Hidden World',\n",
       "   'overview': 'As Hiccup fulfills his dream of creating a peaceful dragon utopia, Toothless’ discovery of an untamed, elusive mate draws the Night Fury away. When danger mounts at home and Hiccup’s reign as village chief is tested, both dragon and rider must make impossible decisions to save their kind.',\n",
       "   'popularity': 763.258,\n",
       "   'poster_path': '/xvx4Yhf0DVH8G4LzNISpMfFBDy2.jpg',\n",
       "   'release_date': '2019-01-03',\n",
       "   'title': 'How to Train Your Dragon: The Hidden World',\n",
       "   'video': False,\n",
       "   'vote_average': 7.7,\n",
       "   'vote_count': 1170},\n",
       "  {'adult': False,\n",
       "   'backdrop_path': '/w2PMyoyLU22YvrGK3smVM9fW1jj.jpg',\n",
       "   'genre_ids': [28, 12, 878],\n",
       "   'id': 299537,\n",
       "   'original_language': 'en',\n",
       "   'original_title': 'Captain Marvel',\n",
       "   'overview': 'The story follows Carol Danvers as she becomes one of the universe’s most powerful heroes when Earth is caught in the middle of a galactic war between two alien races. Set in the 1990s, Captain Marvel is an all-new adventure from a previously unseen period in the history of the Marvel Cinematic Universe.',\n",
       "   'popularity': 408.793,\n",
       "   'poster_path': '/AtsgWhDnHTq68L0lLsUrCnM7TjG.jpg',\n",
       "   'release_date': '2019-03-06',\n",
       "   'title': 'Captain Marvel',\n",
       "   'video': False,\n",
       "   'vote_average': 7.2,\n",
       "   'vote_count': 3085},\n",
       "  {'adult': False,\n",
       "   'backdrop_path': '/jNUCddkM1fjYcFIcEwFjc7s2H4V.jpg',\n",
       "   'genre_ids': [53, 27],\n",
       "   'id': 458723,\n",
       "   'original_language': 'en',\n",
       "   'original_title': 'Us',\n",
       "   'overview': 'Husband and wife Gabe and Adelaide Wilson take their kids to their beach house expecting to unplug and unwind with friends. But as night descends, their serenity turns to tension and chaos when some shocking visitors arrive uninvited.',\n",
       "   'popularity': 299.196,\n",
       "   'poster_path': '/ux2dU1jQ2ACIMShzB3yP93Udpzc.jpg',\n",
       "   'release_date': '2019-03-14',\n",
       "   'title': 'Us',\n",
       "   'video': False,\n",
       "   'vote_average': 7.4,\n",
       "   'vote_count': 502},\n",
       "  {'adult': False,\n",
       "   'backdrop_path': '/wtZj5nn6hVwgakPdg6y6gm3eFXU.jpg',\n",
       "   'genre_ids': [28, 12, 878],\n",
       "   'id': 424783,\n",
       "   'original_language': 'en',\n",
       "   'original_title': 'Bumblebee',\n",
       "   'overview': 'On the run in the year 1987, Bumblebee finds refuge in a junkyard in a small Californian beach town. Charlie, on the cusp of turning 18 and trying to find her place in the world, discovers Bumblebee, battle-scarred and broken.  When Charlie revives him, she quickly learns this is no ordinary yellow VW bug.',\n",
       "   'popularity': 208.684,\n",
       "   'poster_path': '/fw02ONlDhrYjTSZV8XO6hhU3ds3.jpg',\n",
       "   'release_date': '2018-12-15',\n",
       "   'title': 'Bumblebee',\n",
       "   'video': False,\n",
       "   'vote_average': 6.5,\n",
       "   'vote_count': 1633},\n",
       "  {'adult': False,\n",
       "   'backdrop_path': '/JeQZJzWPyZFcTBMHIjxIWwPpIB.jpg',\n",
       "   'genre_ids': [12, 10751, 14],\n",
       "   'id': 329996,\n",
       "   'original_language': 'en',\n",
       "   'original_title': 'Dumbo',\n",
       "   'overview': 'A young elephant, whose oversized ears enable him to fly, helps save a struggling circus, but when the circus plans a new venture, Dumbo and his friends discover dark secrets beneath its shiny veneer.',\n",
       "   'popularity': 183.667,\n",
       "   'poster_path': '/A7XkpLfNH0El2yyDLc4b0KLAKvE.jpg',\n",
       "   'release_date': '2019-03-27',\n",
       "   'title': 'Dumbo',\n",
       "   'video': False,\n",
       "   'vote_average': 6.9,\n",
       "   'vote_count': 163},\n",
       "  {'adult': False,\n",
       "   'backdrop_path': '/bTeRgkAavyw1eCtSkaww18wLYNP.jpg',\n",
       "   'genre_ids': [80, 18, 53],\n",
       "   'id': 504172,\n",
       "   'original_language': 'en',\n",
       "   'original_title': 'The Mule',\n",
       "   'overview': 'Earl Stone, a man in his 80s who is broke, alone, and facing foreclosure of his business when he is offered a job that simply requires him to drive. Easy enough, but, unbeknownst to Earl, he’s just signed on as a drug courier for a Mexican cartel. He does so well that his cargo increases exponentially, and Earl hit the radar of hard-charging DEA agent Colin Bates.',\n",
       "   'popularity': 156.091,\n",
       "   'poster_path': '/oeZh7yEz3PMnZLgBPhrafFHRbVz.jpg',\n",
       "   'release_date': '2018-12-14',\n",
       "   'title': 'The Mule',\n",
       "   'video': False,\n",
       "   'vote_average': 6.5,\n",
       "   'vote_count': 1035},\n",
       "  {'adult': False,\n",
       "   'backdrop_path': '/2zKusjJZd8b2Cdk2C5K9dGFNWiJ.jpg',\n",
       "   'genre_ids': [16, 28, 14, 12],\n",
       "   'id': 390634,\n",
       "   'original_language': 'ja',\n",
       "   'original_title': \"劇場版「Fate/stay night [Heaven's Feel] ⅠⅠ. lost butterfly」\",\n",
       "   'overview': 'Theatrical-release adaptation of the visual novel \"Fate/stay night\", following the third and final route. (Part 2 of a trilogy.)',\n",
       "   'popularity': 152.241,\n",
       "   'poster_path': '/4tS0iyKQBDFqVpVcH21MSJwXZdq.jpg',\n",
       "   'release_date': '2019-01-12',\n",
       "   'title': 'Fate/stay night: Heaven’s Feel II. lost butterfly',\n",
       "   'video': False,\n",
       "   'vote_average': 4.6,\n",
       "   'vote_count': 29},\n",
       "  {'adult': False,\n",
       "   'backdrop_path': '/bOGkgRGdhrBYJSLpXaxhXVstddV.jpg',\n",
       "   'genre_ids': [12, 28, 14],\n",
       "   'id': 299536,\n",
       "   'original_language': 'en',\n",
       "   'original_title': 'Avengers: Infinity War',\n",
       "   'overview': 'As the Avengers and their allies have continued to protect the world from threats too large for any one hero to handle, a new danger has emerged from the cosmic shadows: Thanos. A despot of intergalactic infamy, his goal is to collect all six Infinity Stones, artifacts of unimaginable power, and use them to inflict his twisted will on all of reality. Everything the Avengers have fought for has led up to this moment - the fate of Earth and existence itself has never been more uncertain.',\n",
       "   'popularity': 147.297,\n",
       "   'poster_path': '/7WsyChQLEftFiDOVTGkv3hFpyyt.jpg',\n",
       "   'release_date': '2018-04-25',\n",
       "   'title': 'Avengers: Infinity War',\n",
       "   'video': False,\n",
       "   'vote_average': 8.3,\n",
       "   'vote_count': 12350},\n",
       "  {'adult': False,\n",
       "   'backdrop_path': '/uUiId6cG32JSRI6RyBQSvQtLjz2.jpg',\n",
       "   'genre_ids': [28, 12, 16, 878, 35],\n",
       "   'id': 324857,\n",
       "   'original_language': 'en',\n",
       "   'original_title': 'Spider-Man: Into the Spider-Verse',\n",
       "   'overview': 'Miles Morales is juggling his life between being a high school student and being a spider-man. When Wilson \"Kingpin\" Fisk uses a super collider, others from across the Spider-Verse are transported to this dimension.',\n",
       "   'popularity': 142.353,\n",
       "   'poster_path': '/iiZZdoQBEYBv6id8su7ImL0oCbD.jpg',\n",
       "   'release_date': '2018-12-07',\n",
       "   'title': 'Spider-Man: Into the Spider-Verse',\n",
       "   'video': False,\n",
       "   'vote_average': 8.5,\n",
       "   'vote_count': 2968},\n",
       "  {'adult': False,\n",
       "   'backdrop_path': '/2f8fkWSWOVcTlWforoVpsuaCiwI.jpg',\n",
       "   'genre_ids': [53, 28],\n",
       "   'id': 449985,\n",
       "   'original_language': 'en',\n",
       "   'original_title': 'Triple Threat',\n",
       "   'overview': \"A crime syndicate places a hit on a billionaire's daughter, making her the target of an elite assassin squad. A small band of down-and-out mercenaries protects her, fighting tooth and nail to stop the assassins from reaching their target.\",\n",
       "   'popularity': 140.141,\n",
       "   'poster_path': '/cSpM3QxmoSLp4O1WAMQpUDcaB7R.jpg',\n",
       "   'release_date': '2019-03-19',\n",
       "   'title': 'Triple Threat',\n",
       "   'video': False,\n",
       "   'vote_average': 5.4,\n",
       "   'vote_count': 33},\n",
       "  {'adult': False,\n",
       "   'backdrop_path': '/aQXTw3wIWuFMy0beXRiZ1xVKtcf.jpg',\n",
       "   'genre_ids': [28, 878, 53, 12],\n",
       "   'id': 399579,\n",
       "   'original_language': 'en',\n",
       "   'original_title': 'Alita: Battle Angel',\n",
       "   'overview': 'When Alita awakens with no memory of who she is in a future world she does not recognize, she is taken in by Ido, a compassionate doctor who realizes that somewhere in this abandoned cyborg shell is the heart and soul of a young woman with an extraordinary past.',\n",
       "   'popularity': 138.749,\n",
       "   'poster_path': '/xRWht48C2V8XNfzvPehyClOvDni.jpg',\n",
       "   'release_date': '2019-01-31',\n",
       "   'title': 'Alita: Battle Angel',\n",
       "   'video': False,\n",
       "   'vote_average': 6.6,\n",
       "   'vote_count': 1719},\n",
       "  {'adult': False,\n",
       "   'backdrop_path': '/9QusGjxcYvfPD1THg6oW3RLeNn7.jpg',\n",
       "   'genre_ids': [28, 12, 14, 878],\n",
       "   'id': 297802,\n",
       "   'original_language': 'en',\n",
       "   'original_title': 'Aquaman',\n",
       "   'overview': \"Once home to the most advanced civilization on Earth, Atlantis is now an underwater kingdom ruled by the power-hungry King Orm. With a vast army at his disposal, Orm plans to conquer the remaining oceanic people and then the surface world. Standing in his way is Arthur Curry, Orm's half-human, half-Atlantean brother and true heir to the throne.\",\n",
       "   'popularity': 133.578,\n",
       "   'poster_path': '/5Kg76ldv7VxeX9YlcQXiowHgdX6.jpg',\n",
       "   'release_date': '2018-12-07',\n",
       "   'title': 'Aquaman',\n",
       "   'video': False,\n",
       "   'vote_average': 6.8,\n",
       "   'vote_count': 4958},\n",
       "  {'adult': False,\n",
       "   'backdrop_path': '/grtVFGJ4ts0nDAPpc1JWbBoVKTu.jpg',\n",
       "   'genre_ids': [28],\n",
       "   'id': 450001,\n",
       "   'original_language': 'cn',\n",
       "   'original_title': '葉問外傳：張天志',\n",
       "   'overview': 'After being defeated by Ip Man, Cheung Tin Chi is attempting to keep a low profile. While going about his business, he gets into a fight with a foreigner by the name of Davidson, who is a big boss behind the bar district. Tin Chi fights hard with Wing Chun and earns respect.',\n",
       "   'popularity': 121.956,\n",
       "   'poster_path': '/2WfjB6FUDTIBVI2y02UGbnHR82s.jpg',\n",
       "   'release_date': '2018-12-20',\n",
       "   'title': 'Master Z: Ip Man Legacy',\n",
       "   'video': False,\n",
       "   'vote_average': 5.1,\n",
       "   'vote_count': 103},\n",
       "  {'adult': False,\n",
       "   'backdrop_path': '/dhNJHBDacrZjSPtwaiwp3idpzxU.jpg',\n",
       "   'genre_ids': [27, 9648, 53, 878, 35],\n",
       "   'id': 512196,\n",
       "   'original_language': 'en',\n",
       "   'original_title': 'Happy Death Day 2U',\n",
       "   'overview': \"Collegian Tree Gelbman wakes up in horror to learn that she's stuck in a parallel universe. Her boyfriend Carter is now with someone else, and her friends and fellow students seem to be completely different versions of themselves. When Tree discovers that Carter's roommate has been altering time, she finds herself once again the target of a masked killer. When the psychopath starts to go after her inner circle, Tree soon realizes that she must die over and over again to save everyone.\",\n",
       "   'popularity': 119.519,\n",
       "   'poster_path': '/4tdnePOkOOzwuGPEOAHp8UA4vqx.jpg',\n",
       "   'release_date': '2019-02-13',\n",
       "   'title': 'Happy Death Day 2U',\n",
       "   'video': False,\n",
       "   'vote_average': 6.1,\n",
       "   'vote_count': 489},\n",
       "  {'adult': False,\n",
       "   'backdrop_path': '/lvjscO8wmpEbIfOEZi92Je8Ktlg.jpg',\n",
       "   'genre_ids': [53, 9648, 18, 14],\n",
       "   'id': 450465,\n",
       "   'original_language': 'en',\n",
       "   'original_title': 'Glass',\n",
       "   'overview': 'In a series of escalating encounters, security guard David Dunn uses his supernatural abilities to track Kevin Wendell Crumb, a disturbed man who has twenty-four personalities. Meanwhile, the shadowy presence of Elijah Price emerges as an orchestrator who holds secrets critical to both men.',\n",
       "   'popularity': 99.365,\n",
       "   'poster_path': '/svIDTNUoajS8dLEo7EosxvyAsgJ.jpg',\n",
       "   'release_date': '2019-01-16',\n",
       "   'title': 'Glass',\n",
       "   'video': False,\n",
       "   'vote_average': 6.5,\n",
       "   'vote_count': 1805},\n",
       "  {'adult': False,\n",
       "   'backdrop_path': '/wDN3FIcQQ1HI7mz1OOKYHSQtaiE.jpg',\n",
       "   'genre_ids': [10751, 14, 12],\n",
       "   'id': 338952,\n",
       "   'original_language': 'en',\n",
       "   'original_title': 'Fantastic Beasts: The Crimes of Grindelwald',\n",
       "   'overview': 'Gellert Grindelwald has escaped imprisonment and has begun gathering followers to his cause—elevating wizards above all non-magical beings. The only one capable of putting a stop to him is the wizard he once called his closest friend, Albus Dumbledore. However, Dumbledore will need to seek help from the wizard who had thwarted Grindelwald once before, his former student Newt Scamander, who agrees to help, unaware of the dangers that lie ahead. Lines are drawn as love and loyalty are tested, even among the truest friends and family, in an increasingly divided wizarding world.',\n",
       "   'popularity': 99.1,\n",
       "   'poster_path': '/fMMrl8fD9gRCFJvsx0SuFwkEOop.jpg',\n",
       "   'release_date': '2018-11-14',\n",
       "   'title': 'Fantastic Beasts: The Crimes of Grindelwald',\n",
       "   'video': False,\n",
       "   'vote_average': 6.9,\n",
       "   'vote_count': 4139},\n",
       "  {'adult': False,\n",
       "   'backdrop_path': '/piGjUloiaq6qTpaDLisyDyEsx9i.jpg',\n",
       "   'genre_ids': [35],\n",
       "   'id': 464504,\n",
       "   'original_language': 'en',\n",
       "   'original_title': 'A Madea Family Funeral',\n",
       "   'overview': 'A joyous family reunion becomes a hilarious nightmare as Madea and the crew travel to backwoods Georgia, where they find themselves unexpectedly planning a funeral that might unveil unpleasant family secrets.',\n",
       "   'popularity': 98.246,\n",
       "   'poster_path': '/bOiHlY5JD8GLp7BvWdHkfEftzhQ.jpg',\n",
       "   'release_date': '2019-03-01',\n",
       "   'title': 'A Madea Family Funeral',\n",
       "   'video': False,\n",
       "   'vote_average': 5.5,\n",
       "   'vote_count': 199},\n",
       "  {'adult': False,\n",
       "   'backdrop_path': '/s9I2LmQMYCanl6DvC3X1AOHs2r8.jpg',\n",
       "   'genre_ids': [28, 53, 80],\n",
       "   'id': 399361,\n",
       "   'original_language': 'en',\n",
       "   'original_title': 'Triple Frontier',\n",
       "   'overview': 'Struggling to make ends meet, former special ops soldiers reunite for a high-stakes heist: stealing $75 million from a South American drug lord.',\n",
       "   'popularity': 96.637,\n",
       "   'poster_path': '/aBw8zYuAljVM1FeK5bZKITPH8ZD.jpg',\n",
       "   'release_date': '2019-03-06',\n",
       "   'title': 'Triple Frontier',\n",
       "   'video': False,\n",
       "   'vote_average': 6.2,\n",
       "   'vote_count': 662},\n",
       "  {'adult': False,\n",
       "   'backdrop_path': '/jnOuttTfG9KKpmOZtprC4pA1AlZ.jpg',\n",
       "   'genre_ids': [878, 28, 12, 14, 53],\n",
       "   'id': 428078,\n",
       "   'original_language': 'en',\n",
       "   'original_title': 'Mortal Engines',\n",
       "   'overview': 'Many thousands of years in the future, Earth’s cities roam the globe on huge wheels, devouring each other in a struggle for ever diminishing resources. On one of these massive traction cities, the old London, Tom Natsworthy has an unexpected encounter with a mysterious young woman from the wastelands who will change the course of his life forever.',\n",
       "   'popularity': 94.61,\n",
       "   'poster_path': '/uXJVpPXxZO4L8Rz3IG1Y8XvZJcg.jpg',\n",
       "   'release_date': '2018-11-27',\n",
       "   'title': 'Mortal Engines',\n",
       "   'video': False,\n",
       "   'vote_average': 5.9,\n",
       "   'vote_count': 1299},\n",
       "  {'adult': False,\n",
       "   'backdrop_path': '/uufTqD2CSn1NqL3cXEl4Vp3bCav.jpg',\n",
       "   'genre_ids': [28, 12, 878],\n",
       "   'id': 543103,\n",
       "   'original_language': 'ja',\n",
       "   'original_title': '仮面ライダー平成ジェネレーションズFOREVER',\n",
       "   'overview': 'In the world of Sougo Tokiwa and Sento Kiryu, their \"companions\" are losing their memories one after the other as they\\'re replaced by other people. The Super Time Jacker, Tid , appears before them. He orders his powerful underlings, Another Double and Another Den-O, to pursue a young boy called Shingo. While fighting to protect Shingo, Sougo meets Ataru, a young man who loves Riders, but Ataru says that Kamen Riders aren\\'t real. What is the meaning of those words? While the mystery deepens, the true enemy that Sougo and Sento must defeat appears in the Kuriogatake mountain...',\n",
       "   'popularity': 92.078,\n",
       "   'poster_path': '/6sOFQDlkY6El1B2P5gklzJfVdsT.jpg',\n",
       "   'release_date': '2018-12-22',\n",
       "   'title': 'Kamen Rider Heisei Generations FOREVER',\n",
       "   'video': False,\n",
       "   'vote_average': 4.8,\n",
       "   'vote_count': 8}],\n",
       " 'total_pages': 3436,\n",
       " 'total_results': 68707}"
      ]
     },
     "execution_count": 104,
     "metadata": {},
     "output_type": "execute_result"
    }
   ],
   "source": [
    "url = 'https://api.themoviedb.org/3/discover/movie'\n",
    "mykey = '?api_key=ff3bedd3d47493bf66e799c508aba82a'\n",
    "discover = '&language=kor&primary_release_date.gte=2014-09-15&primary_release_date.lte=2019-03-31'\n",
    "myrequest = url + mykey + discover\n",
    "response, content = h.request(myrequest, 'GET')\n",
    "resulta = json.loads(content.decode('utf-8'))\n",
    "\n",
    "resulta"
   ]
  },
  {
   "cell_type": "code",
   "execution_count": 107,
   "metadata": {
    "collapsed": true
   },
   "outputs": [],
   "source": [
    "base_url = 'https://image.tmdb.org/t/p/'\n",
    "file_size = 'w500/'\n",
    "file_path = '/6sOFQDlkY6El1B2P5gklzJfVdsT.jpg'"
   ]
  },
  {
   "cell_type": "code",
   "execution_count": 109,
   "metadata": {},
   "outputs": [
    {
     "data": {
      "text/plain": [
       "'https://image.tmdb.org/t/p/w500//6sOFQDlkY6El1B2P5gklzJfVdsT.jpg'"
      ]
     },
     "execution_count": 109,
     "metadata": {},
     "output_type": "execute_result"
    }
   ],
   "source": [
    "base_url + file_size + file_path"
   ]
  },
  {
   "cell_type": "code",
   "execution_count": null,
   "metadata": {
    "collapsed": true
   },
   "outputs": [],
   "source": []
  }
 ],
 "metadata": {
  "kernelspec": {
   "display_name": "Python 3",
   "language": "python",
   "name": "python3"
  },
  "language_info": {
   "codemirror_mode": {
    "name": "ipython",
    "version": 3
   },
   "file_extension": ".py",
   "mimetype": "text/x-python",
   "name": "python",
   "nbconvert_exporter": "python",
   "pygments_lexer": "ipython3",
   "version": "3.6.3"
  }
 },
 "nbformat": 4,
 "nbformat_minor": 2
}

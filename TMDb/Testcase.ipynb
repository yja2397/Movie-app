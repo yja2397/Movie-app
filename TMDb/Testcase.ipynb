{
 "cells": [
  {
   "cell_type": "code",
   "execution_count": 1,
   "metadata": {
    "collapsed": true
   },
   "outputs": [],
   "source": [
    "import httplib2\n",
    "import json\n",
    "import urllib.request\n",
    "h = httplib2.Http()"
   ]
  },
  {
   "cell_type": "code",
   "execution_count": 2,
   "metadata": {
    "collapsed": true
   },
   "outputs": [],
   "source": [
    "# if result prints one result, show information of movie\n",
    "\n",
    "def information(result):\n",
    "    #  recive poster\n",
    "    poster = resulta['poster_path']\n",
    "    poster_name = str(poster).replace('/','')\n",
    "    base_url = 'https://image.tmdb.org/t/p/'\n",
    "    file_size = 'w500/'\n",
    "    poster = base_url + file_size + str(poster)\n",
    "    try:\n",
    "        # make file of poster's images\n",
    "        urllib.request.urlretrieve(str(poster),'./img/'+ poster_name)\n",
    "    except urllib.error.HTTPError as err:\n",
    "        # if images url cannot find the image\n",
    "        print(err.code)\n",
    "    \n",
    "    name = resulta['original_title']\n",
    "    overview = resulta['overview']\n",
    "    \n",
    "    print('Movie :',name)\n",
    "    if 'genres' in resulta.keys():\n",
    "        genre = resulta['genres'][0]['name']\n",
    "        print('Genre :',genre)\n",
    "    print('Overview :',overview)\n",
    "    print()"
   ]
  },
  {
   "cell_type": "code",
   "execution_count": 3,
   "metadata": {
    "collapsed": true
   },
   "outputs": [],
   "source": [
    "# api_ex recives discover of movie's information.\n",
    "\n",
    "def make_result(api_ex):\n",
    "    url = 'https://api.themoviedb.org/3/discover/movie'\n",
    "    mykey = '?api_key=ff3bedd3d47493bf66e799c508aba82a'\n",
    "    city = '&language=en-US'\n",
    "    myrequest = url + mykey + city + api_ex\n",
    "    response, content = h.request(myrequest, 'GET')\n",
    "    resulta = json.loads(content.decode('utf-8'))\n",
    "    \n",
    "    return resulta"
   ]
  },
  {
   "cell_type": "code",
   "execution_count": 4,
   "metadata": {
    "collapsed": true
   },
   "outputs": [],
   "source": [
    "# api_id recieves ip id of moive\n",
    "\n",
    "def make_result_id(api_id):\n",
    "    url = 'https://api.themoviedb.org/3/discover/movie'\n",
    "    mykey = '?api_key=ff3bedd3d47493bf66e799c508aba82a'\n",
    "    city = '&language=en-US'\n",
    "    myrequest = url + str(api_id) + mykey + city\n",
    "    response, content = h.request(myrequest, 'GET')\n",
    "    resulta = json.loads(content.decode('utf-8'))\n",
    "    \n",
    "    return resulta"
   ]
  },
  {
   "cell_type": "code",
   "execution_count": 5,
   "metadata": {
    "collapsed": true
   },
   "outputs": [],
   "source": [
    "# show results of lists what have many results of movie.\n",
    "\n",
    "def info_list(result):\n",
    "    if result['total_results'] > 20:\n",
    "        times = 19\n",
    "    else:\n",
    "        times = result['total_results']-1\n",
    "    for num in range(0, times):\n",
    "        poster = result['results'][num]['poster_path'] # https://codevkr.tistory.com/36?category=705611\n",
    "        poster_name = str(poster).replace('/','')\n",
    "        base_url = 'https://image.tmdb.org/t/p/'\n",
    "        file_size = 'w500/'\n",
    "        poster = base_url + file_size + str(poster)\n",
    "        try:\n",
    "            urllib.request.urlretrieve(str(poster),'./img/'+ poster_name)\n",
    "        except urllib.error.HTTPError as err:\n",
    "            print()\n",
    "        title = result['results'][num]['title']\n",
    "        api_id = result['results'][num]['id']\n",
    "        overview = result['results'][num]['overview']\n",
    "        \n",
    "        print('Poster :', poster)\n",
    "        print('Title :', title)\n",
    "        if 'genres' in result['results'][num].keys():\n",
    "            genre = result['results'][num]['genres'][0]['name']\n",
    "            print('Genre :',genre)\n",
    "        print('Overview :',overview)\n",
    "        print()"
   ]
  },
  {
   "cell_type": "code",
   "execution_count": 33,
   "metadata": {
    "collapsed": true
   },
   "outputs": [],
   "source": [
    "def searchInfo(title, pages):\n",
    "    url = 'https://api.themoviedb.org/3/search/company'\n",
    "    myapi = '?api_key=ff3bedd3d47493bf66e799c508aba82a'\n",
    "    query = '&query='\n",
    "    page = '&page='\n",
    "    sort = '&sort_by=popularity.desc'\n",
    "    myrequest = url + myapi+ sort + page+str(pages)+query + title\n",
    "    response, content = h.request(myrequest, 'GET')\n",
    "    result = json.loads(content.decode('utf-8'))\n",
    "    if result['total_results'] < 19:\n",
    "        total_result = result['total_results']\n",
    "    else:\n",
    "        total_result = 19\n",
    "    \n",
    "    for num in range(0, total_result):\n",
    "        print(result['results'][num]['name'])\n",
    "    \n",
    "    if result['total_results'] > 19:\n",
    "        print(\"Do you want more about \"+title+\"?(y/n)\")\n",
    "        y = str(input())\n",
    "        if y == \"y\" or y == \"yes\" or y == \"Y\":\n",
    "            searchInfo(title, pages+1)"
   ]
  },
  {
   "cell_type": "code",
   "execution_count": 34,
   "metadata": {},
   "outputs": [],
   "source": [
    "def recentMovie():\n",
    "    from datetime import datetime\n",
    "\n",
    "    year = datetime.today().year\n",
    "\n",
    "    month = datetime.today().month\n",
    "\n",
    "    day = datetime.today().day\n",
    "    \n",
    "    if month == 1:\n",
    "        monthL = 12\n",
    "    else:\n",
    "        monthL = month - 1\n",
    "    \n",
    "    \n",
    "    info_list(make_result('&primary_release_date.gte='+str(year)+'-'+str(monthL)+'-01&primary_release_date.lte='+str(year)+'-'+str(month)+'-'+str(day)+''))"
   ]
  },
  {
   "cell_type": "code",
   "execution_count": null,
   "metadata": {},
   "outputs": [],
   "source": [
    "def popularMovie():\n",
    "    info_list(make_result('?certification_country=US&certification=R&sort_by=vote_average.desc'))"
   ]
  },
  {
   "cell_type": "code",
   "execution_count": 36,
   "metadata": {
    "collapsed": true
   },
   "outputs": [],
   "source": [
    "def GenreMovie():\n",
    "    print(\"What kind of Genre do you want?\")\n",
    "    \n",
    "    print(\"1. Action | 2. Adventure | 3. Animation | 4. Comedy | 5. Crime | 6. Documentary\")\n",
    "    print(\"7. Drama | 8. Family |9. Fantasy | 10. History | 11. Horror | 12. Music\")\n",
    "    print(\"13. Mystery | 14. Romance | 15. Science Fiction | 16. TV Movie | 17. Thriller | 18. War | 19. Western\")\n",
    "    \n",
    "    x = int(input())\n",
    "    \n",
    "    if x == 1:\n",
    "        info_list(make_result('?with_genres=28&sort_by=vote_average.desc&vote_count.gte=10'))\n",
    "    elif x == 2:\n",
    "        info_list(make_result('?with_genres=12&sort_by=vote_average.desc&vote_count.gte=10'))\n",
    "    elif x == 3:\n",
    "        info_list(make_result('?with_genres=16&sort_by=vote_average.desc&vote_count.gte=10'))\n",
    "    elif x == 4:\n",
    "        info_list(make_result('?with_genres=35&sort_by=vote_average.desc&vote_count.gte=10'))\n",
    "    elif x == 5:\n",
    "        info_list(make_result('?with_genres=80&sort_by=vote_average.desc&vote_count.gte=10'))\n",
    "    elif x == 6:\n",
    "        info_list(make_result('?with_genres=99&sort_by=vote_average.desc&vote_count.gte=10'))\n",
    "    elif x == 7:\n",
    "        info_list(make_result('?with_genres=18&sort_by=vote_average.desc&vote_count.gte=10'))\n",
    "    elif x == 8:\n",
    "        info_list(make_result('?with_genres=10751&sort_by=vote_average.desc&vote_count.gte=10'))\n",
    "    elif x == 9:\n",
    "        info_list(make_result('?with_genres=14&sort_by=vote_average.desc&vote_count.gte=10'))\n",
    "    elif x == 10:\n",
    "        info_list(make_result('?with_genres=36&sort_by=vote_average.desc&vote_count.gte=10'))\n",
    "    elif x == 11:\n",
    "        info_list(make_result('?with_genres=27&sort_by=vote_average.desc&vote_count.gte=10'))\n",
    "    elif x == 12:\n",
    "        info_list(make_result('?with_genres=10402&sort_by=vote_average.desc&vote_count.gte=10'))\n",
    "    elif x == 13:\n",
    "        info_list(make_result('?with_genres=9648&sort_by=vote_average.desc&vote_count.gte=10'))\n",
    "    elif x == 14:\n",
    "        info_list(make_result('?with_genres=10749&sort_by=vote_average.desc&vote_count.gte=10'))\n",
    "    elif x == 15:\n",
    "        info_list(make_result('?with_genres=878&sort_by=vote_average.desc&vote_count.gte=10'))\n",
    "    elif x == 16:\n",
    "        info_list(make_result('?with_genres=10770&sort_by=vote_average.desc&vote_count.gte=10'))\n",
    "    elif x == 17:\n",
    "        info_list(make_result('?with_genres=53&sort_by=vote_average.desc&vote_count.gte=10'))\n",
    "    elif x == 18:\n",
    "        info_list(make_result('?with_genres=10752&sort_by=vote_average.desc&vote_count.gte=10'))\n",
    "    elif x == 19:\n",
    "        info_list(make_result('?with_genres=37&sort_by=vote_average.desc&vote_count.gte=10'))\n",
    "    else:\n",
    "        print(\"wrong input\")"
   ]
  },
  {
   "cell_type": "code",
   "execution_count": 37,
   "metadata": {
    "collapsed": true
   },
   "outputs": [],
   "source": [
    "def yearMovie():\n",
    "    from datetime import datetime\n",
    "    \n",
    "    print(\"When do you want to see a movie that opened in years?\")\n",
    "    x = int(input())\n",
    "    \n",
    "    year = datetime.today().year\n",
    "    \n",
    "    if(x > year):\n",
    "        print(\"wrong input\")\n",
    "    else:\n",
    "        info_list(make_result('&primary_release_year='+str(x)+'&sort_by=vote_average.desc'))"
   ]
  },
  {
   "cell_type": "code",
   "execution_count": 38,
   "metadata": {
    "collapsed": true
   },
   "outputs": [],
   "source": [
    "def searchMovie():\n",
    "    print(\"Find the movie with Title :\")\n",
    "    x = str(input())\n",
    "    \n",
    "    searchInfo(x, 1)"
   ]
  },
  {
   "cell_type": "code",
   "execution_count": null,
   "metadata": {
    "collapsed": true
   },
   "outputs": [],
   "source": []
  },
  {
   "cell_type": "code",
   "execution_count": 43,
   "metadata": {},
   "outputs": [],
   "source": [
    "def ask():\n",
    "    print(\"Welcome.\")\n",
    "    print()\n",
    "    while True:\n",
    "        print(\"What are you looking for?\")\n",
    "        print()\n",
    "        print(\"1. Recent Movie  |  2. Popular Movie  |  3. Movie Recommendation(genre)  |  4. Movie Recommendation(year)  |  5. Search(Movie title)\")\n",
    "        x = int(input())\n",
    "        print()\n",
    "    \n",
    "        if x == 1:\n",
    "            recentMovie()\n",
    "        elif x == 2:\n",
    "            popularMovie()\n",
    "        elif x == 3:\n",
    "            GenreMovie()\n",
    "        elif x == 4:\n",
    "            yearMovie()\n",
    "        elif x == 5:\n",
    "            searchMovie()\n",
    "        else:\n",
    "            print(\"Wrong input\")\n",
    "        \n",
    "        print()\n",
    "        print()\n",
    "        \n",
    "        print(\"Do you want more?(y/n)\")\n",
    "        y = input()\n",
    "        \n",
    "        if y == \"y\" or y == \"yes\" or y == \"Y\":\n",
    "            print()\n",
    "        else:\n",
    "            break"
   ]
  },
  {
   "cell_type": "code",
   "execution_count": 44,
   "metadata": {},
   "outputs": [
    {
     "name": "stdout",
     "output_type": "stream",
     "text": [
      "Welcome.\n",
      "\n",
      "What are you looking for?\n",
      "\n",
      "1. Recent Movie  |  2. Popular Movie  |  3. Movie Recommendation(genre)  |  4. Movie Recommendation(year)  |  5. Search(Movie title)\n",
      "2\n",
      "\n",
      "Poster : https://image.tmdb.org/t/p/w500//2YAu2ctaxVGisdbmbbG35LXpQNp.jpg\n",
      "Title : Fast Color\n",
      "Overview : A woman is forced to go on the run when her superhuman abilities are discovered. Years after having abandoned her family, the only place she has left to hide is home.\n",
      "\n",
      "Poster : https://image.tmdb.org/t/p/w500//aFPqJZ9vOcH7QroNxXV5wefX2qe.jpg\n",
      "Title : Teen Spirit\n",
      "Overview : Violet, a shy teenager living on the Isle of Wight off the south coast of England dreams of pop stardom and with the help of an unlikely mentor, she enters a singing competition that will test her integrity, talent and ambition.\n",
      "\n",
      "Poster : https://image.tmdb.org/t/p/w500//g1tSdTXWv0iKDAXbrIfnFa7vgl4.jpg\n",
      "Title : Love on a Leash\n",
      "Overview : A dog who strives to become a man seeks a woman who will love him enough for the transformation to take place.\n",
      "\n",
      "Poster : https://image.tmdb.org/t/p/w500//WK9ehj4nEMvJNmFaWgll54v9yL.jpg\n",
      "Title : So, What's Your Price?\n",
      "Overview : ¿Y Tú, Cuánto Cuestas? (So, what's your price?), it seems to be the constant over this excellent documentary work, performed by Olallo Rubio, a young Mexican director. The movie shows two faces of the same issue: the American influence in the Mexican culture. you will remain thinking after the movie ends. Everything has a price? Everybody has a price?, so, What's your price?. Strong and ancient differences between two distant-neighbor countries are discussed under each opinion. Both Mexican and American-common persons give its particular point of view about the other, but also about themselves. Developed with a extremely low budget, but with inventive and imagination, this movie shows many of the key aspects in the Mexican-American relationship. However, the movie is not just a compilation of statistics, the producers manage to make it fun too. That's one of it's good points. But never the only one. Well developed, absolutely recommendable.\n",
      "\n",
      "\n",
      "Poster : https://image.tmdb.org/t/p/w500/None\n",
      "Title : Cheers\n",
      "Overview : 10 years ago, a boy abandoned his alcoholic mother. Now a man, he returns to meet her.\n",
      "\n",
      "Poster : https://image.tmdb.org/t/p/w500//6EOV65KBIpn7SNUZouLlGZmPXCo.jpg\n",
      "Title : Endless\n",
      "Overview : A visual album by American singer Frank Ocean. It follows Frank as he completes a set of spiraling stairs.\n",
      "\n",
      "\n",
      "Poster : https://image.tmdb.org/t/p/w500/None\n",
      "Title : Dangerous Odds\n",
      "Overview : A beautiful woman teams up with a dangerous bookie to form a sports betting empire.\n",
      "\n",
      "Poster : https://image.tmdb.org/t/p/w500//Aljul3iK3FoZKR3e7IayDd2yadp.jpg\n",
      "Title : Tina and Lolo\n",
      "Overview : Plot Unknown\n",
      "\n",
      "\n",
      "Poster : https://image.tmdb.org/t/p/w500/None\n",
      "Title : Stan Lee's Annihilator\n",
      "Overview : A Chinese expatriate and practicer of Qijong and martial arts receives additional training in a secret U.S. program. Now armed with remarkable powers, he looks to take down a villain bent on destroying everything he knows and loves.\n",
      "\n",
      "\n",
      "Poster : https://image.tmdb.org/t/p/w500/None\n",
      "Title : Foreverman\n",
      "Overview : Plot unknown.\n",
      "\n",
      "\n",
      "Poster : https://image.tmdb.org/t/p/w500/None\n",
      "Title : Brooklyn Bridge\n",
      "Overview : Washington Roebling, a civil engineer and son of architect, John A. Roebling, is entrusted with completing his father's famous Brooklyn Bridge.\n",
      "\n",
      "\n",
      "Poster : https://image.tmdb.org/t/p/w500/None\n",
      "Title : Marvelous Machines: Military: C-5 and C-130\n",
      "Overview : Using footage culled from the archives of the U.S. Department of Defense, this exciting, family-friendly documentary gives kids a chance to tour the C-5 Galaxy and the C-130 Hercules, two of the military's largest transport planes. From an exploration of the gargantuan turbofan engines that power these beasts to a rarely seen view from their oversize cockpits, the program offers an aviation experience like no other.\n",
      "\n",
      "Poster : https://image.tmdb.org/t/p/w500//oRpY2ZD7xnKYQqNjYBOwuhhVPo1.jpg\n",
      "Title : Only Fools and Horses - To Hull and Back\n",
      "Overview : Boycie and Abdul pitch a diamond scam to Del Boy, who immediately turns them down. That is until they offer him a £15,000 cut of the estimated £150,000 sale of the stone on the UK market. Del finds himself designated as the courier between Holland and Britain. No sooner has Del enlisted a reluctant Rodders, he hears his old foil Chief Inspector Slater is eyeing Boycie and Abdul as drug dealers. Del decides to hide undetected in the back of Denzil's van. Denzil then getting in and driving them to Hull (pursued by Rodney) was not part of the plan. Thinking quickly, they hire a boat, and let Uncle Albert guide them to Amsterdam. Overcoming counterfeit cash, Albert's amnesia, it's only the arrival of Slater that scuppers them. Despite this, it's Del who has the last laugh.\n",
      "\n",
      "Poster : https://image.tmdb.org/t/p/w500//5dUET3bhOvDJ9Pyfgp4t0yKSSPq.jpg\n",
      "Title : Hidden Colors 3: The Rules of Racism\n",
      "Overview : Filmmaker Tariq Nasheed explores the topics of race, racism, and history within the United States.\n",
      "\n",
      "Poster : https://image.tmdb.org/t/p/w500//gBSo7hRiV6d0hH1J7zZu404C1Ri.jpg\n",
      "Title : Mary Jane's Not a Virgin Anymore\n",
      "Overview : A high schooler from suburbia gets in touch with her sexuality while working at a dingy movie theater in the city.\n",
      "\n",
      "Poster : https://image.tmdb.org/t/p/w500//ml0F96YdphzPuQZrqxjaZceDwzJ.jpg\n",
      "Title : Vadh\n",
      "Overview : Dr. Arjun Singh (Nana Patekar) is a leading doctor specializing in psycology. His wife Jyoti (Anupama Verma) is much younger in age than him. Not completely fulfilled, this leads her to have an extra-marital affair with Dr. Singh's close friend. Dr. Singh inadvertently finds out about this affair, and decides to plot vengeance, so venomous that it will place his close friend, his wife, his brother, and he himself in mortal danger.\n",
      "\n",
      "Poster : https://image.tmdb.org/t/p/w500//pLrGZ3HeH8Bzv6aJobusMaDdNlO.jpg\n",
      "Title : Destiny\n",
      "Overview : Though gay-themed stories about \"coming out\" and accepting one's sexuality are not uncommon in Western countries, such tales are still rare in many conservative African nations. Considered a ground-breaking film in its native Guinea, and filmed amidst a storm of controversy, Mohamed Camara's Dakan is the first of its nations films to directly address issues surrounding homosexuality. The story centers on the romance between two 20-year-old men, Manga and Sory who are first seen making out in a car. The trouble begins when Manga tells his widowed mother about his love for Sory, who is busy contending with his outraged father. The parents insist that the two never see each other again. Manga's mother then uses witchcraft to cleanse her son and change him into a heterosexual. Time passes and eventually Manga begins to date a girl. But it soon becomes apparent that try as he might, Manga's heart belongs to Sory.\n",
      "\n",
      "Poster : https://image.tmdb.org/t/p/w500//320nrO3zOIn4s9qgrr7G1NoEhbB.jpg\n",
      "Title : Ammaa Ki Boli\n",
      "Overview : Ammaa Ki Boli is a comical genre movie directed by Narayan Chauhan and produced by Mukesh Chaudhary under the banner of Street Act Production. The story revolves around an old-aged husbandless mother, her 5 grown-up children’s and a second-rate two-seater scooter. The movie features Faruk Zafar as Ammaa in lead role, following with Priyal Patil, Govind Namdev, Sitaram Panchal, Sanjay Mishra, Hrishita Bhatt, Zakir Hussain Actor, Ishtiaq Khan, Shekhar Singh and others in their respective important roles\n",
      "\n",
      "Poster : https://image.tmdb.org/t/p/w500//pES4eUEWPjySmp6f59I3RzpEP1I.jpg\n",
      "Title : Jibon Thekey Neya\n",
      "Overview : A political satire of Bangladesh under the rule of Pakistan metaphorically, where an autocratic woman in one family symbolizes the political dictatorship of Ayub Khan in East Pakistan.\n",
      "\n",
      "\n",
      "\n",
      "Do you want more?(y/n)\n",
      "n\n"
     ]
    },
    {
     "ename": "KeyboardInterrupt",
     "evalue": "",
     "output_type": "error",
     "traceback": [
      "\u001b[1;31m---------------------------------------------------------------------------\u001b[0m",
      "\u001b[1;31mKeyboardInterrupt\u001b[0m                         Traceback (most recent call last)",
      "\u001b[1;32mC:\\Anaconda3\\lib\\site-packages\\ipykernel\\kernelbase.py\u001b[0m in \u001b[0;36m_input_request\u001b[1;34m(self, prompt, ident, parent, password)\u001b[0m\n\u001b[0;32m    729\u001b[0m             \u001b[1;32mtry\u001b[0m\u001b[1;33m:\u001b[0m\u001b[1;33m\u001b[0m\u001b[0m\n\u001b[1;32m--> 730\u001b[1;33m                 \u001b[0mident\u001b[0m\u001b[1;33m,\u001b[0m \u001b[0mreply\u001b[0m \u001b[1;33m=\u001b[0m \u001b[0mself\u001b[0m\u001b[1;33m.\u001b[0m\u001b[0msession\u001b[0m\u001b[1;33m.\u001b[0m\u001b[0mrecv\u001b[0m\u001b[1;33m(\u001b[0m\u001b[0mself\u001b[0m\u001b[1;33m.\u001b[0m\u001b[0mstdin_socket\u001b[0m\u001b[1;33m,\u001b[0m \u001b[1;36m0\u001b[0m\u001b[1;33m)\u001b[0m\u001b[1;33m\u001b[0m\u001b[0m\n\u001b[0m\u001b[0;32m    731\u001b[0m             \u001b[1;32mexcept\u001b[0m \u001b[0mException\u001b[0m\u001b[1;33m:\u001b[0m\u001b[1;33m\u001b[0m\u001b[0m\n",
      "\u001b[1;32mC:\\Anaconda3\\lib\\site-packages\\jupyter_client\\session.py\u001b[0m in \u001b[0;36mrecv\u001b[1;34m(self, socket, mode, content, copy)\u001b[0m\n\u001b[0;32m    795\u001b[0m         \u001b[1;32mtry\u001b[0m\u001b[1;33m:\u001b[0m\u001b[1;33m\u001b[0m\u001b[0m\n\u001b[1;32m--> 796\u001b[1;33m             \u001b[0mmsg_list\u001b[0m \u001b[1;33m=\u001b[0m \u001b[0msocket\u001b[0m\u001b[1;33m.\u001b[0m\u001b[0mrecv_multipart\u001b[0m\u001b[1;33m(\u001b[0m\u001b[0mmode\u001b[0m\u001b[1;33m,\u001b[0m \u001b[0mcopy\u001b[0m\u001b[1;33m=\u001b[0m\u001b[0mcopy\u001b[0m\u001b[1;33m)\u001b[0m\u001b[1;33m\u001b[0m\u001b[0m\n\u001b[0m\u001b[0;32m    797\u001b[0m         \u001b[1;32mexcept\u001b[0m \u001b[0mzmq\u001b[0m\u001b[1;33m.\u001b[0m\u001b[0mZMQError\u001b[0m \u001b[1;32mas\u001b[0m \u001b[0me\u001b[0m\u001b[1;33m:\u001b[0m\u001b[1;33m\u001b[0m\u001b[0m\n",
      "\u001b[1;32mC:\\Anaconda3\\lib\\site-packages\\zmq\\sugar\\socket.py\u001b[0m in \u001b[0;36mrecv_multipart\u001b[1;34m(self, flags, copy, track)\u001b[0m\n\u001b[0;32m    394\u001b[0m         \"\"\"\n\u001b[1;32m--> 395\u001b[1;33m         \u001b[0mparts\u001b[0m \u001b[1;33m=\u001b[0m \u001b[1;33m[\u001b[0m\u001b[0mself\u001b[0m\u001b[1;33m.\u001b[0m\u001b[0mrecv\u001b[0m\u001b[1;33m(\u001b[0m\u001b[0mflags\u001b[0m\u001b[1;33m,\u001b[0m \u001b[0mcopy\u001b[0m\u001b[1;33m=\u001b[0m\u001b[0mcopy\u001b[0m\u001b[1;33m,\u001b[0m \u001b[0mtrack\u001b[0m\u001b[1;33m=\u001b[0m\u001b[0mtrack\u001b[0m\u001b[1;33m)\u001b[0m\u001b[1;33m]\u001b[0m\u001b[1;33m\u001b[0m\u001b[0m\n\u001b[0m\u001b[0;32m    396\u001b[0m         \u001b[1;31m# have first part already, only loop while more to receive\u001b[0m\u001b[1;33m\u001b[0m\u001b[1;33m\u001b[0m\u001b[0m\n",
      "\u001b[1;32mzmq/backend/cython/socket.pyx\u001b[0m in \u001b[0;36mzmq.backend.cython.socket.Socket.recv (zmq\\backend\\cython\\socket.c:7683)\u001b[1;34m()\u001b[0m\n",
      "\u001b[1;32mzmq/backend/cython/socket.pyx\u001b[0m in \u001b[0;36mzmq.backend.cython.socket.Socket.recv (zmq\\backend\\cython\\socket.c:7460)\u001b[1;34m()\u001b[0m\n",
      "\u001b[1;32mzmq/backend/cython/socket.pyx\u001b[0m in \u001b[0;36mzmq.backend.cython.socket._recv_copy (zmq\\backend\\cython\\socket.c:2344)\u001b[1;34m()\u001b[0m\n",
      "\u001b[1;32mC:\\Anaconda3\\lib\\site-packages\\zmq\\backend\\cython\\checkrc.pxd\u001b[0m in \u001b[0;36mzmq.backend.cython.checkrc._check_rc (zmq\\backend\\cython\\socket.c:9621)\u001b[1;34m()\u001b[0m\n",
      "\u001b[1;31mKeyboardInterrupt\u001b[0m: ",
      "\nDuring handling of the above exception, another exception occurred:\n",
      "\u001b[1;31mKeyboardInterrupt\u001b[0m                         Traceback (most recent call last)",
      "\u001b[1;32m<ipython-input-44-29b342cdf343>\u001b[0m in \u001b[0;36m<module>\u001b[1;34m()\u001b[0m\n\u001b[1;32m----> 1\u001b[1;33m \u001b[0mask\u001b[0m\u001b[1;33m(\u001b[0m\u001b[1;33m)\u001b[0m\u001b[1;33m\u001b[0m\u001b[0m\n\u001b[0m",
      "\u001b[1;32m<ipython-input-43-b6a9fdf05503>\u001b[0m in \u001b[0;36mask\u001b[1;34m()\u001b[0m\n\u001b[0;32m     26\u001b[0m \u001b[1;33m\u001b[0m\u001b[0m\n\u001b[0;32m     27\u001b[0m         \u001b[0mprint\u001b[0m\u001b[1;33m(\u001b[0m\u001b[1;34m\"Do you want more?(y/n)\"\u001b[0m\u001b[1;33m)\u001b[0m\u001b[1;33m\u001b[0m\u001b[0m\n\u001b[1;32m---> 28\u001b[1;33m         \u001b[0my\u001b[0m \u001b[1;33m=\u001b[0m \u001b[0minput\u001b[0m\u001b[1;33m(\u001b[0m\u001b[1;33m)\u001b[0m\u001b[1;33m\u001b[0m\u001b[0m\n\u001b[0m\u001b[0;32m     29\u001b[0m \u001b[1;33m\u001b[0m\u001b[0m\n\u001b[0;32m     30\u001b[0m         \u001b[1;32mif\u001b[0m \u001b[0my\u001b[0m \u001b[1;33m==\u001b[0m \u001b[1;34m\"y\"\u001b[0m \u001b[1;32mor\u001b[0m \u001b[0my\u001b[0m \u001b[1;33m==\u001b[0m \u001b[1;34m\"yes\"\u001b[0m \u001b[1;32mor\u001b[0m \u001b[0my\u001b[0m \u001b[1;33m==\u001b[0m \u001b[1;34m\"Y\"\u001b[0m\u001b[1;33m:\u001b[0m\u001b[1;33m\u001b[0m\u001b[0m\n",
      "\u001b[1;32mC:\\Anaconda3\\lib\\site-packages\\ipykernel\\kernelbase.py\u001b[0m in \u001b[0;36mraw_input\u001b[1;34m(self, prompt)\u001b[0m\n\u001b[0;32m    703\u001b[0m             \u001b[0mself\u001b[0m\u001b[1;33m.\u001b[0m\u001b[0m_parent_ident\u001b[0m\u001b[1;33m,\u001b[0m\u001b[1;33m\u001b[0m\u001b[0m\n\u001b[0;32m    704\u001b[0m             \u001b[0mself\u001b[0m\u001b[1;33m.\u001b[0m\u001b[0m_parent_header\u001b[0m\u001b[1;33m,\u001b[0m\u001b[1;33m\u001b[0m\u001b[0m\n\u001b[1;32m--> 705\u001b[1;33m             \u001b[0mpassword\u001b[0m\u001b[1;33m=\u001b[0m\u001b[1;32mFalse\u001b[0m\u001b[1;33m,\u001b[0m\u001b[1;33m\u001b[0m\u001b[0m\n\u001b[0m\u001b[0;32m    706\u001b[0m         )\n\u001b[0;32m    707\u001b[0m \u001b[1;33m\u001b[0m\u001b[0m\n",
      "\u001b[1;32mC:\\Anaconda3\\lib\\site-packages\\ipykernel\\kernelbase.py\u001b[0m in \u001b[0;36m_input_request\u001b[1;34m(self, prompt, ident, parent, password)\u001b[0m\n\u001b[0;32m    733\u001b[0m             \u001b[1;32mexcept\u001b[0m \u001b[0mKeyboardInterrupt\u001b[0m\u001b[1;33m:\u001b[0m\u001b[1;33m\u001b[0m\u001b[0m\n\u001b[0;32m    734\u001b[0m                 \u001b[1;31m# re-raise KeyboardInterrupt, to truncate traceback\u001b[0m\u001b[1;33m\u001b[0m\u001b[1;33m\u001b[0m\u001b[0m\n\u001b[1;32m--> 735\u001b[1;33m                 \u001b[1;32mraise\u001b[0m \u001b[0mKeyboardInterrupt\u001b[0m\u001b[1;33m\u001b[0m\u001b[0m\n\u001b[0m\u001b[0;32m    736\u001b[0m             \u001b[1;32melse\u001b[0m\u001b[1;33m:\u001b[0m\u001b[1;33m\u001b[0m\u001b[0m\n\u001b[0;32m    737\u001b[0m                 \u001b[1;32mbreak\u001b[0m\u001b[1;33m\u001b[0m\u001b[0m\n",
      "\u001b[1;31mKeyboardInterrupt\u001b[0m: "
     ]
    }
   ],
   "source": [
    "ask()"
   ]
  },
  {
   "cell_type": "code",
   "execution_count": null,
   "metadata": {
    "collapsed": true
   },
   "outputs": [],
   "source": []
  }
 ],
 "metadata": {
  "kernelspec": {
   "display_name": "Python 3",
   "language": "python",
   "name": "python3"
  },
  "language_info": {
   "codemirror_mode": {
    "name": "ipython",
    "version": 3
   },
   "file_extension": ".py",
   "mimetype": "text/x-python",
   "name": "python",
   "nbconvert_exporter": "python",
   "pygments_lexer": "ipython3",
   "version": "3.6.3"
  }
 },
 "nbformat": 4,
 "nbformat_minor": 2
}

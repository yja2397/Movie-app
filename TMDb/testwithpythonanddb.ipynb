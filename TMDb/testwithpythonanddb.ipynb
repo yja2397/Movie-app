{
 "cells": [
  {
   "cell_type": "code",
   "execution_count": 1,
   "metadata": {
    "collapsed": true
   },
   "outputs": [],
   "source": [
    "import httplib2\n",
    "import json\n",
    "import urllib.request\n",
    "import pymysql\n",
    "from konlpy.tag import Okt\n",
    "from collections import Counter\n",
    "\n",
    "h = httplib2.Http()\n",
    "okt = Okt()"
   ]
  },
  {
   "cell_type": "code",
   "execution_count": null,
   "metadata": {
    "collapsed": true
   },
   "outputs": [],
   "source": []
  },
  {
   "cell_type": "code",
   "execution_count": null,
   "metadata": {
    "collapsed": true
   },
   "outputs": [],
   "source": []
  },
  {
   "cell_type": "code",
   "execution_count": 2,
   "metadata": {
    "collapsed": true
   },
   "outputs": [],
   "source": [
    "# api_ex recives discover of movie's information.\n",
    "\n",
    "def make_result(api_ex):\n",
    "    url = 'https://api.themoviedb.org/3/discover/movie'\n",
    "    mykey = '?api_key=ff3bedd3d47493bf66e799c508aba82a'\n",
    "    city = '&language=en-US'\n",
    "    myrequest = url + mykey + city + api_ex\n",
    "    response, content = h.request(myrequest, 'GET')\n",
    "    resulta = json.loads(content.decode('utf-8'))\n",
    "    \n",
    "    return resulta"
   ]
  },
  {
   "cell_type": "code",
   "execution_count": 3,
   "metadata": {
    "collapsed": true
   },
   "outputs": [],
   "source": [
    "# api_id recieves ip id of moive\n",
    "\n",
    "def make_result_id(api_id):\n",
    "    url = 'https://api.themoviedb.org/3/discover/movie'\n",
    "    mykey = '?api_key=ff3bedd3d47493bf66e799c508aba82a'\n",
    "    city = '&language=en-US'\n",
    "    myrequest = url + str(api_id) + mykey + city\n",
    "    response, content = h.request(myrequest, 'GET')\n",
    "    resulta = json.loads(content.decode('utf-8'))\n",
    "    \n",
    "    return resulta"
   ]
  },
  {
   "cell_type": "code",
   "execution_count": 4,
   "metadata": {
    "collapsed": true
   },
   "outputs": [],
   "source": [
    "# show results of lists what have many results of movie.\n",
    "\n",
    "def info_list(result):\n",
    "    \n",
    "    resultset = []\n",
    "    \n",
    "    if result['total_results'] > 20:\n",
    "        times = 19\n",
    "    else:\n",
    "        times = result['total_results']-1\n",
    "    for num in range(0, times):\n",
    "        poster = result['results'][num]['poster_path'] # https://codevkr.tistory.com/36?category=705611\n",
    "        poster_name = str(poster).replace('/','')\n",
    "        base_url = 'https://image.tmdb.org/t/p/'\n",
    "        file_size = 'w500/'\n",
    "        poster = base_url + file_size + str(poster)\n",
    "        try:\n",
    "            urllib.request.urlretrieve(str(poster),'./img/'+ poster_name)\n",
    "        except urllib.error.HTTPError as err:\n",
    "            print()\n",
    "        title = result['results'][num]['title']\n",
    "        api_id = result['results'][num]['id']\n",
    "        overview = result['results'][num]['overview']\n",
    "        \n",
    "        poster2 = \"(Poster : \"+str(poster)+\")\"\n",
    "        resultset.append(poster2)\n",
    "        title2 = \"(Title : \"+str(title)+\")\"\n",
    "        resultset.append(title2)\n",
    "        if 'genres' in result['results'][num].keys():\n",
    "            genre = result['results'][num]['genres'][0]['name']\n",
    "            genre2 = \"(Genre : \"+str(genre)+\")\"\n",
    "            resultset.append(genre2)\n",
    "        #overview2 = \"(Overview : \"+str(overview)+\")\"\n",
    "        #sql = 'insert into tmdb values (%s)'\n",
    "        #curs.execute(sql, overview2)\n",
    "        print()\n",
    "        \n",
    "    return resultset"
   ]
  },
  {
   "cell_type": "code",
   "execution_count": 5,
   "metadata": {
    "collapsed": true
   },
   "outputs": [],
   "source": [
    "def searchInfo(title, pages):\n",
    "    \n",
    "    resultset = []\n",
    "    url = 'https://api.themoviedb.org/3/search/company'\n",
    "    myapi = '?api_key=ff3bedd3d47493bf66e799c508aba82a'\n",
    "    query = '&query='\n",
    "    page = '&page='\n",
    "    sort = '&sort_by=popularity.desc'\n",
    "    myrequest = url + myapi+ sort + page+str(pages)+query + title\n",
    "    response, content = h.request(myrequest, 'GET')\n",
    "    result = json.loads(content.decode('utf-8'))\n",
    "    if result['total_results'] < 19:\n",
    "        total_result = result['total_results']\n",
    "    else:\n",
    "        total_result = 19\n",
    "    \n",
    "    for num in range(0, total_result):\n",
    "        print(result['results'][num]['name'])\n",
    "        resultset.append(name2)\n",
    "    \n",
    "    if result['total_results'] > 19:\n",
    "        print(\"Do you want more about \"+title+\"?(y/n)\")\n",
    "        y = str(input())\n",
    "        if y == \"y\" or y == \"yes\" or y == \"Y\":\n",
    "            searchInfo(title, pages+1)\n",
    "    \n",
    "    return resultset"
   ]
  },
  {
   "cell_type": "code",
   "execution_count": 6,
   "metadata": {
    "collapsed": true
   },
   "outputs": [],
   "source": [
    "def recentMovie():\n",
    "    from datetime import datetime\n",
    "\n",
    "    year = datetime.today().year\n",
    "\n",
    "    month = datetime.today().month\n",
    "\n",
    "    day = datetime.today().day\n",
    "    \n",
    "    if month == 1:\n",
    "        monthL = 12\n",
    "    else:\n",
    "        monthL = month - 1\n",
    "    \n",
    "    \n",
    "    return info_list(make_result('&primary_release_date.gte='+str(year)+'-'+str(monthL)+'-01&primary_release_date.lte='+str(year)+'-'+str(month)+'-'+str(day)+''))"
   ]
  },
  {
   "cell_type": "code",
   "execution_count": 7,
   "metadata": {
    "collapsed": true
   },
   "outputs": [],
   "source": [
    "def popularMovie():\n",
    "    return info_list(make_result('?certification_country=US&certification=R&sort_by=vote_average.desc'))"
   ]
  },
  {
   "cell_type": "code",
   "execution_count": 8,
   "metadata": {
    "collapsed": true
   },
   "outputs": [],
   "source": [
    "def genreMovie():\n",
    "    print(\"What kind of Genre do you want?\")\n",
    "    \n",
    "    print(\"1. Action | 2. Adventure | 3. Animation | 4. Comedy | 5. Crime | 6. Documentary\")\n",
    "    print(\"7. Drama | 8. Family |9. Fantasy | 10. History | 11. Horror | 12. Music\")\n",
    "    print(\"13. Mystery | 14. Romance | 15. Science Fiction | 16. TV Movie | 17. Thriller | 18. War | 19. Western\")\n",
    "    \n",
    "    x = int(input())\n",
    "    print()\n",
    "    \n",
    "    if x == 1:\n",
    "        return info_list(make_result('?with_genres=28&sort_by=vote_average.desc&vote_count.gte=10'))\n",
    "    elif x == 2:\n",
    "        return info_list(make_result('?with_genres=12&sort_by=vote_average.desc&vote_count.gte=10'))\n",
    "    elif x == 3:\n",
    "        return info_list(make_result('?with_genres=16&sort_by=vote_average.desc&vote_count.gte=10'))\n",
    "    elif x == 4:\n",
    "        return info_list(make_result('?with_genres=35&sort_by=vote_average.desc&vote_count.gte=10'))\n",
    "    elif x == 5:\n",
    "        return info_list(make_result('?with_genres=80&sort_by=vote_average.desc&vote_count.gte=10'))\n",
    "    elif x == 6:\n",
    "        return info_list(make_result('?with_genres=99&sort_by=vote_average.desc&vote_count.gte=10'))\n",
    "    elif x == 7:\n",
    "        return info_list(make_result('?with_genres=18&sort_by=vote_average.desc&vote_count.gte=10'))\n",
    "    elif x == 8:\n",
    "        return info_list(make_result('?with_genres=10751&sort_by=vote_average.desc&vote_count.gte=10'))\n",
    "    elif x == 9:\n",
    "        return info_list(make_result('?with_genres=14&sort_by=vote_average.desc&vote_count.gte=10'))\n",
    "    elif x == 10:\n",
    "        return info_list(make_result('?with_genres=36&sort_by=vote_average.desc&vote_count.gte=10'))\n",
    "    elif x == 11:\n",
    "        return info_list(make_result('?with_genres=27&sort_by=vote_average.desc&vote_count.gte=10'))\n",
    "    elif x == 12:\n",
    "        return info_list(make_result('?with_genres=10402&sort_by=vote_average.desc&vote_count.gte=10'))\n",
    "    elif x == 13:\n",
    "        return info_list(make_result('?with_genres=9648&sort_by=vote_average.desc&vote_count.gte=10'))\n",
    "    elif x == 14:\n",
    "        return info_list(make_result('?with_genres=10749&sort_by=vote_average.desc&vote_count.gte=10'))\n",
    "    elif x == 15:\n",
    "        return info_list(make_result('?with_genres=878&sort_by=vote_average.desc&vote_count.gte=10'))\n",
    "    elif x == 16:\n",
    "        return info_list(make_result('?with_genres=10770&sort_by=vote_average.desc&vote_count.gte=10'))\n",
    "    elif x == 17:\n",
    "        return info_list(make_result('?with_genres=53&sort_by=vote_average.desc&vote_count.gte=10'))\n",
    "    elif x == 18:\n",
    "        return info_list(make_result('?with_genres=10752&sort_by=vote_average.desc&vote_count.gte=10'))\n",
    "    elif x == 19:\n",
    "        return info_list(make_result('?with_genres=37&sort_by=vote_average.desc&vote_count.gte=10'))\n",
    "    else:\n",
    "        print(\"wrong input\")"
   ]
  },
  {
   "cell_type": "code",
   "execution_count": 9,
   "metadata": {
    "collapsed": true
   },
   "outputs": [],
   "source": [
    "def yearMovie():\n",
    "    from datetime import datetime\n",
    "    \n",
    "    print(\"When do you want to see a movie that opened in years?\")\n",
    "    print()\n",
    "    \n",
    "    x = int(input())\n",
    "    print()\n",
    "    \n",
    "    year = datetime.today().year\n",
    "    \n",
    "    if(x > year):\n",
    "        print(\"wrong input\")\n",
    "    else:\n",
    "        return info_list(make_result('&primary_release_year='+str(x)+'&sort_by=vote_average.desc'))"
   ]
  },
  {
   "cell_type": "code",
   "execution_count": 10,
   "metadata": {
    "collapsed": true
   },
   "outputs": [],
   "source": [
    "def searchMovie():\n",
    "    print(\"Find the movie with Title :\")\n",
    "    x = str(input())\n",
    "    \n",
    "    return searchInfo(x, 1)"
   ]
  },
  {
   "cell_type": "code",
   "execution_count": 11,
   "metadata": {
    "collapsed": true
   },
   "outputs": [],
   "source": [
    "def dialog(sentence):\n",
    "    sentences_tag = []\n",
    "    noun_list = []\n",
    "    morph = okt.pos(sentence)\n",
    "    sentences_tag.append(morph)\n",
    "    \n",
    "    for sentence1 in sentences_tag:\n",
    "        for word, tag in sentence1:\n",
    "            if tag in ['Noun']:\n",
    "                noun_list.append(word)\n",
    "    \n",
    "    success = 0\n",
    "    \n",
    "    for word in noun_list:\n",
    "        if word == '최근':\n",
    "            success = 1\n",
    "            return recentMovie()\n",
    "            break\n",
    "        elif word == '인기' or word == '추천':\n",
    "            for word2 in noun_list:\n",
    "                genre = 0\n",
    "                if word2 == \"중\":\n",
    "                    genre = 1\n",
    "                    break\n",
    "            if genre == 1:\n",
    "                success = 1\n",
    "                return genreMovie()\n",
    "            else:\n",
    "                success = 1\n",
    "                return popularMovie()\n",
    "        elif word == '개봉':\n",
    "            success = 1\n",
    "            return yearMovie()\n",
    "            break\n",
    "        elif word == '검색':\n",
    "            success = 1\n",
    "            return searchMovie()\n",
    "            break\n",
    "    if success == 0:\n",
    "        print(\"Wrong input\")\n",
    "        print(\"Do you want manual?\")\n",
    "        y = input()\n",
    "        \n",
    "        if y == \"y\" or y == \"yes\" or y == \"Y\":\n",
    "            return ask()"
   ]
  },
  {
   "cell_type": "code",
   "execution_count": null,
   "metadata": {
    "collapsed": true
   },
   "outputs": [],
   "source": []
  },
  {
   "cell_type": "code",
   "execution_count": 12,
   "metadata": {
    "collapsed": true
   },
   "outputs": [],
   "source": [
    "def ask():\n",
    "        print(\"What are you looking for?\")\n",
    "        print()\n",
    "        print(\"1. Recent Movie  |  2. Popular Movie  |  3. Movie Recommendation(genre)  |  4. Movie Recommendation(year)  |  5. Search(Movie title)\")\n",
    "        x = int(input())\n",
    "        print()\n",
    "    \n",
    "        if x == 1:\n",
    "            return recentMovie()\n",
    "        elif x == 2:\n",
    "            return popularMovie()\n",
    "        elif x == 3:\n",
    "            return genreMovie()\n",
    "        elif x == 4:\n",
    "            return yearMovie()\n",
    "        elif x == 5:\n",
    "            return searchMovie()\n",
    "        else:\n",
    "            print(\"Wrong input\")\n",
    "        \n",
    "        print()\n",
    "        print()"
   ]
  },
  {
   "cell_type": "code",
   "execution_count": 17,
   "metadata": {
    "collapsed": true
   },
   "outputs": [],
   "source": [
    "def movieApp():\n",
    "    print(\"Welcome.\")\n",
    "    print(\"If you input the sentence with specific keyword, I can find the movie.\")\n",
    "    print()\n",
    "    conn = pymysql.connect(host = 'localhost', user = 'root', password='0726', db = 'tmdb', charset='utf8')\n",
    "    curs = conn.cursor()\n",
    "\n",
    "    while True:    \n",
    "        print(\"What are you looking for?\")\n",
    "        print(\"Do you wonder what I can do? Then press A\")\n",
    "        x = input()\n",
    "        print()\n",
    "        print()\n",
    "        \n",
    "        resultset = []\n",
    "        if x == \"a\" or x == \"A\":\n",
    "            resultset = ask()\n",
    "        else:\n",
    "            resultset = dialog(x)\n",
    "        \n",
    "        for result in resultset:\n",
    "            query = 'INSERT INTO tmdb VALUES (%s)'\n",
    "            curs.execute(query, result)\n",
    "        \n",
    "        query = 'SELECT * FROM tmdb'\n",
    "        curs.execute(query)\n",
    "        \n",
    "        rows = curs.fetchall()\n",
    "        print(rows)\n",
    "        print(\"Do you want more?(y/n)\")\n",
    "        y = input()\n",
    "        \n",
    "        if y == \"y\" or y == \"yes\" or y == \"Y\":\n",
    "            print()\n",
    "        else:\n",
    "            conn.close()\n",
    "            break"
   ]
  },
  {
   "cell_type": "code",
   "execution_count": 18,
   "metadata": {},
   "outputs": [
    {
     "name": "stdout",
     "output_type": "stream",
     "text": [
      "Welcome.\n",
      "If you input the sentence with specific keyword, I can find the movie.\n",
      "\n",
      "What are you looking for?\n",
      "Do you wonder what I can do? Then press A\n",
      "영화 추천\n",
      "\n",
      "\n",
      "\n",
      "\n",
      "\n",
      "\n",
      "\n",
      "\n",
      "\n",
      "\n",
      "\n",
      "\n",
      "\n",
      "\n",
      "\n",
      "\n",
      "\n",
      "\n",
      "\n",
      "\n",
      "\n",
      "\n",
      "\n",
      "\n",
      "\n",
      "\n",
      "\n",
      "(('좋은 아침',), ('(Poster : https://image.tmdb.org/t/p/w500//2YAu2ctaxVGisdbmbbG35LXpQNp.jpg)',), ('(Title : Fast Color)',), ('(Poster : https://image.tmdb.org/t/p/w500//g1tSdTXWv0iKDAXbrIfnFa7vgl4.jpg)',), ('(Title : Love on a Leash)',), ('(Poster : https://image.tmdb.org/t/p/w500//WK9ehj4nEMvJNmFaWgll54v9yL.jpg)',), (\"(Title : So, What's Your Price?)\",), ('(Poster : https://image.tmdb.org/t/p/w500/None)',), ('(Title : Cheers)',), ('(Poster : https://image.tmdb.org/t/p/w500//6EOV65KBIpn7SNUZouLlGZmPXCo.jpg)',), ('(Title : Endless)',), ('(Poster : https://image.tmdb.org/t/p/w500/None)',), ('(Title : Dangerous Odds)',), ('(Poster : https://image.tmdb.org/t/p/w500//Aljul3iK3FoZKR3e7IayDd2yadp.jpg)',), ('(Title : Tina and Lolo)',), ('(Poster : https://image.tmdb.org/t/p/w500/None)',), (\"(Title : Stan Lee's Annihilator)\",), ('(Poster : https://image.tmdb.org/t/p/w500/None)',), ('(Title : Foreverman)',), ('(Poster : https://image.tmdb.org/t/p/w500/None)',), ('(Title : Brooklyn Bridge)',), ('(Poster : https://image.tmdb.org/t/p/w500/None)',), ('(Title : Marvelous Machines: Military: C-5 and C-130)',), ('(Poster : https://image.tmdb.org/t/p/w500//oRpY2ZD7xnKYQqNjYBOwuhhVPo1.jpg)',), ('(Title : Only Fools and Horses - To Hull and Back)',), ('(Poster : https://image.tmdb.org/t/p/w500//5dUET3bhOvDJ9Pyfgp4t0yKSSPq.jpg)',), ('(Title : Hidden Colors 3: The Rules of Racism)',), ('(Poster : https://image.tmdb.org/t/p/w500//gBSo7hRiV6d0hH1J7zZu404C1Ri.jpg)',), (\"(Title : Mary Jane's Not a Virgin Anymore)\",), ('(Poster : https://image.tmdb.org/t/p/w500//ml0F96YdphzPuQZrqxjaZceDwzJ.jpg)',), ('(Title : Vadh)',), ('(Poster : https://image.tmdb.org/t/p/w500//pLrGZ3HeH8Bzv6aJobusMaDdNlO.jpg)',), ('(Title : Destiny)',), ('(Poster : https://image.tmdb.org/t/p/w500//320nrO3zOIn4s9qgrr7G1NoEhbB.jpg)',), ('(Title : Ammaa Ki Boli)',), ('(Poster : https://image.tmdb.org/t/p/w500//pES4eUEWPjySmp6f59I3RzpEP1I.jpg)',), ('(Title : Jibon Thekey Neya)',), ('(Poster : https://image.tmdb.org/t/p/w500//ghtt7AjNRY9QqC3usz6xEmsyXll.jpg)',), ('(Title : Truth and Justice)',))\n",
      "Do you want more?(y/n)\n",
      "n\n"
     ]
    }
   ],
   "source": [
    "movieApp()"
   ]
  },
  {
   "cell_type": "code",
   "execution_count": null,
   "metadata": {
    "collapsed": true
   },
   "outputs": [],
   "source": []
  }
 ],
 "metadata": {
  "kernelspec": {
   "display_name": "Python 3",
   "language": "python",
   "name": "python3"
  }
 },
 "nbformat": 4,
 "nbformat_minor": 2
}

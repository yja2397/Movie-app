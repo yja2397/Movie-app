{
 "cells": [
  {
   "cell_type": "code",
   "execution_count": 4,
   "metadata": {},
   "outputs": [],
   "source": [
    "from bs4 import BeautifulSoup\n",
    "from selenium import webdriver"
   ]
  },
  {
   "cell_type": "code",
   "execution_count": 14,
   "metadata": {},
   "outputs": [
    {
     "name": "stdout",
     "output_type": "stream",
     "text": [
      "<!DOCTYPE html>\n",
      "<html lang=\"kor\">\n",
      "<head>\n",
      "    <meta charset=\"UTF-8\">\n",
      "    <title>Test app</title>\n",
      "    <link href=\"index.css\" type=\"text/css\" rel=\"stylesheet\">\n",
      "    <script src=\"index.js\"></script>\n",
      "</head>\n",
      "<body>\n",
      "<!--첫 화면.-->\n",
      "<header>\n",
      "    Recommend movie test\n",
      "    <button class=\"circle\" onclick=\"first()\">First?</button>\n",
      "</header>\n",
      "<nav>\n",
      "</nav>\n",
      "<article>\n",
      "    <div class=\"chat-window\" >\n",
      "        <div class=\"conversation-view\">\n",
      "            <div class=\"chat-bubble me\"><span class=\"chat-content\">인기 있는 영화</span></div>\n",
      "            <div class=\"chat-bubble\"><span class=\"chat-content\">요즘 인기 있는 영화입니다.</span></div>\n",
      "            <div class=\"chat-bubble\">\n",
      "                <span class=\"chat-content\">\n",
      "                    <div class=\"movie\">\n",
      "                        <img src=\"img/2YAu2ctaxVGisdbmbbG35LXpQNp.jpg\"><br>\n",
      "                        Fast Color\n",
      "                    </div>\n",
      "                    <div class=\"movie\">\n",
      "                        <img src=\"img/2oa5oLm4FfjxvasKAW07wTrQ7Ow.jpg\"><br>\n",
      "                        Memories of My Body\n",
      "                    </div>\n",
      "                    <div class=\"movie\">\n",
      "                        <img src=\"img/o6oaiuJpfLDaGgu5TDW10dPxL0x.jpg\"><br>\n",
      "                        Murder Me, Monster\n",
      "                    </div>\n",
      "                </span>\n",
      "            </div>\n",
      "            <div class=\"chat-bubble\"><span class=\"chat-content\">더 알아보시겠습니까?</span></div>\n",
      "            <div class=\"chat-bubble me\"><span class=\"chat-content\">더 보여줘</span></div>\n",
      "            <div class=\"chat-bubble\">\n",
      "                <span class=\"chat-content\">\n",
      "                    <div class=\"movie\">\n",
      "                        <img src=\"img/g1tSdTXWv0iKDAXbrIfnFa7vgl4.jpg\"><br>\n",
      "                        Love on a Leash\n",
      "                    </div>\n",
      "                    <div class=\"movie\">\n",
      "                        <img src=\"img/WK9ehj4nEMvJNmFaWgll54v9yL.jpg\"><br>\n",
      "                        So, What's Your Price?\n",
      "                    </div>\n",
      "                    <div class=\"movie\">\n",
      "                        <img src=\"img/6EOV65KBIpn7SNUZouLlGZmPXCo.jpg\"><br>\n",
      "                        Endless\n",
      "                    </div>\n",
      "                </span>\n",
      "            </div>\n",
      "        </div>\n",
      "        <div class=\"message-box\">\n",
      "            <form name=\"form\" onsubmit=\"return false;\">\n",
      "                <input onkeyup=\"enterkey();\" name=\"quest\" class=\"text-input\" type=\"text\" autofocus placeholder=\"어떤 영화든 물어만 보세요!\" />\n",
      "                <input type=\"button\" class=\"text-submit\" value=\"전송\" onclick=\"Quest()\">\n",
      "            </form>\n",
      "        </div>\n",
      "    </div>\n",
      "</article>\n",
      "<footer>\n",
      "</footer>\n",
      "<script src=\"index.js\"></script>\n",
      "</body>\n",
      "</html>\n"
     ]
    }
   ],
   "source": [
    "file1 = open('index.html', 'r', encoding='utf-8')\n",
    "text = file1.read()\n",
    "print(text)\n",
    "file1.close()\n"
   ]
  },
  {
   "cell_type": "code",
   "execution_count": null,
   "metadata": {
    "collapsed": true
   },
   "outputs": [],
   "source": []
  }
 ],
 "metadata": {
  "kernelspec": {
   "display_name": "Python 3",
   "language": "python",
   "name": "python3"
  },
  "language_info": {
   "codemirror_mode": {
    "name": "ipython",
    "version": 3
   },
   "file_extension": ".py",
   "mimetype": "text/x-python",
   "name": "python",
   "nbconvert_exporter": "python",
   "pygments_lexer": "ipython3",
   "version": "3.6.3"
  }
 },
 "nbformat": 4,
 "nbformat_minor": 2
}
